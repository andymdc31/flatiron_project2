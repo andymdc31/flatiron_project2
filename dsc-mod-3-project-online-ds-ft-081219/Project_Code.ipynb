{
 "cells": [
  {
   "cell_type": "markdown",
   "metadata": {
    "toc": true
   },
   "source": [
    "<h1>Table of Contents<span class=\"tocSkip\"></span></h1>\n",
    "<div class=\"toc\"><ul class=\"toc-item\"><li><span><a href=\"#Things-left-to-do\" data-toc-modified-id=\"Things-left-to-do-1\"><span class=\"toc-item-num\">1&nbsp;&nbsp;</span>Things left to do</a></span></li><li><span><a href=\"#Import-Libraries\" data-toc-modified-id=\"Import-Libraries-2\"><span class=\"toc-item-num\">2&nbsp;&nbsp;</span>Import Libraries</a></span></li><li><span><a href=\"#Functions\" data-toc-modified-id=\"Functions-3\"><span class=\"toc-item-num\">3&nbsp;&nbsp;</span>Functions</a></span></li><li><span><a href=\"#First-Question:-Does-discount-amount-have-a-statistically-significant-effect-on-the-quantity-of-a-product-in-an-order?-If-so,-at-what-level(s)-of-discount?\" data-toc-modified-id=\"First-Question:-Does-discount-amount-have-a-statistically-significant-effect-on-the-quantity-of-a-product-in-an-order?-If-so,-at-what-level(s)-of-discount?-4\"><span class=\"toc-item-num\">4&nbsp;&nbsp;</span>First Question: Does discount amount have a statistically significant effect on the quantity of a product in an order? If so, at what level(s) of discount?</a></span><ul class=\"toc-item\"><li><span><a href=\"#Hypotheses:\" data-toc-modified-id=\"Hypotheses:-4.1\"><span class=\"toc-item-num\">4.1&nbsp;&nbsp;</span>Hypotheses:</a></span></li><li><span><a href=\"#Explore-Data\" data-toc-modified-id=\"Explore-Data-4.2\"><span class=\"toc-item-num\">4.2&nbsp;&nbsp;</span>Explore Data</a></span><ul class=\"toc-item\"><li><span><a href=\"#Observations-of-Discount\" data-toc-modified-id=\"Observations-of-Discount-4.2.1\"><span class=\"toc-item-num\">4.2.1&nbsp;&nbsp;</span>Observations of Discount</a></span></li><li><span><a href=\"#Observations-of-Quantity-(The-dependant-variable)\" data-toc-modified-id=\"Observations-of-Quantity-(The-dependant-variable)-4.2.2\"><span class=\"toc-item-num\">4.2.2&nbsp;&nbsp;</span>Observations of Quantity (The dependant variable)</a></span></li></ul></li><li><span><a href=\"#Run-Anova-Test\" data-toc-modified-id=\"Run-Anova-Test-4.3\"><span class=\"toc-item-num\">4.3&nbsp;&nbsp;</span>Run Anova Test</a></span><ul class=\"toc-item\"><li><span><a href=\"#The-Null-Hypothesis-is-Rejected\" data-toc-modified-id=\"The-Null-Hypothesis-is-Rejected-4.3.1\"><span class=\"toc-item-num\">4.3.1&nbsp;&nbsp;</span>The Null Hypothesis is Rejected</a></span></li></ul></li><li><span><a href=\"#Find-the-Effect-Size-of-Discount\" data-toc-modified-id=\"Find-the-Effect-Size-of-Discount-4.4\"><span class=\"toc-item-num\">4.4&nbsp;&nbsp;</span>Find the Effect Size of Discount</a></span><ul class=\"toc-item\"><li><span><a href=\"#Observations\" data-toc-modified-id=\"Observations-4.4.1\"><span class=\"toc-item-num\">4.4.1&nbsp;&nbsp;</span>Observations</a></span></li><li><span><a href=\"#Observations:\" data-toc-modified-id=\"Observations:-4.4.2\"><span class=\"toc-item-num\">4.4.2&nbsp;&nbsp;</span>Observations:</a></span></li></ul></li><li><span><a href=\"#Test-Each-Discount-Level-against-the-Control\" data-toc-modified-id=\"Test-Each-Discount-Level-against-the-Control-4.5\"><span class=\"toc-item-num\">4.5&nbsp;&nbsp;</span>Test Each Discount Level against the Control</a></span><ul class=\"toc-item\"><li><span><a href=\"#Observations:\" data-toc-modified-id=\"Observations:-4.5.1\"><span class=\"toc-item-num\">4.5.1&nbsp;&nbsp;</span>Observations:</a></span></li><li><span><a href=\"#Find-effect-size-and-power-of-each-level\" data-toc-modified-id=\"Find-effect-size-and-power-of-each-level-4.5.2\"><span class=\"toc-item-num\">4.5.2&nbsp;&nbsp;</span>Find effect size and power of each level</a></span><ul class=\"toc-item\"><li><span><a href=\"#Discount-of-5%\" data-toc-modified-id=\"Discount-of-5%-4.5.2.1\"><span class=\"toc-item-num\">4.5.2.1&nbsp;&nbsp;</span>Discount of 5%</a></span></li><li><span><a href=\"#Discount-of-10%\" data-toc-modified-id=\"Discount-of-10%-4.5.2.2\"><span class=\"toc-item-num\">4.5.2.2&nbsp;&nbsp;</span>Discount of 10%</a></span></li><li><span><a href=\"#Discount-of-15%\" data-toc-modified-id=\"Discount-of-15%-4.5.2.3\"><span class=\"toc-item-num\">4.5.2.3&nbsp;&nbsp;</span>Discount of 15%</a></span></li><li><span><a href=\"#Discount-20%\" data-toc-modified-id=\"Discount-20%-4.5.2.4\"><span class=\"toc-item-num\">4.5.2.4&nbsp;&nbsp;</span>Discount 20%</a></span></li><li><span><a href=\"#Discount-of-25%\" data-toc-modified-id=\"Discount-of-25%-4.5.2.5\"><span class=\"toc-item-num\">4.5.2.5&nbsp;&nbsp;</span>Discount of 25%</a></span></li></ul></li></ul></li><li><span><a href=\"#Business-Analysis\" data-toc-modified-id=\"Business-Analysis-4.6\"><span class=\"toc-item-num\">4.6&nbsp;&nbsp;</span>Business Analysis</a></span></li></ul></li><li><span><a href=\"#Second-Question:-Do-US-employees-sell-significantly-more-than-UK-employees?\" data-toc-modified-id=\"Second-Question:-Do-US-employees-sell-significantly-more-than-UK-employees?-5\"><span class=\"toc-item-num\">5&nbsp;&nbsp;</span>Second Question: Do US employees sell significantly more than UK employees?</a></span><ul class=\"toc-item\"><li><span><a href=\"#Hypotheses:\" data-toc-modified-id=\"Hypotheses:-5.1\"><span class=\"toc-item-num\">5.1&nbsp;&nbsp;</span>Hypotheses:</a></span></li><li><span><a href=\"#Explore-the-data\" data-toc-modified-id=\"Explore-the-data-5.2\"><span class=\"toc-item-num\">5.2&nbsp;&nbsp;</span>Explore the data</a></span><ul class=\"toc-item\"><li><span><a href=\"#Observations:\" data-toc-modified-id=\"Observations:-5.2.1\"><span class=\"toc-item-num\">5.2.1&nbsp;&nbsp;</span>Observations:</a></span></li></ul></li><li><span><a href=\"#Run-ANOVA-test\" data-toc-modified-id=\"Run-ANOVA-test-5.3\"><span class=\"toc-item-num\">5.3&nbsp;&nbsp;</span>Run ANOVA test</a></span></li><li><span><a href=\"#Results:-The-Null-Hypothesis-is-NOT-rejected.\" data-toc-modified-id=\"Results:-The-Null-Hypothesis-is-NOT-rejected.-5.4\"><span class=\"toc-item-num\">5.4&nbsp;&nbsp;</span>Results: The Null Hypothesis is NOT rejected.</a></span></li><li><span><a href=\"#Get-rid-of-outliers-and-run-ANOVA-test-again-just-to-be-sure\" data-toc-modified-id=\"Get-rid-of-outliers-and-run-ANOVA-test-again-just-to-be-sure-5.5\"><span class=\"toc-item-num\">5.5&nbsp;&nbsp;</span>Get rid of outliers and run ANOVA test again just to be sure</a></span><ul class=\"toc-item\"><li><span><a href=\"#Observations:\" data-toc-modified-id=\"Observations:-5.5.1\"><span class=\"toc-item-num\">5.5.1&nbsp;&nbsp;</span>Observations:</a></span></li></ul></li><li><span><a href=\"#Plot-Each-Country-Against-itself\" data-toc-modified-id=\"Plot-Each-Country-Against-itself-5.6\"><span class=\"toc-item-num\">5.6&nbsp;&nbsp;</span>Plot Each Country Against itself</a></span><ul class=\"toc-item\"><li><span><a href=\"#Observations:\" data-toc-modified-id=\"Observations:-5.6.1\"><span class=\"toc-item-num\">5.6.1&nbsp;&nbsp;</span>Observations:</a></span></li></ul></li><li><span><a href=\"#Business-Analysis\" data-toc-modified-id=\"Business-Analysis-5.7\"><span class=\"toc-item-num\">5.7&nbsp;&nbsp;</span>Business Analysis</a></span></li></ul></li><li><span><a href=\"#Third-Question:-Does-an-employees-age-have-a-statistically-signifiant-effect-on-order-totals\" data-toc-modified-id=\"Third-Question:-Does-an-employees-age-have-a-statistically-signifiant-effect-on-order-totals-6\"><span class=\"toc-item-num\">6&nbsp;&nbsp;</span>Third Question: Does an employees age have a statistically signifiant effect on order totals</a></span><ul class=\"toc-item\"><li><span><a href=\"#Hypotheses:\" data-toc-modified-id=\"Hypotheses:-6.1\"><span class=\"toc-item-num\">6.1&nbsp;&nbsp;</span>Hypotheses:</a></span></li><li><span><a href=\"#Explore-data\" data-toc-modified-id=\"Explore-data-6.2\"><span class=\"toc-item-num\">6.2&nbsp;&nbsp;</span>Explore data</a></span></li><li><span><a href=\"#Observations:\" data-toc-modified-id=\"Observations:-6.3\"><span class=\"toc-item-num\">6.3&nbsp;&nbsp;</span>Observations:</a></span></li><li><span><a href=\"#Remove-outliers-and-run-anova-again\" data-toc-modified-id=\"Remove-outliers-and-run-anova-again-6.4\"><span class=\"toc-item-num\">6.4&nbsp;&nbsp;</span>Remove outliers and run anova again</a></span><ul class=\"toc-item\"><li><span><a href=\"#Observations:\" data-toc-modified-id=\"Observations:-6.4.1\"><span class=\"toc-item-num\">6.4.1&nbsp;&nbsp;</span>Observations:</a></span></li></ul></li><li><span><a href=\"#Business-Analysis:\" data-toc-modified-id=\"Business-Analysis:-6.5\"><span class=\"toc-item-num\">6.5&nbsp;&nbsp;</span>Business Analysis:</a></span></li></ul></li><li><span><a href=\"#Fourth-Question:-Do-countries-shipped-to-have-a-statistically-significant-effect-on-discounts\" data-toc-modified-id=\"Fourth-Question:-Do-countries-shipped-to-have-a-statistically-significant-effect-on-discounts-7\"><span class=\"toc-item-num\">7&nbsp;&nbsp;</span>Fourth Question: Do countries shipped to have a statistically significant effect on discounts</a></span><ul class=\"toc-item\"><li><span><a href=\"#Hypotheses:\" data-toc-modified-id=\"Hypotheses:-7.1\"><span class=\"toc-item-num\">7.1&nbsp;&nbsp;</span>Hypotheses:</a></span></li><li><span><a href=\"#Explore-Data\" data-toc-modified-id=\"Explore-Data-7.2\"><span class=\"toc-item-num\">7.2&nbsp;&nbsp;</span>Explore Data</a></span></li><li><span><a href=\"#Run-ANOVA-to-see-if-there-is-any-significance-between-Country-and-TotalSales\" data-toc-modified-id=\"Run-ANOVA-to-see-if-there-is-any-significance-between-Country-and-TotalSales-7.3\"><span class=\"toc-item-num\">7.3&nbsp;&nbsp;</span>Run ANOVA to see if there is any significance between Country and TotalSales</a></span><ul class=\"toc-item\"><li><span><a href=\"#Null-Hypothesis-is-rejected\" data-toc-modified-id=\"Null-Hypothesis-is-rejected-7.3.1\"><span class=\"toc-item-num\">7.3.1&nbsp;&nbsp;</span>Null Hypothesis is rejected</a></span></li></ul></li><li><span><a href=\"#Find-effect-size-of-Discount-for-each-country\" data-toc-modified-id=\"Find-effect-size-of-Discount-for-each-country-7.4\"><span class=\"toc-item-num\">7.4&nbsp;&nbsp;</span>Find effect size of Discount for each country</a></span><ul class=\"toc-item\"><li><span><a href=\"#Observations:\" data-toc-modified-id=\"Observations:-7.4.1\"><span class=\"toc-item-num\">7.4.1&nbsp;&nbsp;</span>Observations:</a></span></li><li><span><a href=\"#Observations:\" data-toc-modified-id=\"Observations:-7.4.2\"><span class=\"toc-item-num\">7.4.2&nbsp;&nbsp;</span>Observations:</a></span></li></ul></li><li><span><a href=\"#Business-Analysis:\" data-toc-modified-id=\"Business-Analysis:-7.5\"><span class=\"toc-item-num\">7.5&nbsp;&nbsp;</span>Business Analysis:</a></span></li></ul></li><li><span><a href=\"#Conclusion\" data-toc-modified-id=\"Conclusion-8\"><span class=\"toc-item-num\">8&nbsp;&nbsp;</span>Conclusion</a></span></li></ul></div>"
   ]
  },
  {
   "cell_type": "markdown",
   "metadata": {},
   "source": [
    "# Things left to do\n",
    "\n",
    "1. Make sure all graphs are properly sized and labeled\n",
    "2. Business Analysis of each Scenario\n",
    "3. Write an intro\n",
    "4. Write a conclusion"
   ]
  },
  {
   "cell_type": "markdown",
   "metadata": {
    "heading_collapsed": true
   },
   "source": [
    "# Import Libraries"
   ]
  },
  {
   "cell_type": "code",
   "execution_count": 1,
   "metadata": {
    "hidden": true
   },
   "outputs": [],
   "source": [
    "#import libraries and functions\n",
    "import pandas as pd\n",
    "import numpy as np\n",
    "import sqlite3\n",
    "import seaborn as sns\n",
    "import scipy.stats as stats\n",
    "import matplotlib.pyplot as plt\n",
    "import statsmodels\n",
    "import statsmodels.api as sm\n",
    "from statsmodels.formula.api import ols\n",
    "from statsmodels.stats.power import TTestIndPower, TTestPower\n",
    "%matplotlib inline"
   ]
  },
  {
   "cell_type": "code",
   "execution_count": 2,
   "metadata": {
    "hidden": true
   },
   "outputs": [],
   "source": [
    "#get sql database\n",
    "conn = sqlite3.connect('Northwind_small.sqlite')\n",
    "cur = conn.cursor()"
   ]
  },
  {
   "cell_type": "code",
   "execution_count": 3,
   "metadata": {
    "hidden": true
   },
   "outputs": [
    {
     "name": "stdout",
     "output_type": "stream",
     "text": [
      "[('Employee',), ('Category',), ('Customer',), ('Shipper',), ('Supplier',), ('Order',), ('Product',), ('OrderDetail',), ('CustomerCustomerDemo',), ('CustomerDemographic',), ('Region',), ('Territory',), ('EmployeeTerritory',)]\n"
     ]
    }
   ],
   "source": [
    "#Show names of all the tables\n",
    "cur.execute(\"SELECT name FROM sqlite_master WHERE type='table';\")\n",
    "print(cur.fetchall())"
   ]
  },
  {
   "cell_type": "markdown",
   "metadata": {},
   "source": [
    "# Functions"
   ]
  },
  {
   "cell_type": "code",
   "execution_count": 21,
   "metadata": {},
   "outputs": [],
   "source": [
    "def query_to_df(query):\n",
    "    \"\"\"Takes in a SQL query and returns a pandas dataframe with column names\"\"\"\n",
    "    \n",
    "    cur.execute(query)\n",
    "    df = pd.DataFrame(cur.fetchall())\n",
    "    df.columns = [x[0] for x in cur.description]\n",
    "    return df"
   ]
  },
  {
   "cell_type": "code",
   "execution_count": 22,
   "metadata": {},
   "outputs": [],
   "source": [
    "def find_s(a, b):\n",
    "    \"\"\"a and b are arrays from the control and experimental group\n",
    "       used to find the s in the denominator of cohen's d equatin to find effect size\"\"\"\n",
    "    \n",
    "    num = (len(a)-1)*(a.std())**2 + (len(b)-1)*(b.std())**2\n",
    "    denom = len(a) + len(b)\n",
    "    return np.sqrt(num/denom)"
   ]
  },
  {
   "cell_type": "code",
   "execution_count": 23,
   "metadata": {},
   "outputs": [],
   "source": [
    "def get_sample_size(alpha, power, a, b):\n",
    "    \"\"\" Calculate what sample size is needed for Control and Experimental\"\"\"\n",
    "    \n",
    "    power_analysis = TTestIndPower()\n",
    "    alpha = 0.05\n",
    "    power = 0.80\n",
    "    mean_difference = abs(a.mean()-b.mean())\n",
    "    s = find_s(a, b)\n",
    "    effect_size = mean_difference / s\n",
    "    sample_size = power_analysis.solve_power(alpha=.05, effect_size=effect_size, power=.80, alternative='larger')\n",
    "    print(\"\"\"Using alpha = {}, effect size = {}, and power = {}: \n",
    "             The sample size should be {}\"\"\".format(alpha, effect_size, power, sample_size))\n",
    "    return int(np.round(sample_size) + 1)"
   ]
  },
  {
   "cell_type": "code",
   "execution_count": 24,
   "metadata": {},
   "outputs": [],
   "source": [
    "def cohend(d1, d2):\n",
    "    \"\"\"function to calculate Cohen's d for two independent samples\"\"\"\n",
    "    \n",
    "    # calculate the size of samples\n",
    "    n1, n2 = len(d1), len(d2)\n",
    "    # calculate the variance of the samples\n",
    "    s1, s2 = d1.var(), d2.var()\n",
    "    # calculate the pooled standard deviation\n",
    "    s = np.sqrt(((n1 - 1) * s1 + (n2 - 1) * s2) / (n1 + n2 - 2))\n",
    "    # calculate the means of the samples\n",
    "    u1, u2 = d1.mean(), d2.mean()\n",
    "    # calculate the effect size\n",
    "    return (u1 - u2) / s"
   ]
  },
  {
   "cell_type": "code",
   "execution_count": 116,
   "metadata": {},
   "outputs": [],
   "source": [
    "def effect_size_and_power(df, disc, name):\n",
    "    \"\"\"Pass in a dataframe with dummy variables and the discount amount you want\n",
    "       To compare to the control\"\"\"\n",
    "    \n",
    "    no_disc = df.loc[df.Disc_0 == 1]\n",
    "    yes_disc = df.loc[df[disc] == 1]\n",
    "    mean_diff = yes_disc.Quantity.mean()-no_disc.Quantity.mean()\n",
    "    print('For ', name)\n",
    "    print('mean difference:', mean_diff)\n",
    "    \n",
    "    effect_size = cohend(yes_disc.Quantity, no_disc.Quantity)\n",
    "    print('effect size:', effect_size)\n",
    "    \n",
    "    power1 = statsmodels.stats.power.tt_ind_solve_power(effect_size=effect_size, \n",
    "                                                       alpha=.05, nobs1=len(yes_disc))\n",
    "    power2 = statsmodels.stats.power.tt_ind_solve_power(effect_size=effect_size, \n",
    "                                                       alpha=.05, nobs1=len(no_disc))\n",
    "    \n",
    "    #Average powers with length of each sample since they are uneven\n",
    "    power = (power1+power2)/2\n",
    "    print('power:', power)\n",
    "    \n",
    "    plt.figure(figsize=(10,8))\n",
    "    sns.distplot(yes_disc.Quantity, label=name);\n",
    "    sns.distplot(no_disc.Quantity, label='No Discount');\n",
    "    plt.legend();\n",
    "    \n",
    "    return [mean_diff, effect_size]"
   ]
  },
  {
   "cell_type": "markdown",
   "metadata": {
    "heading_collapsed": true
   },
   "source": [
    "# First Question: Does discount amount have a statistically significant effect on the quantity of a product in an order? If so, at what level(s) of discount?"
   ]
  },
  {
   "cell_type": "markdown",
   "metadata": {
    "hidden": true
   },
   "source": [
    "## Hypotheses:\n",
    "Null: There is no significant effect from discount on quantity of a product in an order\n",
    "\n",
    "Alternative: There is a signifiant effect from discount on quantity of a product in an order"
   ]
  },
  {
   "cell_type": "markdown",
   "metadata": {
    "hidden": true
   },
   "source": [
    "## Explore Data"
   ]
  },
  {
   "cell_type": "code",
   "execution_count": 6,
   "metadata": {
    "hidden": true
   },
   "outputs": [],
   "source": [
    "#query 1\n",
    "#Need Discount & Quantity from OrderDetail table\n",
    "query1 = \"\"\"SELECT Discount, Quantity\n",
    "            FROM OrderDetail;\"\"\"\n",
    "df1 = query_to_df(query1)"
   ]
  },
  {
   "cell_type": "code",
   "execution_count": 7,
   "metadata": {
    "hidden": true
   },
   "outputs": [
    {
     "data": {
      "text/html": [
       "<div>\n",
       "<style scoped>\n",
       "    .dataframe tbody tr th:only-of-type {\n",
       "        vertical-align: middle;\n",
       "    }\n",
       "\n",
       "    .dataframe tbody tr th {\n",
       "        vertical-align: top;\n",
       "    }\n",
       "\n",
       "    .dataframe thead th {\n",
       "        text-align: right;\n",
       "    }\n",
       "</style>\n",
       "<table border=\"1\" class=\"dataframe\">\n",
       "  <thead>\n",
       "    <tr style=\"text-align: right;\">\n",
       "      <th></th>\n",
       "      <th>Discount</th>\n",
       "      <th>Quantity</th>\n",
       "    </tr>\n",
       "  </thead>\n",
       "  <tbody>\n",
       "    <tr>\n",
       "      <th>0</th>\n",
       "      <td>0.0</td>\n",
       "      <td>12</td>\n",
       "    </tr>\n",
       "    <tr>\n",
       "      <th>1</th>\n",
       "      <td>0.0</td>\n",
       "      <td>10</td>\n",
       "    </tr>\n",
       "    <tr>\n",
       "      <th>2</th>\n",
       "      <td>0.0</td>\n",
       "      <td>5</td>\n",
       "    </tr>\n",
       "    <tr>\n",
       "      <th>3</th>\n",
       "      <td>0.0</td>\n",
       "      <td>9</td>\n",
       "    </tr>\n",
       "    <tr>\n",
       "      <th>4</th>\n",
       "      <td>0.0</td>\n",
       "      <td>40</td>\n",
       "    </tr>\n",
       "  </tbody>\n",
       "</table>\n",
       "</div>"
      ],
      "text/plain": [
       "   Discount  Quantity\n",
       "0       0.0        12\n",
       "1       0.0        10\n",
       "2       0.0         5\n",
       "3       0.0         9\n",
       "4       0.0        40"
      ]
     },
     "execution_count": 7,
     "metadata": {},
     "output_type": "execute_result"
    }
   ],
   "source": [
    "df1.head()"
   ]
  },
  {
   "cell_type": "code",
   "execution_count": 8,
   "metadata": {
    "hidden": true
   },
   "outputs": [
    {
     "data": {
      "text/html": [
       "<div>\n",
       "<style scoped>\n",
       "    .dataframe tbody tr th:only-of-type {\n",
       "        vertical-align: middle;\n",
       "    }\n",
       "\n",
       "    .dataframe tbody tr th {\n",
       "        vertical-align: top;\n",
       "    }\n",
       "\n",
       "    .dataframe thead th {\n",
       "        text-align: right;\n",
       "    }\n",
       "</style>\n",
       "<table border=\"1\" class=\"dataframe\">\n",
       "  <thead>\n",
       "    <tr style=\"text-align: right;\">\n",
       "      <th></th>\n",
       "      <th>Discount</th>\n",
       "      <th>Quantity</th>\n",
       "    </tr>\n",
       "  </thead>\n",
       "  <tbody>\n",
       "    <tr>\n",
       "      <th>count</th>\n",
       "      <td>2155.000000</td>\n",
       "      <td>2155.000000</td>\n",
       "    </tr>\n",
       "    <tr>\n",
       "      <th>mean</th>\n",
       "      <td>0.056167</td>\n",
       "      <td>23.812993</td>\n",
       "    </tr>\n",
       "    <tr>\n",
       "      <th>std</th>\n",
       "      <td>0.083450</td>\n",
       "      <td>19.022047</td>\n",
       "    </tr>\n",
       "    <tr>\n",
       "      <th>min</th>\n",
       "      <td>0.000000</td>\n",
       "      <td>1.000000</td>\n",
       "    </tr>\n",
       "    <tr>\n",
       "      <th>25%</th>\n",
       "      <td>0.000000</td>\n",
       "      <td>10.000000</td>\n",
       "    </tr>\n",
       "    <tr>\n",
       "      <th>50%</th>\n",
       "      <td>0.000000</td>\n",
       "      <td>20.000000</td>\n",
       "    </tr>\n",
       "    <tr>\n",
       "      <th>75%</th>\n",
       "      <td>0.100000</td>\n",
       "      <td>30.000000</td>\n",
       "    </tr>\n",
       "    <tr>\n",
       "      <th>max</th>\n",
       "      <td>0.250000</td>\n",
       "      <td>130.000000</td>\n",
       "    </tr>\n",
       "  </tbody>\n",
       "</table>\n",
       "</div>"
      ],
      "text/plain": [
       "          Discount     Quantity\n",
       "count  2155.000000  2155.000000\n",
       "mean      0.056167    23.812993\n",
       "std       0.083450    19.022047\n",
       "min       0.000000     1.000000\n",
       "25%       0.000000    10.000000\n",
       "50%       0.000000    20.000000\n",
       "75%       0.100000    30.000000\n",
       "max       0.250000   130.000000"
      ]
     },
     "execution_count": 8,
     "metadata": {},
     "output_type": "execute_result"
    }
   ],
   "source": [
    "df1.describe()"
   ]
  },
  {
   "cell_type": "code",
   "execution_count": 112,
   "metadata": {
    "hidden": true
   },
   "outputs": [
    {
     "data": {
      "image/png": "[encoded data removed]",
      "text/plain": [
       "<Figure size 720x576 with 1 Axes>"
      ]
     },
     "metadata": {
      "needs_background": "light"
     },
     "output_type": "display_data"
    }
   ],
   "source": [
    "#distribution of Discount\n",
    "plt.figure(figsize=(10,8))\n",
    "sns.distplot(df1.Discount);\n",
    "plt.title('Distribution of Discount');\n",
    "plt.ylabel('Occurences of Discount');"
   ]
  },
  {
   "cell_type": "markdown",
   "metadata": {
    "hidden": true
   },
   "source": [
    "### Observations of Discount\n",
    "- Discount is an ordinal variable\n",
    "- Most orders have a 0% discount\n",
    "- Has a very long right tail"
   ]
  },
  {
   "cell_type": "code",
   "execution_count": 113,
   "metadata": {
    "hidden": true
   },
   "outputs": [
    {
     "data": {
      "image/png": "[encoded data removed]",
      "text/plain": [
       "<Figure size 720x576 with 1 Axes>"
      ]
     },
     "metadata": {
      "needs_background": "light"
     },
     "output_type": "display_data"
    }
   ],
   "source": [
    "#Discount of Quantity\n",
    "plt.figure(figsize=(10,8))\n",
    "sns.distplot(df1.Quantity);\n",
    "plt.title('Distribution of Quantity');"
   ]
  },
  {
   "cell_type": "markdown",
   "metadata": {
    "hidden": true
   },
   "source": [
    "### Observations of Quantity (The dependant variable)\n",
    "- Positively skewed\n",
    "- Minimum value is 1, max value is 130\n",
    "- The mean is around 20"
   ]
  },
  {
   "cell_type": "markdown",
   "metadata": {
    "hidden": true
   },
   "source": [
    "## Run Anova Test\n",
    "The one-way analysis of variance (ANOVA) is used to determine whether there are any statistically significant differences between the means of two or more independent (unrelated) groups.\n",
    "For an ANOVA Test, any categorical variable has to be broken down into dummy varaibles. For this ANOVA test it will compare Quantity to whether or not there was a discount. So I will create a new column that has a '1' for discount present, and '2' for no discount"
   ]
  },
  {
   "cell_type": "code",
   "execution_count": 11,
   "metadata": {
    "hidden": true
   },
   "outputs": [],
   "source": [
    "df1['Discount_Present'] = 1\n",
    "df1.loc[df1.Discount == 0, 'Discount_Present'] = 0"
   ]
  },
  {
   "cell_type": "code",
   "execution_count": 12,
   "metadata": {
    "hidden": true
   },
   "outputs": [
    {
     "data": {
      "text/plain": [
       "0    1317\n",
       "1     838\n",
       "Name: Discount_Present, dtype: int64"
      ]
     },
     "execution_count": 12,
     "metadata": {},
     "output_type": "execute_result"
    }
   ],
   "source": [
    "df1.Discount_Present.value_counts()"
   ]
  },
  {
   "cell_type": "code",
   "execution_count": 13,
   "metadata": {
    "hidden": true
   },
   "outputs": [
    {
     "name": "stdout",
     "output_type": "stream",
     "text": [
      "                            sum_sq      df          F        PR(>F)\n",
      "C(Discount_Present)   14903.513199     1.0  41.971781  1.144092e-10\n",
      "Residual             764496.122996  2153.0        NaN           NaN\n"
     ]
    }
   ],
   "source": [
    "#run anova test\n",
    "formula = 'Quantity ~ C(Discount_Present)'\n",
    "lm = ols(formula, df1).fit()\n",
    "table = sm.stats.anova_lm(lm, typ=2)\n",
    "print(table)"
   ]
  },
  {
   "cell_type": "markdown",
   "metadata": {
    "hidden": true
   },
   "source": [
    "### The Null Hypothesis is Rejected\n",
    "The p-value is way below 0.05, it is 1.144092e-10. This means that further analysis is needed to discover which levels have the highest effect. "
   ]
  },
  {
   "cell_type": "markdown",
   "metadata": {
    "hidden": true
   },
   "source": [
    "## Find the Effect Size of Discount"
   ]
  },
  {
   "cell_type": "code",
   "execution_count": 14,
   "metadata": {
    "hidden": true
   },
   "outputs": [
    {
     "data": {
      "text/html": [
       "<div>\n",
       "<style scoped>\n",
       "    .dataframe tbody tr th:only-of-type {\n",
       "        vertical-align: middle;\n",
       "    }\n",
       "\n",
       "    .dataframe tbody tr th {\n",
       "        vertical-align: top;\n",
       "    }\n",
       "\n",
       "    .dataframe thead th {\n",
       "        text-align: right;\n",
       "    }\n",
       "</style>\n",
       "<table border=\"1\" class=\"dataframe\">\n",
       "  <thead>\n",
       "    <tr style=\"text-align: right;\">\n",
       "      <th></th>\n",
       "      <th>Discount</th>\n",
       "      <th>Quantity</th>\n",
       "      <th>Discount_Present</th>\n",
       "    </tr>\n",
       "  </thead>\n",
       "  <tbody>\n",
       "    <tr>\n",
       "      <th>count</th>\n",
       "      <td>1317.0</td>\n",
       "      <td>1317.000000</td>\n",
       "      <td>1317.0</td>\n",
       "    </tr>\n",
       "    <tr>\n",
       "      <th>mean</th>\n",
       "      <td>0.0</td>\n",
       "      <td>21.715262</td>\n",
       "      <td>0.0</td>\n",
       "    </tr>\n",
       "    <tr>\n",
       "      <th>std</th>\n",
       "      <td>0.0</td>\n",
       "      <td>17.507493</td>\n",
       "      <td>0.0</td>\n",
       "    </tr>\n",
       "    <tr>\n",
       "      <th>min</th>\n",
       "      <td>0.0</td>\n",
       "      <td>1.000000</td>\n",
       "      <td>0.0</td>\n",
       "    </tr>\n",
       "    <tr>\n",
       "      <th>25%</th>\n",
       "      <td>0.0</td>\n",
       "      <td>10.000000</td>\n",
       "      <td>0.0</td>\n",
       "    </tr>\n",
       "    <tr>\n",
       "      <th>50%</th>\n",
       "      <td>0.0</td>\n",
       "      <td>18.000000</td>\n",
       "      <td>0.0</td>\n",
       "    </tr>\n",
       "    <tr>\n",
       "      <th>75%</th>\n",
       "      <td>0.0</td>\n",
       "      <td>30.000000</td>\n",
       "      <td>0.0</td>\n",
       "    </tr>\n",
       "    <tr>\n",
       "      <th>max</th>\n",
       "      <td>0.0</td>\n",
       "      <td>130.000000</td>\n",
       "      <td>0.0</td>\n",
       "    </tr>\n",
       "  </tbody>\n",
       "</table>\n",
       "</div>"
      ],
      "text/plain": [
       "       Discount     Quantity  Discount_Present\n",
       "count    1317.0  1317.000000            1317.0\n",
       "mean        0.0    21.715262               0.0\n",
       "std         0.0    17.507493               0.0\n",
       "min         0.0     1.000000               0.0\n",
       "25%         0.0    10.000000               0.0\n",
       "50%         0.0    18.000000               0.0\n",
       "75%         0.0    30.000000               0.0\n",
       "max         0.0   130.000000               0.0"
      ]
     },
     "execution_count": 14,
     "metadata": {},
     "output_type": "execute_result"
    }
   ],
   "source": [
    "#make control group, discount = 0\n",
    "control = df1[df1['Discount']==0]\n",
    "control.describe()"
   ]
  },
  {
   "cell_type": "code",
   "execution_count": 15,
   "metadata": {
    "hidden": true
   },
   "outputs": [
    {
     "data": {
      "text/html": [
       "<div>\n",
       "<style scoped>\n",
       "    .dataframe tbody tr th:only-of-type {\n",
       "        vertical-align: middle;\n",
       "    }\n",
       "\n",
       "    .dataframe tbody tr th {\n",
       "        vertical-align: top;\n",
       "    }\n",
       "\n",
       "    .dataframe thead th {\n",
       "        text-align: right;\n",
       "    }\n",
       "</style>\n",
       "<table border=\"1\" class=\"dataframe\">\n",
       "  <thead>\n",
       "    <tr style=\"text-align: right;\">\n",
       "      <th></th>\n",
       "      <th>Discount</th>\n",
       "      <th>Quantity</th>\n",
       "      <th>Discount_Present</th>\n",
       "    </tr>\n",
       "  </thead>\n",
       "  <tbody>\n",
       "    <tr>\n",
       "      <th>count</th>\n",
       "      <td>838.000000</td>\n",
       "      <td>838.000000</td>\n",
       "      <td>838.0</td>\n",
       "    </tr>\n",
       "    <tr>\n",
       "      <th>mean</th>\n",
       "      <td>0.144439</td>\n",
       "      <td>27.109785</td>\n",
       "      <td>1.0</td>\n",
       "    </tr>\n",
       "    <tr>\n",
       "      <th>std</th>\n",
       "      <td>0.071808</td>\n",
       "      <td>20.771439</td>\n",
       "      <td>0.0</td>\n",
       "    </tr>\n",
       "    <tr>\n",
       "      <th>min</th>\n",
       "      <td>0.010000</td>\n",
       "      <td>1.000000</td>\n",
       "      <td>1.0</td>\n",
       "    </tr>\n",
       "    <tr>\n",
       "      <th>25%</th>\n",
       "      <td>0.100000</td>\n",
       "      <td>12.000000</td>\n",
       "      <td>1.0</td>\n",
       "    </tr>\n",
       "    <tr>\n",
       "      <th>50%</th>\n",
       "      <td>0.150000</td>\n",
       "      <td>20.000000</td>\n",
       "      <td>1.0</td>\n",
       "    </tr>\n",
       "    <tr>\n",
       "      <th>75%</th>\n",
       "      <td>0.200000</td>\n",
       "      <td>36.000000</td>\n",
       "      <td>1.0</td>\n",
       "    </tr>\n",
       "    <tr>\n",
       "      <th>max</th>\n",
       "      <td>0.250000</td>\n",
       "      <td>130.000000</td>\n",
       "      <td>1.0</td>\n",
       "    </tr>\n",
       "  </tbody>\n",
       "</table>\n",
       "</div>"
      ],
      "text/plain": [
       "         Discount    Quantity  Discount_Present\n",
       "count  838.000000  838.000000             838.0\n",
       "mean     0.144439   27.109785               1.0\n",
       "std      0.071808   20.771439               0.0\n",
       "min      0.010000    1.000000               1.0\n",
       "25%      0.100000   12.000000               1.0\n",
       "50%      0.150000   20.000000               1.0\n",
       "75%      0.200000   36.000000               1.0\n",
       "max      0.250000  130.000000               1.0"
      ]
     },
     "execution_count": 15,
     "metadata": {},
     "output_type": "execute_result"
    }
   ],
   "source": [
    "#make experimental group, discount != 0\n",
    "experimental = df1[df1['Discount']!=0]\n",
    "experimental.describe()"
   ]
  },
  {
   "cell_type": "code",
   "execution_count": 114,
   "metadata": {
    "hidden": true
   },
   "outputs": [
    {
     "data": {
      "image/png": "[encoded data removed]",
      "text/plain": [
       "<Figure size 720x576 with 1 Axes>"
      ]
     },
     "metadata": {
      "needs_background": "light"
     },
     "output_type": "display_data"
    }
   ],
   "source": [
    "#Plot Control and Experimental to check for Normality\n",
    "plt.figure(figsize=(10,8))\n",
    "sns.distplot(control.Quantity, label='Control');\n",
    "sns.distplot(experimental.Quantity, label='Experimental');\n",
    "plt.title('Visual check for Normality');\n",
    "plt.legend();"
   ]
  },
  {
   "cell_type": "markdown",
   "metadata": {
    "hidden": true
   },
   "source": [
    "### Observations\n",
    "1. Positively skewed\n",
    "2. A lot of overlap\n",
    "3. There a a couple of outliers that I will remove. I will only include values in the 95% Quantile"
   ]
  },
  {
   "cell_type": "code",
   "execution_count": 17,
   "metadata": {
    "hidden": true
   },
   "outputs": [],
   "source": [
    "control = control.loc[control.Quantity <= control.Quantity.quantile(.95)]\n",
    "experimental = experimental.loc[experimental.Quantity <= experimental.Quantity.quantile(.95)]"
   ]
  },
  {
   "cell_type": "code",
   "execution_count": 115,
   "metadata": {
    "hidden": true
   },
   "outputs": [
    {
     "data": {
      "image/png": "[encoded data removed]",
      "text/plain": [
       "<Figure size 720x576 with 1 Axes>"
      ]
     },
     "metadata": {
      "needs_background": "light"
     },
     "output_type": "display_data"
    }
   ],
   "source": [
    "plt.figure(figsize=(10,8))\n",
    "sns.distplot(control.Quantity, label='Control');\n",
    "sns.distplot(experimental.Quantity, label='Experimental');\n",
    "plt.title('Visual check for Normality');\n",
    "plt.legend();"
   ]
  },
  {
   "cell_type": "code",
   "execution_count": 19,
   "metadata": {
    "hidden": true
   },
   "outputs": [
    {
     "name": "stdout",
     "output_type": "stream",
     "text": [
      "5.685784327276604\n"
     ]
    }
   ],
   "source": [
    "#Find difference of means between no-discount and discount\n",
    "mean_diff = experimental.Quantity.mean()-control.Quantity.mean()\n",
    "print(mean_diff)"
   ]
  },
  {
   "cell_type": "code",
   "execution_count": 26,
   "metadata": {
    "hidden": true
   },
   "outputs": [
    {
     "name": "stdout",
     "output_type": "stream",
     "text": [
      "0.3996959562139606\n"
     ]
    }
   ],
   "source": [
    "#Find Cohen's D\n",
    "d = cohend(experimental.Quantity, control.Quantity)\n",
    "print(d)"
   ]
  },
  {
   "cell_type": "code",
   "execution_count": 30,
   "metadata": {
    "hidden": true
   },
   "outputs": [
    {
     "name": "stdout",
     "output_type": "stream",
     "text": [
      "1.0\n"
     ]
    }
   ],
   "source": [
    "#Take power with each number of observations per group and then average since they are different sizes\n",
    "power1 = statsmodels.stats.power.tt_ind_solve_power(effect_size=d, alpha=.05, nobs1=len(experimental))\n",
    "power2 = statsmodels.stats.power.tt_ind_solve_power(effect_size=d, alpha=.05, nobs1=len(control))\n",
    "power = (power1+power2)/2\n",
    "print(power)"
   ]
  },
  {
   "cell_type": "markdown",
   "metadata": {
    "hidden": true
   },
   "source": [
    "### Observations: \n",
    "Cohen's d is an appropriate effect size for the comparison between two means. A value of roughly 0.4 is considered a a small to medium effect. Now the effect size of each individual discount needs to be calculated. I ran the power test as a baseline for future power tests for each individual discounts"
   ]
  },
  {
   "cell_type": "markdown",
   "metadata": {
    "hidden": true
   },
   "source": [
    "## Test Each Discount Level against the Control\n",
    "First make dummy variables for each level of discount to with ANOVA to see if all discounts reject the Null Hypothesis\n",
    "Then Find the effect size and Power of each individual Discount Level.\n"
   ]
  },
  {
   "cell_type": "code",
   "execution_count": 31,
   "metadata": {
    "hidden": true
   },
   "outputs": [
    {
     "data": {
      "text/plain": [
       "0.00    1317\n",
       "0.05     185\n",
       "0.10     173\n",
       "0.20     161\n",
       "0.15     157\n",
       "0.25     154\n",
       "0.03       3\n",
       "0.02       2\n",
       "0.01       1\n",
       "0.04       1\n",
       "0.06       1\n",
       "Name: Discount, dtype: int64"
      ]
     },
     "execution_count": 31,
     "metadata": {},
     "output_type": "execute_result"
    }
   ],
   "source": [
    "df1.Discount.value_counts()"
   ]
  },
  {
   "cell_type": "markdown",
   "metadata": {
    "hidden": true
   },
   "source": [
    "Discounts of 1%, 2%, 3%, 4% and 6% all have 3 or less occurences. I will just drop them since they are such unusual occurences"
   ]
  },
  {
   "cell_type": "code",
   "execution_count": 32,
   "metadata": {
    "hidden": true
   },
   "outputs": [],
   "source": [
    "df1.drop(df1.loc[df1['Discount']==0.01].index, inplace=True)\n",
    "df1.drop(df1.loc[df1['Discount']==0.02].index, inplace=True)\n",
    "df1.drop(df1.loc[df1['Discount']==0.03].index, inplace=True)\n",
    "df1.drop(df1.loc[df1['Discount']==0.04].index, inplace=True)\n",
    "df1.drop(df1.loc[df1['Discount']==0.06].index, inplace=True)"
   ]
  },
  {
   "cell_type": "code",
   "execution_count": 33,
   "metadata": {
    "hidden": true
   },
   "outputs": [],
   "source": [
    "df1 = df1.loc[df1.Quantity <= control.Quantity.quantile(.95)]"
   ]
  },
  {
   "cell_type": "code",
   "execution_count": 36,
   "metadata": {
    "hidden": true
   },
   "outputs": [
    {
     "data": {
      "image/png": "[encoded data removed]",
      "text/plain": [
       "<Figure size 720x576 with 1 Axes>"
      ]
     },
     "metadata": {
      "needs_background": "light"
     },
     "output_type": "display_data"
    }
   ],
   "source": [
    "plt.figure(figsize=(10,8))\n",
    "sns.boxplot(df1.Discount, df1.Quantity);\n",
    "plt.title('Boxplots of Each Discount Value');"
   ]
  },
  {
   "cell_type": "code",
   "execution_count": 37,
   "metadata": {
    "hidden": true
   },
   "outputs": [],
   "source": [
    "#get dummy variables for discount levels\n",
    "disc_dummies = pd.get_dummies(df1.Discount, prefix='Disc')"
   ]
  },
  {
   "cell_type": "code",
   "execution_count": 38,
   "metadata": {
    "hidden": true
   },
   "outputs": [
    {
     "data": {
      "text/html": [
       "<div>\n",
       "<style scoped>\n",
       "    .dataframe tbody tr th:only-of-type {\n",
       "        vertical-align: middle;\n",
       "    }\n",
       "\n",
       "    .dataframe tbody tr th {\n",
       "        vertical-align: top;\n",
       "    }\n",
       "\n",
       "    .dataframe thead th {\n",
       "        text-align: right;\n",
       "    }\n",
       "</style>\n",
       "<table border=\"1\" class=\"dataframe\">\n",
       "  <thead>\n",
       "    <tr style=\"text-align: right;\">\n",
       "      <th></th>\n",
       "      <th>Discount</th>\n",
       "      <th>Quantity</th>\n",
       "      <th>Discount_Present</th>\n",
       "      <th>Disc_0.0</th>\n",
       "      <th>Disc_0.05</th>\n",
       "      <th>Disc_0.1</th>\n",
       "      <th>Disc_0.15</th>\n",
       "      <th>Disc_0.2</th>\n",
       "      <th>Disc_0.25</th>\n",
       "    </tr>\n",
       "  </thead>\n",
       "  <tbody>\n",
       "    <tr>\n",
       "      <th>0</th>\n",
       "      <td>0.0</td>\n",
       "      <td>12</td>\n",
       "      <td>0</td>\n",
       "      <td>1</td>\n",
       "      <td>0</td>\n",
       "      <td>0</td>\n",
       "      <td>0</td>\n",
       "      <td>0</td>\n",
       "      <td>0</td>\n",
       "    </tr>\n",
       "    <tr>\n",
       "      <th>1</th>\n",
       "      <td>0.0</td>\n",
       "      <td>10</td>\n",
       "      <td>0</td>\n",
       "      <td>1</td>\n",
       "      <td>0</td>\n",
       "      <td>0</td>\n",
       "      <td>0</td>\n",
       "      <td>0</td>\n",
       "      <td>0</td>\n",
       "    </tr>\n",
       "    <tr>\n",
       "      <th>2</th>\n",
       "      <td>0.0</td>\n",
       "      <td>5</td>\n",
       "      <td>0</td>\n",
       "      <td>1</td>\n",
       "      <td>0</td>\n",
       "      <td>0</td>\n",
       "      <td>0</td>\n",
       "      <td>0</td>\n",
       "      <td>0</td>\n",
       "    </tr>\n",
       "    <tr>\n",
       "      <th>3</th>\n",
       "      <td>0.0</td>\n",
       "      <td>9</td>\n",
       "      <td>0</td>\n",
       "      <td>1</td>\n",
       "      <td>0</td>\n",
       "      <td>0</td>\n",
       "      <td>0</td>\n",
       "      <td>0</td>\n",
       "      <td>0</td>\n",
       "    </tr>\n",
       "    <tr>\n",
       "      <th>4</th>\n",
       "      <td>0.0</td>\n",
       "      <td>40</td>\n",
       "      <td>0</td>\n",
       "      <td>1</td>\n",
       "      <td>0</td>\n",
       "      <td>0</td>\n",
       "      <td>0</td>\n",
       "      <td>0</td>\n",
       "      <td>0</td>\n",
       "    </tr>\n",
       "  </tbody>\n",
       "</table>\n",
       "</div>"
      ],
      "text/plain": [
       "   Discount  Quantity  Discount_Present  Disc_0.0  Disc_0.05  Disc_0.1  \\\n",
       "0       0.0        12                 0         1          0         0   \n",
       "1       0.0        10                 0         1          0         0   \n",
       "2       0.0         5                 0         1          0         0   \n",
       "3       0.0         9                 0         1          0         0   \n",
       "4       0.0        40                 0         1          0         0   \n",
       "\n",
       "   Disc_0.15  Disc_0.2  Disc_0.25  \n",
       "0          0         0          0  \n",
       "1          0         0          0  \n",
       "2          0         0          0  \n",
       "3          0         0          0  \n",
       "4          0         0          0  "
      ]
     },
     "execution_count": 38,
     "metadata": {},
     "output_type": "execute_result"
    }
   ],
   "source": [
    "df1 = pd.concat([df1, disc_dummies], axis=1)\n",
    "df1.head()"
   ]
  },
  {
   "cell_type": "code",
   "execution_count": 39,
   "metadata": {
    "hidden": true
   },
   "outputs": [
    {
     "data": {
      "text/plain": [
       "Discount              100.9\n",
       "Quantity            34626.0\n",
       "Discount_Present      693.0\n",
       "Disc_0.0             1190.0\n",
       "Disc_0.05             149.0\n",
       "Disc_0.1              153.0\n",
       "Disc_0.15             130.0\n",
       "Disc_0.2              132.0\n",
       "Disc_0.25             129.0\n",
       "dtype: float64"
      ]
     },
     "execution_count": 39,
     "metadata": {},
     "output_type": "execute_result"
    }
   ],
   "source": [
    "df1.sum()"
   ]
  },
  {
   "cell_type": "code",
   "execution_count": 40,
   "metadata": {
    "hidden": true
   },
   "outputs": [],
   "source": [
    "#Rename columns so they will work in ANOVA\n",
    "df1.rename(columns={'Disc_0.0': 'Disc_0', 'Disc_0.05': 'Disc_05', \n",
    "                    'Disc_0.1': 'Disc_1', 'Disc_0.15': 'Disc_15', \n",
    "                    'Disc_0.2': 'Disc_2', 'Disc_0.25': 'Disc_25'},  \n",
    "           inplace=True)"
   ]
  },
  {
   "cell_type": "code",
   "execution_count": 41,
   "metadata": {
    "hidden": true
   },
   "outputs": [
    {
     "name": "stdout",
     "output_type": "stream",
     "text": [
      "                   sum_sq      df          F        PR(>F)\n",
      "C(Disc_0)      297.413627     1.0   2.553414  1.102245e-01\n",
      "C(Disc_05)     696.297635     1.0   5.977992  1.457685e-02\n",
      "C(Disc_1)     1087.539573     1.0   9.336960  2.277406e-03\n",
      "C(Disc_15)    2258.615310     1.0  19.391111  1.124991e-05\n",
      "C(Disc_2)     1874.559822     1.0  16.093842  6.264468e-05\n",
      "C(Disc_25)    3406.305784     1.0  29.244491  7.195771e-08\n",
      "Residual    218627.021226  1877.0        NaN           NaN\n"
     ]
    }
   ],
   "source": [
    "formula = 'Quantity ~ C(Disc_0) + C(Disc_05) + C(Disc_1) + C(Disc_15) + C(Disc_2) + C(Disc_25)'\n",
    "lm = ols(formula, df1).fit()\n",
    "table = sm.stats.anova_lm(lm, typ=2)\n",
    "print(table)"
   ]
  },
  {
   "cell_type": "markdown",
   "metadata": {
    "hidden": true
   },
   "source": [
    "### Observations:\n",
    "All discount levels reject the Null Hypothesis"
   ]
  },
  {
   "cell_type": "markdown",
   "metadata": {
    "hidden": true
   },
   "source": [
    "### Find effect size and power of each level"
   ]
  },
  {
   "cell_type": "markdown",
   "metadata": {
    "hidden": true
   },
   "source": [
    "#### Discount of 5%"
   ]
  },
  {
   "cell_type": "code",
   "execution_count": 117,
   "metadata": {
    "hidden": true
   },
   "outputs": [
    {
     "name": "stdout",
     "output_type": "stream",
     "text": [
      "For  5% Discount\n",
      "mean difference: 1.3306130505893634\n",
      "effect size: 0.12525350174851452\n",
      "power: 0.5265095594926592\n"
     ]
    },
    {
     "data": {
      "image/png": "[encoded data removed]",
      "text/plain": [
       "<Figure size 720x576 with 1 Axes>"
      ]
     },
     "metadata": {
      "needs_background": "light"
     },
     "output_type": "display_data"
    }
   ],
   "source": [
    "disc05 = effect_size_and_power(df1, 'Disc_05', '5% Discount')"
   ]
  },
  {
   "cell_type": "markdown",
   "metadata": {
    "hidden": true
   },
   "source": [
    "#### Discount of 10%"
   ]
  },
  {
   "cell_type": "code",
   "execution_count": 118,
   "metadata": {
    "hidden": true
   },
   "outputs": [
    {
     "name": "stdout",
     "output_type": "stream",
     "text": [
      "For  10% Discount\n",
      "mean difference: 1.7937441643323986\n",
      "effect size: 0.16675864098169604\n",
      "power: 0.6445698212677156\n"
     ]
    },
    {
     "data": {
      "image/png": "[encoded data removed]",
      "text/plain": [
       "<Figure size 720x576 with 1 Axes>"
      ]
     },
     "metadata": {
      "needs_background": "light"
     },
     "output_type": "display_data"
    }
   ],
   "source": [
    "disc10 = effect_size_and_power(df1, 'Disc_1', '10% Discount')"
   ]
  },
  {
   "cell_type": "markdown",
   "metadata": {
    "hidden": true
   },
   "source": [
    "#### Discount of 15%"
   ]
  },
  {
   "cell_type": "code",
   "execution_count": 119,
   "metadata": {
    "hidden": true
   },
   "outputs": [
    {
     "name": "stdout",
     "output_type": "stream",
     "text": [
      "For  15% Discount\n",
      "mean difference: 3.1223012281835807\n",
      "effect size: 0.2901748841773919\n",
      "power: 0.8223050966629614\n"
     ]
    },
    {
     "data": {
      "image/png": "[encoded data removed]",
      "text/plain": [
       "<Figure size 720x576 with 1 Axes>"
      ]
     },
     "metadata": {
      "needs_background": "light"
     },
     "output_type": "display_data"
    }
   ],
   "source": [
    "disc15 = effect_size_and_power(df1, 'Disc_15', '15% Discount')"
   ]
  },
  {
   "cell_type": "markdown",
   "metadata": {
    "hidden": true
   },
   "source": [
    "#### Discount 20%"
   ]
  },
  {
   "cell_type": "code",
   "execution_count": 120,
   "metadata": {
    "hidden": true
   },
   "outputs": [
    {
     "name": "stdout",
     "output_type": "stream",
     "text": [
      "For  20% Discount\n",
      "mean difference: 2.765075120957473\n",
      "effect size: 0.2558934782286478\n",
      "power: 0.7721693798176957\n"
     ]
    },
    {
     "data": {
      "image/png": "[encoded data removed]",
      "text/plain": [
       "<Figure size 720x576 with 1 Axes>"
      ]
     },
     "metadata": {
      "needs_background": "light"
     },
     "output_type": "display_data"
    }
   ],
   "source": [
    "disc20 = effect_size_and_power(df1, 'Disc_2', '20% Discount')"
   ]
  },
  {
   "cell_type": "markdown",
   "metadata": {
    "hidden": true
   },
   "source": [
    "#### Discount of 25%"
   ]
  },
  {
   "cell_type": "code",
   "execution_count": 121,
   "metadata": {
    "hidden": true
   },
   "outputs": [
    {
     "name": "stdout",
     "output_type": "stream",
     "text": [
      "For  25% Discount\n",
      "mean difference: 3.99499055436128\n",
      "effect size: 0.369855864122462\n",
      "power: 0.9205826858892074\n"
     ]
    },
    {
     "data": {
      "image/png": "[encoded data removed]",
      "text/plain": [
       "<Figure size 720x576 with 1 Axes>"
      ]
     },
     "metadata": {
      "needs_background": "light"
     },
     "output_type": "display_data"
    }
   ],
   "source": [
    "disc25 = effect_size_and_power(df1, 'Disc_25', '25% Discount')"
   ]
  },
  {
   "cell_type": "code",
   "execution_count": 123,
   "metadata": {
    "hidden": true
   },
   "outputs": [
    {
     "data": {
      "image/png": "[encoded data removed]",
      "text/plain": [
       "<Figure size 720x576 with 1 Axes>"
      ]
     },
     "metadata": {
      "needs_background": "light"
     },
     "output_type": "display_data"
    }
   ],
   "source": [
    "#Plot all mean differences\n",
    "means = [disc05[0], disc10[0], disc15[0], disc20[0], disc25[0]]\n",
    "x = ['5%', '10%', '15%', '20%', '25%']\n",
    "plt.figure(figsize=(10,8))\n",
    "sns.barplot(x, means)\n",
    "plt.title('Mean Differences between No Discount and Discount Level');"
   ]
  },
  {
   "cell_type": "code",
   "execution_count": 124,
   "metadata": {
    "hidden": true
   },
   "outputs": [
    {
     "data": {
      "image/png": "[encoded data removed]",
      "text/plain": [
       "<Figure size 720x576 with 1 Axes>"
      ]
     },
     "metadata": {
      "needs_background": "light"
     },
     "output_type": "display_data"
    }
   ],
   "source": [
    "#Plot all Effect Sizes\n",
    "effect_sizes = [disc05[1], disc10[1], disc15[1], disc20[1], disc25[1]]\n",
    "x = ['5%', '10%', '15%', '20%', '25%']\n",
    "plt.figure(figsize=(10,8))\n",
    "sns.barplot(x, effect_sizes)\n",
    "plt.title('Effect Sizes for each Discount Level');"
   ]
  },
  {
   "cell_type": "markdown",
   "metadata": {
    "hidden": true
   },
   "source": [
    "25% and 15% have the largest effect on quantities sold. "
   ]
  },
  {
   "cell_type": "markdown",
   "metadata": {
    "hidden": true
   },
   "source": [
    "## Business Analysis\n",
    "When discounts are above either 15% or 25% there is a noticeable effect on the quantity of products sold. The effect size for these is around 0.29 for 15% and 0.37 for 25% which indicates a small effect according to Cohen. Using these larger discounts could help push products that maybe need to get sold to make room for other products or to make space in warehouses. It makes sense that a higher discount would mean more products are sold. However further analysis would be needed to see if the discounts are affecting revenue in any way. Such as do these discounts pay for themselves or is the company losing money at a certain point. "
   ]
  },
  {
   "cell_type": "markdown",
   "metadata": {},
   "source": [
    "# Second Question: Do US employees sell significantly more than UK employees?\n"
   ]
  },
  {
   "cell_type": "markdown",
   "metadata": {},
   "source": [
    "## Hypotheses: \n",
    "Null: US employees and UK employees sell about the same\n",
    "\n",
    "Alternative: US employees sell more than UK employees"
   ]
  },
  {
   "cell_type": "markdown",
   "metadata": {},
   "source": [
    "## Explore the data"
   ]
  },
  {
   "cell_type": "code",
   "execution_count": 49,
   "metadata": {},
   "outputs": [],
   "source": [
    "query2 = \"\"\"SELECT Country, EmployeeId, OrderId, SUM(UnitPrice*Quantity*(1-Discount)) as TotalSales\n",
    "            FROM Employee\n",
    "            JOIN [Order]\n",
    "                ON [Order].EmployeeId = Employee.ID\n",
    "            JOIN OrderDetail\n",
    "                ON [Order].Id = OrderDetail.OrderId\n",
    "            GROUP BY OrderID\n",
    "            ;\"\"\""
   ]
  },
  {
   "cell_type": "code",
   "execution_count": 50,
   "metadata": {},
   "outputs": [
    {
     "data": {
      "text/html": [
       "<div>\n",
       "<style scoped>\n",
       "    .dataframe tbody tr th:only-of-type {\n",
       "        vertical-align: middle;\n",
       "    }\n",
       "\n",
       "    .dataframe tbody tr th {\n",
       "        vertical-align: top;\n",
       "    }\n",
       "\n",
       "    .dataframe thead th {\n",
       "        text-align: right;\n",
       "    }\n",
       "</style>\n",
       "<table border=\"1\" class=\"dataframe\">\n",
       "  <thead>\n",
       "    <tr style=\"text-align: right;\">\n",
       "      <th></th>\n",
       "      <th>Country</th>\n",
       "      <th>EmployeeId</th>\n",
       "      <th>OrderId</th>\n",
       "      <th>TotalSales</th>\n",
       "    </tr>\n",
       "  </thead>\n",
       "  <tbody>\n",
       "    <tr>\n",
       "      <th>0</th>\n",
       "      <td>UK</td>\n",
       "      <td>5</td>\n",
       "      <td>10248</td>\n",
       "      <td>440.00</td>\n",
       "    </tr>\n",
       "    <tr>\n",
       "      <th>1</th>\n",
       "      <td>UK</td>\n",
       "      <td>6</td>\n",
       "      <td>10249</td>\n",
       "      <td>1863.40</td>\n",
       "    </tr>\n",
       "    <tr>\n",
       "      <th>2</th>\n",
       "      <td>USA</td>\n",
       "      <td>4</td>\n",
       "      <td>10250</td>\n",
       "      <td>1552.60</td>\n",
       "    </tr>\n",
       "    <tr>\n",
       "      <th>3</th>\n",
       "      <td>USA</td>\n",
       "      <td>3</td>\n",
       "      <td>10251</td>\n",
       "      <td>654.06</td>\n",
       "    </tr>\n",
       "    <tr>\n",
       "      <th>4</th>\n",
       "      <td>USA</td>\n",
       "      <td>4</td>\n",
       "      <td>10252</td>\n",
       "      <td>3597.90</td>\n",
       "    </tr>\n",
       "  </tbody>\n",
       "</table>\n",
       "</div>"
      ],
      "text/plain": [
       "  Country  EmployeeId  OrderId  TotalSales\n",
       "0      UK           5    10248      440.00\n",
       "1      UK           6    10249     1863.40\n",
       "2     USA           4    10250     1552.60\n",
       "3     USA           3    10251      654.06\n",
       "4     USA           4    10252     3597.90"
      ]
     },
     "execution_count": 50,
     "metadata": {},
     "output_type": "execute_result"
    }
   ],
   "source": [
    "df2 = query_to_df(query2)\n",
    "df2.head()"
   ]
  },
  {
   "cell_type": "code",
   "execution_count": 127,
   "metadata": {},
   "outputs": [
    {
     "data": {
      "text/plain": [
       "Text(0.5, 1.0, 'Distribution of TotalSales for US and UK Employees')"
      ]
     },
     "execution_count": 127,
     "metadata": {},
     "output_type": "execute_result"
    },
    {
     "data": {
      "image/png": "[encoded data removed]",
      "text/plain": [
       "<Figure size 720x576 with 1 Axes>"
      ]
     },
     "metadata": {
      "needs_background": "light"
     },
     "output_type": "display_data"
    }
   ],
   "source": [
    "plt.figure(figsize=(10,8))\n",
    "sns.distplot(df2.TotalSales);\n",
    "plt.title('Distribution of TotalSales for US and UK Employees')"
   ]
  },
  {
   "cell_type": "markdown",
   "metadata": {},
   "source": [
    "### Observations:\n",
    "- The sales are pretty normal with a long right tail."
   ]
  },
  {
   "cell_type": "markdown",
   "metadata": {},
   "source": [
    "## Run ANOVA test"
   ]
  },
  {
   "cell_type": "code",
   "execution_count": 128,
   "metadata": {},
   "outputs": [
    {
     "name": "stdout",
     "output_type": "stream",
     "text": [
      "                  sum_sq     df         F   PR(>F)\n",
      "C(Country)  3.665972e+05    1.0  0.365666  0.54555\n",
      "Residual    7.880006e+08  786.0       NaN      NaN\n"
     ]
    }
   ],
   "source": [
    "#Run ANOVA to see if there is any significance between Country and TotalSales\n",
    "formula = 'TotalSales ~ C(Country)'\n",
    "lm = ols(formula, df2).fit()\n",
    "table = sm.stats.anova_lm(lm, typ=2)\n",
    "print(table)"
   ]
  },
  {
   "cell_type": "markdown",
   "metadata": {},
   "source": [
    "## Results: The Null Hypothesis is NOT rejected.\n",
    "The p-value is very high. almost 0.9."
   ]
  },
  {
   "cell_type": "code",
   "execution_count": 54,
   "metadata": {},
   "outputs": [],
   "source": [
    "us_employees = df2[df2['Country'] == 'USA']\n"
   ]
  },
  {
   "cell_type": "code",
   "execution_count": 55,
   "metadata": {},
   "outputs": [
    {
     "data": {
      "text/html": [
       "<div>\n",
       "<style scoped>\n",
       "    .dataframe tbody tr th:only-of-type {\n",
       "        vertical-align: middle;\n",
       "    }\n",
       "\n",
       "    .dataframe tbody tr th {\n",
       "        vertical-align: top;\n",
       "    }\n",
       "\n",
       "    .dataframe thead th {\n",
       "        text-align: right;\n",
       "    }\n",
       "</style>\n",
       "<table border=\"1\" class=\"dataframe\">\n",
       "  <thead>\n",
       "    <tr style=\"text-align: right;\">\n",
       "      <th></th>\n",
       "      <th>EmployeeId</th>\n",
       "      <th>OrderId</th>\n",
       "      <th>TotalSales</th>\n",
       "    </tr>\n",
       "  </thead>\n",
       "  <tbody>\n",
       "    <tr>\n",
       "      <th>count</th>\n",
       "      <td>606.000000</td>\n",
       "      <td>606.000000</td>\n",
       "      <td>606.000000</td>\n",
       "    </tr>\n",
       "    <tr>\n",
       "      <th>mean</th>\n",
       "      <td>3.551155</td>\n",
       "      <td>10661.547855</td>\n",
       "      <td>1520.150703</td>\n",
       "    </tr>\n",
       "    <tr>\n",
       "      <th>std</th>\n",
       "      <td>2.285388</td>\n",
       "      <td>241.069141</td>\n",
       "      <td>1829.031323</td>\n",
       "    </tr>\n",
       "    <tr>\n",
       "      <th>min</th>\n",
       "      <td>1.000000</td>\n",
       "      <td>10250.000000</td>\n",
       "      <td>18.400000</td>\n",
       "    </tr>\n",
       "    <tr>\n",
       "      <th>25%</th>\n",
       "      <td>2.000000</td>\n",
       "      <td>10449.250000</td>\n",
       "      <td>456.750000</td>\n",
       "    </tr>\n",
       "    <tr>\n",
       "      <th>50%</th>\n",
       "      <td>3.000000</td>\n",
       "      <td>10661.000000</td>\n",
       "      <td>1013.872500</td>\n",
       "    </tr>\n",
       "    <tr>\n",
       "      <th>75%</th>\n",
       "      <td>4.000000</td>\n",
       "      <td>10871.000000</td>\n",
       "      <td>1847.660000</td>\n",
       "    </tr>\n",
       "    <tr>\n",
       "      <th>max</th>\n",
       "      <td>8.000000</td>\n",
       "      <td>11077.000000</td>\n",
       "      <td>16387.500000</td>\n",
       "    </tr>\n",
       "  </tbody>\n",
       "</table>\n",
       "</div>"
      ],
      "text/plain": [
       "       EmployeeId       OrderId    TotalSales\n",
       "count  606.000000    606.000000    606.000000\n",
       "mean     3.551155  10661.547855   1520.150703\n",
       "std      2.285388    241.069141   1829.031323\n",
       "min      1.000000  10250.000000     18.400000\n",
       "25%      2.000000  10449.250000    456.750000\n",
       "50%      3.000000  10661.000000   1013.872500\n",
       "75%      4.000000  10871.000000   1847.660000\n",
       "max      8.000000  11077.000000  16387.500000"
      ]
     },
     "execution_count": 55,
     "metadata": {},
     "output_type": "execute_result"
    }
   ],
   "source": [
    "us_employees.describe()"
   ]
  },
  {
   "cell_type": "code",
   "execution_count": 56,
   "metadata": {},
   "outputs": [],
   "source": [
    "uk_employees = df2[df2['Country'] == 'UK']"
   ]
  },
  {
   "cell_type": "code",
   "execution_count": 57,
   "metadata": {},
   "outputs": [
    {
     "data": {
      "text/html": [
       "<div>\n",
       "<style scoped>\n",
       "    .dataframe tbody tr th:only-of-type {\n",
       "        vertical-align: middle;\n",
       "    }\n",
       "\n",
       "    .dataframe tbody tr th {\n",
       "        vertical-align: top;\n",
       "    }\n",
       "\n",
       "    .dataframe thead th {\n",
       "        text-align: right;\n",
       "    }\n",
       "</style>\n",
       "<table border=\"1\" class=\"dataframe\">\n",
       "  <thead>\n",
       "    <tr style=\"text-align: right;\">\n",
       "      <th></th>\n",
       "      <th>EmployeeId</th>\n",
       "      <th>OrderId</th>\n",
       "      <th>TotalSales</th>\n",
       "    </tr>\n",
       "  </thead>\n",
       "  <tbody>\n",
       "    <tr>\n",
       "      <th>count</th>\n",
       "      <td>224.000000</td>\n",
       "      <td>224.000000</td>\n",
       "      <td>224.000000</td>\n",
       "    </tr>\n",
       "    <tr>\n",
       "      <th>mean</th>\n",
       "      <td>6.709821</td>\n",
       "      <td>10665.075893</td>\n",
       "      <td>1538.311221</td>\n",
       "    </tr>\n",
       "    <tr>\n",
       "      <th>std</th>\n",
       "      <td>1.319292</td>\n",
       "      <td>236.639797</td>\n",
       "      <td>1892.265365</td>\n",
       "    </tr>\n",
       "    <tr>\n",
       "      <th>min</th>\n",
       "      <td>5.000000</td>\n",
       "      <td>10248.000000</td>\n",
       "      <td>12.500000</td>\n",
       "    </tr>\n",
       "    <tr>\n",
       "      <th>25%</th>\n",
       "      <td>6.000000</td>\n",
       "      <td>10482.250000</td>\n",
       "      <td>454.066250</td>\n",
       "    </tr>\n",
       "    <tr>\n",
       "      <th>50%</th>\n",
       "      <td>7.000000</td>\n",
       "      <td>10666.500000</td>\n",
       "      <td>868.650000</td>\n",
       "    </tr>\n",
       "    <tr>\n",
       "      <th>75%</th>\n",
       "      <td>7.000000</td>\n",
       "      <td>10869.250000</td>\n",
       "      <td>1896.087500</td>\n",
       "    </tr>\n",
       "    <tr>\n",
       "      <th>max</th>\n",
       "      <td>9.000000</td>\n",
       "      <td>11074.000000</td>\n",
       "      <td>12615.050000</td>\n",
       "    </tr>\n",
       "  </tbody>\n",
       "</table>\n",
       "</div>"
      ],
      "text/plain": [
       "       EmployeeId       OrderId    TotalSales\n",
       "count  224.000000    224.000000    224.000000\n",
       "mean     6.709821  10665.075893   1538.311221\n",
       "std      1.319292    236.639797   1892.265365\n",
       "min      5.000000  10248.000000     12.500000\n",
       "25%      6.000000  10482.250000    454.066250\n",
       "50%      7.000000  10666.500000    868.650000\n",
       "75%      7.000000  10869.250000   1896.087500\n",
       "max      9.000000  11074.000000  12615.050000"
      ]
     },
     "execution_count": 57,
     "metadata": {},
     "output_type": "execute_result"
    }
   ],
   "source": [
    "uk_employees.describe()"
   ]
  },
  {
   "cell_type": "code",
   "execution_count": 138,
   "metadata": {},
   "outputs": [
    {
     "data": {
      "image/png": "[encoded data removed]",
      "text/plain": [
       "<Figure size 720x576 with 1 Axes>"
      ]
     },
     "metadata": {
      "needs_background": "light"
     },
     "output_type": "display_data"
    }
   ],
   "source": [
    "plt.figure(figsize=(10,8))\n",
    "sns.distplot(us_employees.TotalSales, label='US');\n",
    "sns.distplot(uk_employees.TotalSales, label='UK');\n",
    "plt.title('Total Sales Distribution of US and UK employees');\n",
    "plt.legend();"
   ]
  },
  {
   "cell_type": "code",
   "execution_count": 139,
   "metadata": {},
   "outputs": [
    {
     "data": {
      "image/png": "[encoded data removed]",
      "text/plain": [
       "<Figure size 720x576 with 1 Axes>"
      ]
     },
     "metadata": {
      "needs_background": "light"
     },
     "output_type": "display_data"
    }
   ],
   "source": [
    "plt.figure(figsize=(10,8))\n",
    "sns.boxplot(df2.Country, df2.TotalSales);\n",
    "plt.title('Boxplots of UK and USA');"
   ]
  },
  {
   "cell_type": "markdown",
   "metadata": {},
   "source": [
    "## Get rid of outliers and run ANOVA test again just to be sure "
   ]
  },
  {
   "cell_type": "code",
   "execution_count": 63,
   "metadata": {},
   "outputs": [],
   "source": [
    "df2 = df2.loc[df2.TotalSales <= df2.TotalSales.quantile(.95)]"
   ]
  },
  {
   "cell_type": "code",
   "execution_count": 135,
   "metadata": {},
   "outputs": [
    {
     "data": {
      "image/png": "[encoded data removed]",
      "text/plain": [
       "<Figure size 720x576 with 1 Axes>"
      ]
     },
     "metadata": {
      "needs_background": "light"
     },
     "output_type": "display_data"
    }
   ],
   "source": [
    "plt.figure(figsize=(10,8))\n",
    "sns.distplot(df2.TotalSales);\n",
    "plt.title('Plot of Total Sales for both US and UK Employees');"
   ]
  },
  {
   "cell_type": "code",
   "execution_count": 67,
   "metadata": {},
   "outputs": [
    {
     "name": "stdout",
     "output_type": "stream",
     "text": [
      "                  sum_sq     df         F   PR(>F)\n",
      "C(Country)  3.665972e+05    1.0  0.365666  0.54555\n",
      "Residual    7.880006e+08  786.0       NaN      NaN\n"
     ]
    }
   ],
   "source": [
    "formula = 'TotalSales ~ C(Country)'\n",
    "lm = ols(formula, df2).fit()\n",
    "table = sm.stats.anova_lm(lm, typ=2)\n",
    "print(table)"
   ]
  },
  {
   "cell_type": "markdown",
   "metadata": {},
   "source": [
    "### Observations:\n",
    "The Null Hypothesis is still rejected. The p-value is much lower though."
   ]
  },
  {
   "cell_type": "markdown",
   "metadata": {},
   "source": [
    "## Plot Each Country Against itself"
   ]
  },
  {
   "cell_type": "code",
   "execution_count": 137,
   "metadata": {},
   "outputs": [
    {
     "data": {
      "image/png": "[encoded data removed]",
      "text/plain": [
       "<Figure size 720x576 with 1 Axes>"
      ]
     },
     "metadata": {
      "needs_background": "light"
     },
     "output_type": "display_data"
    }
   ],
   "source": [
    "us_employees = df2[df2['Country'] == 'USA']\n",
    "uk_employees = df2[df2['Country'] == 'UK']\n",
    "plt.figure(figsize=(10,8))\n",
    "sns.distplot(us_employees.TotalSales, label='US');\n",
    "sns.distplot(uk_employees.TotalSales, label='UK');\n",
    "plt.title('US and UK employees');\n",
    "plt.legend();"
   ]
  },
  {
   "cell_type": "markdown",
   "metadata": {},
   "source": [
    "### Observations:\n",
    "There is still a lot of overlap from the two countries. There is no discernable significant difference."
   ]
  },
  {
   "cell_type": "code",
   "execution_count": 141,
   "metadata": {},
   "outputs": [
    {
     "data": {
      "text/plain": [
       "4    148\n",
       "3    120\n",
       "1    118\n",
       "8    102\n",
       "2     90\n",
       "Name: EmployeeId, dtype: int64"
      ]
     },
     "execution_count": 141,
     "metadata": {},
     "output_type": "execute_result"
    }
   ],
   "source": [
    "us_employees.EmployeeId.value_counts()"
   ]
  },
  {
   "cell_type": "code",
   "execution_count": 142,
   "metadata": {},
   "outputs": [
    {
     "data": {
      "text/plain": [
       "7    66\n",
       "6    66\n",
       "5    40\n",
       "9    38\n",
       "Name: EmployeeId, dtype: int64"
      ]
     },
     "execution_count": 142,
     "metadata": {},
     "output_type": "execute_result"
    }
   ],
   "source": [
    "uk_employees.EmployeeId.value_counts()"
   ]
  },
  {
   "cell_type": "markdown",
   "metadata": {},
   "source": [
    "## Business Analysis\n",
    "Based on the amount sold for each order, the US and the UK sell about the same per order. However, the US has almost three times as many orders as the UK employees do. While the US does have one more employee, they all outsale the top UK employee. Further evaluation of the UK office may need to be made to discover why their sales are so far behind the US employees. Perhaps the UK has certain regulations about where it can sell or it makes sales more difficult than the US employees. More attention should be put into managing the UK team and seeing if they can boost their numbers. "
   ]
  },
  {
   "cell_type": "markdown",
   "metadata": {
    "heading_collapsed": true
   },
   "source": [
    "# Third Question: Does an employees age have a statistically signifiant effect on order totals\n"
   ]
  },
  {
   "cell_type": "markdown",
   "metadata": {
    "hidden": true
   },
   "source": [
    "## Hypotheses: \n",
    "Null: All employees sell the same amounts regardless of age\n",
    "\n",
    "Alternative: Certain age groups sell more than others"
   ]
  },
  {
   "cell_type": "markdown",
   "metadata": {
    "hidden": true
   },
   "source": [
    "## Explore data"
   ]
  },
  {
   "cell_type": "code",
   "execution_count": 70,
   "metadata": {
    "hidden": true
   },
   "outputs": [],
   "source": [
    "query3 = \"\"\"SELECT Birthdate, EmployeeId, OrderId, SUM(UnitPrice*Quantity*(1-Discount)) as TotalSales\n",
    "            FROM Employee\n",
    "            JOIN [Order]\n",
    "                ON [Order].EmployeeId = Employee.ID\n",
    "            JOIN OrderDetail\n",
    "                ON [Order].Id = OrderDetail.OrderId\n",
    "            GROUP BY OrderID\n",
    "            ;\"\"\""
   ]
  },
  {
   "cell_type": "code",
   "execution_count": 71,
   "metadata": {
    "hidden": true
   },
   "outputs": [
    {
     "data": {
      "text/html": [
       "<div>\n",
       "<style scoped>\n",
       "    .dataframe tbody tr th:only-of-type {\n",
       "        vertical-align: middle;\n",
       "    }\n",
       "\n",
       "    .dataframe tbody tr th {\n",
       "        vertical-align: top;\n",
       "    }\n",
       "\n",
       "    .dataframe thead th {\n",
       "        text-align: right;\n",
       "    }\n",
       "</style>\n",
       "<table border=\"1\" class=\"dataframe\">\n",
       "  <thead>\n",
       "    <tr style=\"text-align: right;\">\n",
       "      <th></th>\n",
       "      <th>BirthDate</th>\n",
       "      <th>EmployeeId</th>\n",
       "      <th>OrderId</th>\n",
       "      <th>TotalSales</th>\n",
       "    </tr>\n",
       "  </thead>\n",
       "  <tbody>\n",
       "    <tr>\n",
       "      <th>0</th>\n",
       "      <td>1987-03-04</td>\n",
       "      <td>5</td>\n",
       "      <td>10248</td>\n",
       "      <td>440.00</td>\n",
       "    </tr>\n",
       "    <tr>\n",
       "      <th>1</th>\n",
       "      <td>1995-07-02</td>\n",
       "      <td>6</td>\n",
       "      <td>10249</td>\n",
       "      <td>1863.40</td>\n",
       "    </tr>\n",
       "    <tr>\n",
       "      <th>2</th>\n",
       "      <td>1969-09-19</td>\n",
       "      <td>4</td>\n",
       "      <td>10250</td>\n",
       "      <td>1552.60</td>\n",
       "    </tr>\n",
       "    <tr>\n",
       "      <th>3</th>\n",
       "      <td>1995-08-30</td>\n",
       "      <td>3</td>\n",
       "      <td>10251</td>\n",
       "      <td>654.06</td>\n",
       "    </tr>\n",
       "    <tr>\n",
       "      <th>4</th>\n",
       "      <td>1969-09-19</td>\n",
       "      <td>4</td>\n",
       "      <td>10252</td>\n",
       "      <td>3597.90</td>\n",
       "    </tr>\n",
       "  </tbody>\n",
       "</table>\n",
       "</div>"
      ],
      "text/plain": [
       "    BirthDate  EmployeeId  OrderId  TotalSales\n",
       "0  1987-03-04           5    10248      440.00\n",
       "1  1995-07-02           6    10249     1863.40\n",
       "2  1969-09-19           4    10250     1552.60\n",
       "3  1995-08-30           3    10251      654.06\n",
       "4  1969-09-19           4    10252     3597.90"
      ]
     },
     "execution_count": 71,
     "metadata": {},
     "output_type": "execute_result"
    }
   ],
   "source": [
    "df3 = query_to_df(query3)\n",
    "df3.head()"
   ]
  },
  {
   "cell_type": "code",
   "execution_count": 72,
   "metadata": {
    "hidden": true
   },
   "outputs": [
    {
     "data": {
      "text/plain": [
       "1969-09-19    156\n",
       "1995-08-30    127\n",
       "1980-12-08    123\n",
       "1990-01-09    104\n",
       "1984-02-19     96\n",
       "1992-05-29     72\n",
       "1995-07-02     67\n",
       "1998-01-27     43\n",
       "1987-03-04     42\n",
       "Name: BirthDate, dtype: int64"
      ]
     },
     "execution_count": 72,
     "metadata": {},
     "output_type": "execute_result"
    }
   ],
   "source": [
    "df3.BirthDate.value_counts()"
   ]
  },
  {
   "cell_type": "markdown",
   "metadata": {
    "hidden": true
   },
   "source": [
    "There are only 9 birthdays and quite a few members for each date. I will just use the year and group them together like they already are. "
   ]
  },
  {
   "cell_type": "code",
   "execution_count": 73,
   "metadata": {
    "hidden": true
   },
   "outputs": [
    {
     "name": "stdout",
     "output_type": "stream",
     "text": [
      "<class 'pandas.core.frame.DataFrame'>\n",
      "RangeIndex: 830 entries, 0 to 829\n",
      "Data columns (total 4 columns):\n",
      "BirthDate     830 non-null object\n",
      "EmployeeId    830 non-null int64\n",
      "OrderId       830 non-null int64\n",
      "TotalSales    830 non-null float64\n",
      "dtypes: float64(1), int64(2), object(1)\n",
      "memory usage: 26.0+ KB\n"
     ]
    }
   ],
   "source": [
    "df3.info()"
   ]
  },
  {
   "cell_type": "code",
   "execution_count": 74,
   "metadata": {
    "hidden": true
   },
   "outputs": [],
   "source": [
    "df3['Birth_Year'] = df3['BirthDate'].str[:4]"
   ]
  },
  {
   "cell_type": "code",
   "execution_count": 75,
   "metadata": {
    "hidden": true
   },
   "outputs": [
    {
     "data": {
      "text/html": [
       "<div>\n",
       "<style scoped>\n",
       "    .dataframe tbody tr th:only-of-type {\n",
       "        vertical-align: middle;\n",
       "    }\n",
       "\n",
       "    .dataframe tbody tr th {\n",
       "        vertical-align: top;\n",
       "    }\n",
       "\n",
       "    .dataframe thead th {\n",
       "        text-align: right;\n",
       "    }\n",
       "</style>\n",
       "<table border=\"1\" class=\"dataframe\">\n",
       "  <thead>\n",
       "    <tr style=\"text-align: right;\">\n",
       "      <th></th>\n",
       "      <th>BirthDate</th>\n",
       "      <th>EmployeeId</th>\n",
       "      <th>OrderId</th>\n",
       "      <th>TotalSales</th>\n",
       "      <th>Birth_Year</th>\n",
       "    </tr>\n",
       "  </thead>\n",
       "  <tbody>\n",
       "    <tr>\n",
       "      <th>0</th>\n",
       "      <td>1987-03-04</td>\n",
       "      <td>5</td>\n",
       "      <td>10248</td>\n",
       "      <td>440.00</td>\n",
       "      <td>1987</td>\n",
       "    </tr>\n",
       "    <tr>\n",
       "      <th>1</th>\n",
       "      <td>1995-07-02</td>\n",
       "      <td>6</td>\n",
       "      <td>10249</td>\n",
       "      <td>1863.40</td>\n",
       "      <td>1995</td>\n",
       "    </tr>\n",
       "    <tr>\n",
       "      <th>2</th>\n",
       "      <td>1969-09-19</td>\n",
       "      <td>4</td>\n",
       "      <td>10250</td>\n",
       "      <td>1552.60</td>\n",
       "      <td>1969</td>\n",
       "    </tr>\n",
       "    <tr>\n",
       "      <th>3</th>\n",
       "      <td>1995-08-30</td>\n",
       "      <td>3</td>\n",
       "      <td>10251</td>\n",
       "      <td>654.06</td>\n",
       "      <td>1995</td>\n",
       "    </tr>\n",
       "    <tr>\n",
       "      <th>4</th>\n",
       "      <td>1969-09-19</td>\n",
       "      <td>4</td>\n",
       "      <td>10252</td>\n",
       "      <td>3597.90</td>\n",
       "      <td>1969</td>\n",
       "    </tr>\n",
       "  </tbody>\n",
       "</table>\n",
       "</div>"
      ],
      "text/plain": [
       "    BirthDate  EmployeeId  OrderId  TotalSales Birth_Year\n",
       "0  1987-03-04           5    10248      440.00       1987\n",
       "1  1995-07-02           6    10249     1863.40       1995\n",
       "2  1969-09-19           4    10250     1552.60       1969\n",
       "3  1995-08-30           3    10251      654.06       1995\n",
       "4  1969-09-19           4    10252     3597.90       1969"
      ]
     },
     "execution_count": 75,
     "metadata": {},
     "output_type": "execute_result"
    }
   ],
   "source": [
    "df3.head()"
   ]
  },
  {
   "cell_type": "code",
   "execution_count": 76,
   "metadata": {
    "hidden": true
   },
   "outputs": [],
   "source": [
    "year_dummies = pd.get_dummies(df3.Birth_Year, prefix='Year')"
   ]
  },
  {
   "cell_type": "code",
   "execution_count": 77,
   "metadata": {
    "hidden": true
   },
   "outputs": [
    {
     "data": {
      "text/html": [
       "<div>\n",
       "<style scoped>\n",
       "    .dataframe tbody tr th:only-of-type {\n",
       "        vertical-align: middle;\n",
       "    }\n",
       "\n",
       "    .dataframe tbody tr th {\n",
       "        vertical-align: top;\n",
       "    }\n",
       "\n",
       "    .dataframe thead th {\n",
       "        text-align: right;\n",
       "    }\n",
       "</style>\n",
       "<table border=\"1\" class=\"dataframe\">\n",
       "  <thead>\n",
       "    <tr style=\"text-align: right;\">\n",
       "      <th></th>\n",
       "      <th>BirthDate</th>\n",
       "      <th>EmployeeId</th>\n",
       "      <th>OrderId</th>\n",
       "      <th>TotalSales</th>\n",
       "      <th>Birth_Year</th>\n",
       "      <th>Year_1969</th>\n",
       "      <th>Year_1980</th>\n",
       "      <th>Year_1984</th>\n",
       "      <th>Year_1987</th>\n",
       "      <th>Year_1990</th>\n",
       "      <th>Year_1992</th>\n",
       "      <th>Year_1995</th>\n",
       "      <th>Year_1998</th>\n",
       "    </tr>\n",
       "  </thead>\n",
       "  <tbody>\n",
       "    <tr>\n",
       "      <th>0</th>\n",
       "      <td>1987-03-04</td>\n",
       "      <td>5</td>\n",
       "      <td>10248</td>\n",
       "      <td>440.00</td>\n",
       "      <td>1987</td>\n",
       "      <td>0</td>\n",
       "      <td>0</td>\n",
       "      <td>0</td>\n",
       "      <td>1</td>\n",
       "      <td>0</td>\n",
       "      <td>0</td>\n",
       "      <td>0</td>\n",
       "      <td>0</td>\n",
       "    </tr>\n",
       "    <tr>\n",
       "      <th>1</th>\n",
       "      <td>1995-07-02</td>\n",
       "      <td>6</td>\n",
       "      <td>10249</td>\n",
       "      <td>1863.40</td>\n",
       "      <td>1995</td>\n",
       "      <td>0</td>\n",
       "      <td>0</td>\n",
       "      <td>0</td>\n",
       "      <td>0</td>\n",
       "      <td>0</td>\n",
       "      <td>0</td>\n",
       "      <td>1</td>\n",
       "      <td>0</td>\n",
       "    </tr>\n",
       "    <tr>\n",
       "      <th>2</th>\n",
       "      <td>1969-09-19</td>\n",
       "      <td>4</td>\n",
       "      <td>10250</td>\n",
       "      <td>1552.60</td>\n",
       "      <td>1969</td>\n",
       "      <td>1</td>\n",
       "      <td>0</td>\n",
       "      <td>0</td>\n",
       "      <td>0</td>\n",
       "      <td>0</td>\n",
       "      <td>0</td>\n",
       "      <td>0</td>\n",
       "      <td>0</td>\n",
       "    </tr>\n",
       "    <tr>\n",
       "      <th>3</th>\n",
       "      <td>1995-08-30</td>\n",
       "      <td>3</td>\n",
       "      <td>10251</td>\n",
       "      <td>654.06</td>\n",
       "      <td>1995</td>\n",
       "      <td>0</td>\n",
       "      <td>0</td>\n",
       "      <td>0</td>\n",
       "      <td>0</td>\n",
       "      <td>0</td>\n",
       "      <td>0</td>\n",
       "      <td>1</td>\n",
       "      <td>0</td>\n",
       "    </tr>\n",
       "    <tr>\n",
       "      <th>4</th>\n",
       "      <td>1969-09-19</td>\n",
       "      <td>4</td>\n",
       "      <td>10252</td>\n",
       "      <td>3597.90</td>\n",
       "      <td>1969</td>\n",
       "      <td>1</td>\n",
       "      <td>0</td>\n",
       "      <td>0</td>\n",
       "      <td>0</td>\n",
       "      <td>0</td>\n",
       "      <td>0</td>\n",
       "      <td>0</td>\n",
       "      <td>0</td>\n",
       "    </tr>\n",
       "  </tbody>\n",
       "</table>\n",
       "</div>"
      ],
      "text/plain": [
       "    BirthDate  EmployeeId  OrderId  TotalSales Birth_Year  Year_1969  \\\n",
       "0  1987-03-04           5    10248      440.00       1987          0   \n",
       "1  1995-07-02           6    10249     1863.40       1995          0   \n",
       "2  1969-09-19           4    10250     1552.60       1969          1   \n",
       "3  1995-08-30           3    10251      654.06       1995          0   \n",
       "4  1969-09-19           4    10252     3597.90       1969          1   \n",
       "\n",
       "   Year_1980  Year_1984  Year_1987  Year_1990  Year_1992  Year_1995  Year_1998  \n",
       "0          0          0          1          0          0          0          0  \n",
       "1          0          0          0          0          0          1          0  \n",
       "2          0          0          0          0          0          0          0  \n",
       "3          0          0          0          0          0          1          0  \n",
       "4          0          0          0          0          0          0          0  "
      ]
     },
     "execution_count": 77,
     "metadata": {},
     "output_type": "execute_result"
    }
   ],
   "source": [
    "df3 = pd.concat([df3, year_dummies], axis=1)\n",
    "df3.head()"
   ]
  },
  {
   "cell_type": "code",
   "execution_count": 78,
   "metadata": {
    "hidden": true
   },
   "outputs": [
    {
     "name": "stdout",
     "output_type": "stream",
     "text": [
      "                    sum_sq     df         F    PR(>F)\n",
      "C(Year_1969)  1.379824e+06    1.0  0.405136  0.524626\n",
      "C(Year_1980)  3.454270e+06    1.0  1.014222  0.314190\n",
      "C(Year_1984)  1.197958e+07    1.0  3.517373  0.061083\n",
      "C(Year_1987)  2.859841e+06    1.0  0.839689  0.359754\n",
      "C(Year_1990)  3.729520e+06    1.0  1.095039  0.295665\n",
      "C(Year_1992)  9.036989e+06    1.0  2.653386  0.103713\n",
      "C(Year_1995)  1.310900e+05    1.0  0.038490  0.844511\n",
      "C(Year_1998)  8.181149e+06    1.0  2.402100  0.121557\n",
      "Residual      2.799594e+09  822.0       NaN       NaN\n"
     ]
    }
   ],
   "source": [
    "#Run ANOVA to see if there is any significance between Country and TotalSales\n",
    "formula = \"\"\"TotalSales ~ C(Year_1969) + C(Year_1980) + C(Year_1984) + C(Year_1987) +\n",
    "             C(Year_1990) + C(Year_1992) + C(Year_1995) + C(Year_1998)\"\"\"\n",
    "lm = ols(formula, df3).fit()\n",
    "table = sm.stats.anova_lm(lm, typ=2)\n",
    "print(table)"
   ]
  },
  {
   "cell_type": "markdown",
   "metadata": {
    "hidden": true
   },
   "source": [
    "## Observations:\n",
    "No year rejects the Null Hypothesis. All values have a p-value above 0.05."
   ]
  },
  {
   "cell_type": "code",
   "execution_count": 84,
   "metadata": {
    "hidden": true
   },
   "outputs": [
    {
     "data": {
      "image/png": "[encoded data removed]",
      "text/plain": [
       "<Figure size 720x720 with 1 Axes>"
      ]
     },
     "metadata": {
      "needs_background": "light"
     },
     "output_type": "display_data"
    }
   ],
   "source": [
    "plt.figure(figsize=(10,10))\n",
    "sns.boxplot(df3.Birth_Year, df3.TotalSales);\n",
    "plt.title('Boxplots of Each Year Group');"
   ]
  },
  {
   "cell_type": "markdown",
   "metadata": {
    "hidden": true
   },
   "source": [
    "## Remove outliers and run anova again"
   ]
  },
  {
   "cell_type": "code",
   "execution_count": 89,
   "metadata": {
    "hidden": true
   },
   "outputs": [],
   "source": [
    "df3 = df3.loc[df3.TotalSales <= df3.TotalSales.quantile(.95)]"
   ]
  },
  {
   "cell_type": "code",
   "execution_count": 87,
   "metadata": {
    "hidden": true
   },
   "outputs": [
    {
     "name": "stdout",
     "output_type": "stream",
     "text": [
      "                    sum_sq     df         F    PR(>F)\n",
      "C(Year_1969)  3.302644e+06    1.0  3.282141  0.070422\n",
      "C(Year_1980)  6.245371e+06    1.0  6.206599  0.012934\n",
      "C(Year_1984)  2.255936e+06    1.0  2.241931  0.134718\n",
      "C(Year_1987)  3.076167e+06    1.0  3.057069  0.080780\n",
      "C(Year_1990)  6.181957e+05    1.0  0.614358  0.433390\n",
      "C(Year_1992)  1.001216e+06    1.0  0.995000  0.318833\n",
      "C(Year_1995)  3.623631e+05    1.0  0.360113  0.548618\n",
      "C(Year_1998)  2.140145e+05    1.0  0.212686  0.644799\n",
      "Residual      7.848727e+08  780.0       NaN       NaN\n"
     ]
    }
   ],
   "source": [
    "formula = \"\"\"TotalSales ~ C(Year_1969) + C(Year_1980) + C(Year_1984) + C(Year_1987) +\n",
    "             C(Year_1990) + C(Year_1992) + C(Year_1995) + C(Year_1998)\"\"\"\n",
    "lm = ols(formula, df3).fit()\n",
    "table = sm.stats.anova_lm(lm, typ=2)\n",
    "print(table)"
   ]
  },
  {
   "cell_type": "code",
   "execution_count": 90,
   "metadata": {
    "hidden": true
   },
   "outputs": [
    {
     "data": {
      "image/png": "[encoded data removed]",
      "text/plain": [
       "<Figure size 720x720 with 1 Axes>"
      ]
     },
     "metadata": {
      "needs_background": "light"
     },
     "output_type": "display_data"
    }
   ],
   "source": [
    "plt.figure(figsize=(10,10))\n",
    "sns.boxplot(df3.Birth_Year, df3.TotalSales);\n",
    "plt.title('Boxplots of Each Year Group');"
   ]
  },
  {
   "cell_type": "markdown",
   "metadata": {
    "hidden": true
   },
   "source": [
    "### Observations:\n",
    "- Just by looking at the boxplots, there is only a small difference from each group\n",
    "- The means are all very close together. Roughly between 700 and 800"
   ]
  },
  {
   "cell_type": "markdown",
   "metadata": {
    "hidden": true
   },
   "source": [
    "## Business Analysis:\n",
    "Each age group is capable of making sales and it doesn't seem like older or younger employees have any advantage. "
   ]
  },
  {
   "cell_type": "markdown",
   "metadata": {},
   "source": [
    "# Fourth Question: Do countries shipped to have a statistically significant effect on discounts"
   ]
  },
  {
   "cell_type": "markdown",
   "metadata": {},
   "source": [
    "## Hypotheses: \n",
    "Null: All countries use the same discounts\n",
    "\n",
    "Alternative: Certain countries use more or less discounts"
   ]
  },
  {
   "cell_type": "markdown",
   "metadata": {},
   "source": [
    "## Explore Data"
   ]
  },
  {
   "cell_type": "code",
   "execution_count": 93,
   "metadata": {},
   "outputs": [],
   "source": [
    "query4 = \"\"\"SELECT ShipCountry, OrderId, Discount\n",
    "           FROM [Order]\n",
    "           JOIN OrderDetail\n",
    "                ON [Order].Id = OrderDetail.OrderId\n",
    "            ;\"\"\""
   ]
  },
  {
   "cell_type": "code",
   "execution_count": 94,
   "metadata": {},
   "outputs": [
    {
     "data": {
      "text/html": [
       "<div>\n",
       "<style scoped>\n",
       "    .dataframe tbody tr th:only-of-type {\n",
       "        vertical-align: middle;\n",
       "    }\n",
       "\n",
       "    .dataframe tbody tr th {\n",
       "        vertical-align: top;\n",
       "    }\n",
       "\n",
       "    .dataframe thead th {\n",
       "        text-align: right;\n",
       "    }\n",
       "</style>\n",
       "<table border=\"1\" class=\"dataframe\">\n",
       "  <thead>\n",
       "    <tr style=\"text-align: right;\">\n",
       "      <th></th>\n",
       "      <th>ShipCountry</th>\n",
       "      <th>OrderId</th>\n",
       "      <th>Discount</th>\n",
       "    </tr>\n",
       "  </thead>\n",
       "  <tbody>\n",
       "    <tr>\n",
       "      <th>0</th>\n",
       "      <td>France</td>\n",
       "      <td>10248</td>\n",
       "      <td>0.0</td>\n",
       "    </tr>\n",
       "    <tr>\n",
       "      <th>1</th>\n",
       "      <td>France</td>\n",
       "      <td>10248</td>\n",
       "      <td>0.0</td>\n",
       "    </tr>\n",
       "    <tr>\n",
       "      <th>2</th>\n",
       "      <td>France</td>\n",
       "      <td>10248</td>\n",
       "      <td>0.0</td>\n",
       "    </tr>\n",
       "    <tr>\n",
       "      <th>3</th>\n",
       "      <td>Germany</td>\n",
       "      <td>10249</td>\n",
       "      <td>0.0</td>\n",
       "    </tr>\n",
       "    <tr>\n",
       "      <th>4</th>\n",
       "      <td>Germany</td>\n",
       "      <td>10249</td>\n",
       "      <td>0.0</td>\n",
       "    </tr>\n",
       "  </tbody>\n",
       "</table>\n",
       "</div>"
      ],
      "text/plain": [
       "  ShipCountry  OrderId  Discount\n",
       "0      France    10248       0.0\n",
       "1      France    10248       0.0\n",
       "2      France    10248       0.0\n",
       "3     Germany    10249       0.0\n",
       "4     Germany    10249       0.0"
      ]
     },
     "execution_count": 94,
     "metadata": {},
     "output_type": "execute_result"
    }
   ],
   "source": [
    "df4 = query_to_df(query4)\n",
    "df4.head()"
   ]
  },
  {
   "cell_type": "code",
   "execution_count": 95,
   "metadata": {},
   "outputs": [
    {
     "data": {
      "text/html": [
       "<div>\n",
       "<style scoped>\n",
       "    .dataframe tbody tr th:only-of-type {\n",
       "        vertical-align: middle;\n",
       "    }\n",
       "\n",
       "    .dataframe tbody tr th {\n",
       "        vertical-align: top;\n",
       "    }\n",
       "\n",
       "    .dataframe thead th {\n",
       "        text-align: right;\n",
       "    }\n",
       "</style>\n",
       "<table border=\"1\" class=\"dataframe\">\n",
       "  <thead>\n",
       "    <tr style=\"text-align: right;\">\n",
       "      <th></th>\n",
       "      <th>OrderId</th>\n",
       "      <th>Discount</th>\n",
       "    </tr>\n",
       "  </thead>\n",
       "  <tbody>\n",
       "    <tr>\n",
       "      <th>count</th>\n",
       "      <td>2155.000000</td>\n",
       "      <td>2155.000000</td>\n",
       "    </tr>\n",
       "    <tr>\n",
       "      <th>mean</th>\n",
       "      <td>10659.375870</td>\n",
       "      <td>0.056167</td>\n",
       "    </tr>\n",
       "    <tr>\n",
       "      <th>std</th>\n",
       "      <td>241.378032</td>\n",
       "      <td>0.083450</td>\n",
       "    </tr>\n",
       "    <tr>\n",
       "      <th>min</th>\n",
       "      <td>10248.000000</td>\n",
       "      <td>0.000000</td>\n",
       "    </tr>\n",
       "    <tr>\n",
       "      <th>25%</th>\n",
       "      <td>10451.000000</td>\n",
       "      <td>0.000000</td>\n",
       "    </tr>\n",
       "    <tr>\n",
       "      <th>50%</th>\n",
       "      <td>10657.000000</td>\n",
       "      <td>0.000000</td>\n",
       "    </tr>\n",
       "    <tr>\n",
       "      <th>75%</th>\n",
       "      <td>10862.500000</td>\n",
       "      <td>0.100000</td>\n",
       "    </tr>\n",
       "    <tr>\n",
       "      <th>max</th>\n",
       "      <td>11077.000000</td>\n",
       "      <td>0.250000</td>\n",
       "    </tr>\n",
       "  </tbody>\n",
       "</table>\n",
       "</div>"
      ],
      "text/plain": [
       "            OrderId     Discount\n",
       "count   2155.000000  2155.000000\n",
       "mean   10659.375870     0.056167\n",
       "std      241.378032     0.083450\n",
       "min    10248.000000     0.000000\n",
       "25%    10451.000000     0.000000\n",
       "50%    10657.000000     0.000000\n",
       "75%    10862.500000     0.100000\n",
       "max    11077.000000     0.250000"
      ]
     },
     "execution_count": 95,
     "metadata": {},
     "output_type": "execute_result"
    }
   ],
   "source": [
    "df4.describe()"
   ]
  },
  {
   "cell_type": "code",
   "execution_count": 96,
   "metadata": {},
   "outputs": [
    {
     "data": {
      "text/plain": [
       "USA            352\n",
       "Germany        328\n",
       "Brazil         203\n",
       "France         184\n",
       "UK             135\n",
       "Austria        125\n",
       "Venezuela      118\n",
       "Sweden          97\n",
       "Canada          75\n",
       "Mexico          72\n",
       "Belgium         56\n",
       "Ireland         55\n",
       "Finland         54\n",
       "Spain           54\n",
       "Italy           53\n",
       "Switzerland     52\n",
       "Denmark         46\n",
       "Argentina       34\n",
       "Portugal        30\n",
       "Poland          16\n",
       "Norway          16\n",
       "Name: ShipCountry, dtype: int64"
      ]
     },
     "execution_count": 96,
     "metadata": {},
     "output_type": "execute_result"
    }
   ],
   "source": [
    "df4.ShipCountry.value_counts()"
   ]
  },
  {
   "cell_type": "markdown",
   "metadata": {},
   "source": [
    "## Run ANOVA to see if there is any significance between Country and TotalSales\n"
   ]
  },
  {
   "cell_type": "code",
   "execution_count": 98,
   "metadata": {},
   "outputs": [
    {
     "name": "stdout",
     "output_type": "stream",
     "text": [
      "                   sum_sq      df         F        PR(>F)\n",
      "C(ShipCountry)   0.889406    20.0  6.725257  2.548583e-18\n",
      "Residual        14.110934  2134.0       NaN           NaN\n"
     ]
    }
   ],
   "source": [
    "formula = 'Discount ~ C(ShipCountry)'\n",
    "lm = ols(formula, df4).fit()\n",
    "table = sm.stats.anova_lm(lm, typ=2)\n",
    "print(table)"
   ]
  },
  {
   "cell_type": "markdown",
   "metadata": {},
   "source": [
    "### Null Hypothesis is rejected\n",
    "The p-value is very very small. Much less than 0.05. Further exploration is required"
   ]
  },
  {
   "cell_type": "code",
   "execution_count": 102,
   "metadata": {},
   "outputs": [
    {
     "data": {
      "image/png": "[encoded data removed]",
      "text/plain": [
       "<Figure size 1224x720 with 1 Axes>"
      ]
     },
     "metadata": {
      "needs_background": "light"
     },
     "output_type": "display_data"
    }
   ],
   "source": [
    "plt.figure(figsize=(17,10))\n",
    "sns.boxplot(df4.ShipCountry, df4.Discount);\n",
    "plt.title('Boxplots of Each Country That is Shipped To');"
   ]
  },
  {
   "cell_type": "markdown",
   "metadata": {},
   "source": [
    "## Find effect size of Discount for each country"
   ]
  },
  {
   "cell_type": "code",
   "execution_count": 104,
   "metadata": {},
   "outputs": [],
   "source": [
    "country_dummies = pd.get_dummies(df4.ShipCountry, prefix='Co')"
   ]
  },
  {
   "cell_type": "code",
   "execution_count": 105,
   "metadata": {},
   "outputs": [
    {
     "data": {
      "text/html": [
       "<div>\n",
       "<style scoped>\n",
       "    .dataframe tbody tr th:only-of-type {\n",
       "        vertical-align: middle;\n",
       "    }\n",
       "\n",
       "    .dataframe tbody tr th {\n",
       "        vertical-align: top;\n",
       "    }\n",
       "\n",
       "    .dataframe thead th {\n",
       "        text-align: right;\n",
       "    }\n",
       "</style>\n",
       "<table border=\"1\" class=\"dataframe\">\n",
       "  <thead>\n",
       "    <tr style=\"text-align: right;\">\n",
       "      <th></th>\n",
       "      <th>ShipCountry</th>\n",
       "      <th>OrderId</th>\n",
       "      <th>Discount</th>\n",
       "      <th>Co_Argentina</th>\n",
       "      <th>Co_Austria</th>\n",
       "      <th>Co_Belgium</th>\n",
       "      <th>Co_Brazil</th>\n",
       "      <th>Co_Canada</th>\n",
       "      <th>Co_Denmark</th>\n",
       "      <th>Co_Finland</th>\n",
       "      <th>...</th>\n",
       "      <th>Co_Mexico</th>\n",
       "      <th>Co_Norway</th>\n",
       "      <th>Co_Poland</th>\n",
       "      <th>Co_Portugal</th>\n",
       "      <th>Co_Spain</th>\n",
       "      <th>Co_Sweden</th>\n",
       "      <th>Co_Switzerland</th>\n",
       "      <th>Co_UK</th>\n",
       "      <th>Co_USA</th>\n",
       "      <th>Co_Venezuela</th>\n",
       "    </tr>\n",
       "  </thead>\n",
       "  <tbody>\n",
       "    <tr>\n",
       "      <th>0</th>\n",
       "      <td>France</td>\n",
       "      <td>10248</td>\n",
       "      <td>0.0</td>\n",
       "      <td>0</td>\n",
       "      <td>0</td>\n",
       "      <td>0</td>\n",
       "      <td>0</td>\n",
       "      <td>0</td>\n",
       "      <td>0</td>\n",
       "      <td>0</td>\n",
       "      <td>...</td>\n",
       "      <td>0</td>\n",
       "      <td>0</td>\n",
       "      <td>0</td>\n",
       "      <td>0</td>\n",
       "      <td>0</td>\n",
       "      <td>0</td>\n",
       "      <td>0</td>\n",
       "      <td>0</td>\n",
       "      <td>0</td>\n",
       "      <td>0</td>\n",
       "    </tr>\n",
       "    <tr>\n",
       "      <th>1</th>\n",
       "      <td>France</td>\n",
       "      <td>10248</td>\n",
       "      <td>0.0</td>\n",
       "      <td>0</td>\n",
       "      <td>0</td>\n",
       "      <td>0</td>\n",
       "      <td>0</td>\n",
       "      <td>0</td>\n",
       "      <td>0</td>\n",
       "      <td>0</td>\n",
       "      <td>...</td>\n",
       "      <td>0</td>\n",
       "      <td>0</td>\n",
       "      <td>0</td>\n",
       "      <td>0</td>\n",
       "      <td>0</td>\n",
       "      <td>0</td>\n",
       "      <td>0</td>\n",
       "      <td>0</td>\n",
       "      <td>0</td>\n",
       "      <td>0</td>\n",
       "    </tr>\n",
       "    <tr>\n",
       "      <th>2</th>\n",
       "      <td>France</td>\n",
       "      <td>10248</td>\n",
       "      <td>0.0</td>\n",
       "      <td>0</td>\n",
       "      <td>0</td>\n",
       "      <td>0</td>\n",
       "      <td>0</td>\n",
       "      <td>0</td>\n",
       "      <td>0</td>\n",
       "      <td>0</td>\n",
       "      <td>...</td>\n",
       "      <td>0</td>\n",
       "      <td>0</td>\n",
       "      <td>0</td>\n",
       "      <td>0</td>\n",
       "      <td>0</td>\n",
       "      <td>0</td>\n",
       "      <td>0</td>\n",
       "      <td>0</td>\n",
       "      <td>0</td>\n",
       "      <td>0</td>\n",
       "    </tr>\n",
       "    <tr>\n",
       "      <th>3</th>\n",
       "      <td>Germany</td>\n",
       "      <td>10249</td>\n",
       "      <td>0.0</td>\n",
       "      <td>0</td>\n",
       "      <td>0</td>\n",
       "      <td>0</td>\n",
       "      <td>0</td>\n",
       "      <td>0</td>\n",
       "      <td>0</td>\n",
       "      <td>0</td>\n",
       "      <td>...</td>\n",
       "      <td>0</td>\n",
       "      <td>0</td>\n",
       "      <td>0</td>\n",
       "      <td>0</td>\n",
       "      <td>0</td>\n",
       "      <td>0</td>\n",
       "      <td>0</td>\n",
       "      <td>0</td>\n",
       "      <td>0</td>\n",
       "      <td>0</td>\n",
       "    </tr>\n",
       "    <tr>\n",
       "      <th>4</th>\n",
       "      <td>Germany</td>\n",
       "      <td>10249</td>\n",
       "      <td>0.0</td>\n",
       "      <td>0</td>\n",
       "      <td>0</td>\n",
       "      <td>0</td>\n",
       "      <td>0</td>\n",
       "      <td>0</td>\n",
       "      <td>0</td>\n",
       "      <td>0</td>\n",
       "      <td>...</td>\n",
       "      <td>0</td>\n",
       "      <td>0</td>\n",
       "      <td>0</td>\n",
       "      <td>0</td>\n",
       "      <td>0</td>\n",
       "      <td>0</td>\n",
       "      <td>0</td>\n",
       "      <td>0</td>\n",
       "      <td>0</td>\n",
       "      <td>0</td>\n",
       "    </tr>\n",
       "  </tbody>\n",
       "</table>\n",
       "<p>5 rows × 24 columns</p>\n",
       "</div>"
      ],
      "text/plain": [
       "  ShipCountry  OrderId  Discount  Co_Argentina  Co_Austria  Co_Belgium  \\\n",
       "0      France    10248       0.0             0           0           0   \n",
       "1      France    10248       0.0             0           0           0   \n",
       "2      France    10248       0.0             0           0           0   \n",
       "3     Germany    10249       0.0             0           0           0   \n",
       "4     Germany    10249       0.0             0           0           0   \n",
       "\n",
       "   Co_Brazil  Co_Canada  Co_Denmark  Co_Finland  ...  Co_Mexico  Co_Norway  \\\n",
       "0          0          0           0           0  ...          0          0   \n",
       "1          0          0           0           0  ...          0          0   \n",
       "2          0          0           0           0  ...          0          0   \n",
       "3          0          0           0           0  ...          0          0   \n",
       "4          0          0           0           0  ...          0          0   \n",
       "\n",
       "   Co_Poland  Co_Portugal  Co_Spain  Co_Sweden  Co_Switzerland  Co_UK  Co_USA  \\\n",
       "0          0            0         0          0               0      0       0   \n",
       "1          0            0         0          0               0      0       0   \n",
       "2          0            0         0          0               0      0       0   \n",
       "3          0            0         0          0               0      0       0   \n",
       "4          0            0         0          0               0      0       0   \n",
       "\n",
       "   Co_Venezuela  \n",
       "0             0  \n",
       "1             0  \n",
       "2             0  \n",
       "3             0  \n",
       "4             0  \n",
       "\n",
       "[5 rows x 24 columns]"
      ]
     },
     "execution_count": 105,
     "metadata": {},
     "output_type": "execute_result"
    }
   ],
   "source": [
    "df4 = pd.concat([df4, country_dummies], axis=1)\n",
    "df4.head()"
   ]
  },
  {
   "cell_type": "code",
   "execution_count": 106,
   "metadata": {},
   "outputs": [
    {
     "name": "stdout",
     "output_type": "stream",
     "text": [
      "<class 'pandas.core.frame.DataFrame'>\n",
      "RangeIndex: 2155 entries, 0 to 2154\n",
      "Data columns (total 24 columns):\n",
      "ShipCountry       2155 non-null object\n",
      "OrderId           2155 non-null int64\n",
      "Discount          2155 non-null float64\n",
      "Co_Argentina      2155 non-null uint8\n",
      "Co_Austria        2155 non-null uint8\n",
      "Co_Belgium        2155 non-null uint8\n",
      "Co_Brazil         2155 non-null uint8\n",
      "Co_Canada         2155 non-null uint8\n",
      "Co_Denmark        2155 non-null uint8\n",
      "Co_Finland        2155 non-null uint8\n",
      "Co_France         2155 non-null uint8\n",
      "Co_Germany        2155 non-null uint8\n",
      "Co_Ireland        2155 non-null uint8\n",
      "Co_Italy          2155 non-null uint8\n",
      "Co_Mexico         2155 non-null uint8\n",
      "Co_Norway         2155 non-null uint8\n",
      "Co_Poland         2155 non-null uint8\n",
      "Co_Portugal       2155 non-null uint8\n",
      "Co_Spain          2155 non-null uint8\n",
      "Co_Sweden         2155 non-null uint8\n",
      "Co_Switzerland    2155 non-null uint8\n",
      "Co_UK             2155 non-null uint8\n",
      "Co_USA            2155 non-null uint8\n",
      "Co_Venezuela      2155 non-null uint8\n",
      "dtypes: float64(1), int64(1), object(1), uint8(21)\n",
      "memory usage: 94.8+ KB\n"
     ]
    }
   ],
   "source": [
    "df4.info()"
   ]
  },
  {
   "cell_type": "code",
   "execution_count": 107,
   "metadata": {},
   "outputs": [
    {
     "name": "stdout",
     "output_type": "stream",
     "text": [
      "                      sum_sq      df          F        PR(>F)\n",
      "C(Co_Argentina)     0.080796     1.0  12.218788  4.827651e-04\n",
      "C(Co_Austria)       0.057689     1.0   8.724268  3.174352e-03\n",
      "C(Co_Belgium)       0.004536     1.0   0.686022  4.076133e-01\n",
      "C(Co_Brazil)        0.070362     1.0  10.640809  1.123632e-03\n",
      "C(Co_Canada)        0.021833     1.0   3.301756  6.934608e-02\n",
      "C(Co_Denmark)       0.019826     1.0   2.998246  8.349921e-02\n",
      "C(Co_Finland)       0.005837     1.0   0.882687  3.475730e-01\n",
      "C(Co_France)        0.011032     1.0   1.668333  1.966218e-01\n",
      "C(Co_Germany)       0.070513     1.0  10.663735  1.109860e-03\n",
      "C(Co_Ireland)       0.254453     1.0  38.480924  6.621289e-10\n",
      "C(Co_Italy)         0.002412     1.0   0.364751  5.459437e-01\n",
      "C(Co_Mexico)        0.082451     1.0  12.469100  4.225143e-04\n",
      "C(Co_Norway)        0.038632     1.0   5.842377  1.572804e-02\n",
      "C(Co_Poland)        0.038632     1.0   5.842377  1.572804e-02\n",
      "C(Co_Portugal)      0.073440     1.0  11.106285  8.750463e-04\n",
      "C(Co_Spain)         0.012374     1.0   1.871312  1.714689e-01\n",
      "C(Co_Sweden)        0.053844     1.0   8.142789  4.364961e-03\n",
      "C(Co_Switzerland)   0.000187     1.0   0.028255  8.665267e-01\n",
      "C(Co_UK)            0.077664     1.0  11.745154  6.215818e-04\n",
      "C(Co_USA)           0.044420     1.0   6.717664  9.611369e-03\n",
      "C(Co_Venezuela)     0.045790     1.0   6.924857  8.561789e-03\n",
      "Residual           14.110934  2134.0        NaN           NaN\n"
     ]
    }
   ],
   "source": [
    "formula = \"\"\"Discount ~ C(Co_Argentina) + C(Co_Austria) + C(Co_Belgium) + C(Co_Brazil) + \n",
    "             C(Co_Canada) + C(Co_Denmark) + C(Co_Finland) + C(Co_France) + C(Co_Germany) +\n",
    "             C(Co_Ireland) + C(Co_Italy) + C(Co_Mexico) + C(Co_Norway) + C(Co_Poland) + \n",
    "             C(Co_Portugal) + C(Co_Spain) + C(Co_Sweden) + C(Co_Switzerland) + \n",
    "             C(Co_UK) + C(Co_USA) + C(Co_Venezuela)\"\"\"\n",
    "lm = ols(formula, df4).fit()\n",
    "table = sm.stats.anova_lm(lm, typ=2)\n",
    "print(table)"
   ]
  },
  {
   "cell_type": "markdown",
   "metadata": {},
   "source": [
    "### Observations:\n",
    "- Certain countries seem to be using different discounts than others. Specifically Ireland, Portugal, Argentina, and the UK\n",
    "- Graphs may make this more easily readable"
   ]
  },
  {
   "cell_type": "code",
   "execution_count": 108,
   "metadata": {},
   "outputs": [
    {
     "data": {
      "text/html": [
       "<div>\n",
       "<style scoped>\n",
       "    .dataframe tbody tr th:only-of-type {\n",
       "        vertical-align: middle;\n",
       "    }\n",
       "\n",
       "    .dataframe tbody tr th {\n",
       "        vertical-align: top;\n",
       "    }\n",
       "\n",
       "    .dataframe thead th {\n",
       "        text-align: right;\n",
       "    }\n",
       "</style>\n",
       "<table border=\"1\" class=\"dataframe\">\n",
       "  <thead>\n",
       "    <tr style=\"text-align: right;\">\n",
       "      <th></th>\n",
       "      <th>ShipCountry</th>\n",
       "      <th>OrderId</th>\n",
       "      <th>Discount_Avg</th>\n",
       "    </tr>\n",
       "  </thead>\n",
       "  <tbody>\n",
       "    <tr>\n",
       "      <th>0</th>\n",
       "      <td>Argentina</td>\n",
       "      <td>10409</td>\n",
       "      <td>0.000000</td>\n",
       "    </tr>\n",
       "    <tr>\n",
       "      <th>1</th>\n",
       "      <td>Austria</td>\n",
       "      <td>10258</td>\n",
       "      <td>0.068800</td>\n",
       "    </tr>\n",
       "    <tr>\n",
       "      <th>2</th>\n",
       "      <td>Belgium</td>\n",
       "      <td>10252</td>\n",
       "      <td>0.038393</td>\n",
       "    </tr>\n",
       "    <tr>\n",
       "      <th>3</th>\n",
       "      <td>Brazil</td>\n",
       "      <td>10250</td>\n",
       "      <td>0.066502</td>\n",
       "    </tr>\n",
       "    <tr>\n",
       "      <th>4</th>\n",
       "      <td>Canada</td>\n",
       "      <td>10332</td>\n",
       "      <td>0.064000</td>\n",
       "    </tr>\n",
       "  </tbody>\n",
       "</table>\n",
       "</div>"
      ],
      "text/plain": [
       "  ShipCountry  OrderId  Discount_Avg\n",
       "0   Argentina    10409      0.000000\n",
       "1     Austria    10258      0.068800\n",
       "2     Belgium    10252      0.038393\n",
       "3      Brazil    10250      0.066502\n",
       "4      Canada    10332      0.064000"
      ]
     },
     "execution_count": 108,
     "metadata": {},
     "output_type": "execute_result"
    }
   ],
   "source": [
    "avg_disc_df = query_to_df(\"\"\"SELECT ShipCountry, OrderId, AVG(Discount) as Discount_Avg\n",
    "                             FROM [Order]\n",
    "                             JOIN OrderDetail\n",
    "                                 ON [Order].Id = OrderDetail.OrderId\n",
    "                             GROUP BY ShipCountry\n",
    "            ;\"\"\")\n",
    "avg_disc_df.head()"
   ]
  },
  {
   "cell_type": "code",
   "execution_count": 110,
   "metadata": {},
   "outputs": [
    {
     "data": {
      "text/plain": [
       "Text(0.5, 1.0, 'Average Discount for Each Country')"
      ]
     },
     "execution_count": 110,
     "metadata": {},
     "output_type": "execute_result"
    },
    {
     "data": {
      "image/png": "[encoded data removed]",
      "text/plain": [
       "<Figure size 1080x576 with 1 Axes>"
      ]
     },
     "metadata": {
      "needs_background": "light"
     },
     "output_type": "display_data"
    }
   ],
   "source": [
    "plt.figure(figsize=(15,8))\n",
    "sns.barplot(avg_disc_df.ShipCountry, avg_disc_df.Discount_Avg)\n",
    "plt.title('Average Discount for Each Country')"
   ]
  },
  {
   "cell_type": "markdown",
   "metadata": {},
   "source": [
    "### Observations:\n",
    "- Irealand has a significantly higher disoucnt average over all their orders than any country\n",
    "- Norway and Poland recieve no discount\n",
    "- Even though the UK had a large p-value, it has one of the lowest average discounts"
   ]
  },
  {
   "cell_type": "markdown",
   "metadata": {},
   "source": [
    "## Business Analysis:\n",
    "Ireland and Portugal have the highet discount averages per orders. Further exploration should be continued to see if a decent profit is being made in countries where there seems to be a highe amount of discounts per order or if they are recieving them unnecessarily, etc. "
   ]
  },
  {
   "cell_type": "markdown",
   "metadata": {},
   "source": [
    "# Conclusion"
   ]
  },
  {
   "cell_type": "code",
   "execution_count": null,
   "metadata": {},
   "outputs": [],
   "source": []
  }
 ],
 "metadata": {
  "kernelspec": {
   "display_name": "Python 3",
   "language": "python",
   "name": "python3"
  },
  "language_info": {
   "codemirror_mode": {
    "name": "ipython",
    "version": 3
   },
   "file_extension": ".py",
   "mimetype": "text/x-python",
   "name": "python",
   "nbconvert_exporter": "python",
   "pygments_lexer": "ipython3",
   "version": "3.7.3"
  },
  "toc": {
   "base_numbering": 1,
   "nav_menu": {},
   "number_sections": true,
   "sideBar": true,
   "skip_h1_title": false,
   "title_cell": "Table of Contents",
   "title_sidebar": "Contents",
   "toc_cell": true,
   "toc_position": {
    "height": "541px",
    "left": "126px",
    "top": "181px",
    "width": "256px"
   },
   "toc_section_display": true,
   "toc_window_display": false
  }
 },
 "nbformat": 4,
 "nbformat_minor": 2
}
