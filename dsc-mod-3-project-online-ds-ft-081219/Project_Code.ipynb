{
 "cells": [
  {
   "cell_type": "markdown",
   "metadata": {},
   "source": [
    "# Project 2"
   ]
  },
  {
   "cell_type": "markdown",
   "metadata": {},
   "source": [
    "## Summary of Project"
   ]
  },
  {
   "cell_type": "markdown",
   "metadata": {},
   "source": [
    "# Hypothesis or A/B Testing"
   ]
  },
  {
   "cell_type": "markdown",
   "metadata": {},
   "source": [
    "## Three Tests\n",
    "1. Does discount amount have a statistically significant effect on the quantity of a product in an order? If so, at what level(s) of discount?\n",
    "2. Does employee territory have a statistically significant effect on total sales\n",
    "3. Does an employees age have a statistically signifiant effect on order totals\n",
    "4. Do regions have a statistically significant effect on discounts"
   ]
  },
  {
   "cell_type": "code",
   "execution_count": 66,
   "metadata": {},
   "outputs": [],
   "source": [
    "#import libraries and functions\n",
    "import pandas as pd\n",
    "import numpy as np\n",
    "import sqlite3\n",
    "import seaborn as sns\n",
    "import scipy.stats as stats\n",
    "import matplotlib.pyplot as plt\n",
    "import statsmodels.api as sm\n",
    "from statsmodels.formula.api import ols\n",
    "from statsmodels.stats.power import TTestIndPower, TTestPower\n",
    "%matplotlib inline"
   ]
  },
  {
   "cell_type": "code",
   "execution_count": 4,
   "metadata": {},
   "outputs": [],
   "source": [
    "#get sql database\n",
    "conn = sqlite3.connect('Northwind_small.sqlite')\n",
    "cur = conn.cursor()"
   ]
  },
  {
   "cell_type": "code",
   "execution_count": 5,
   "metadata": {},
   "outputs": [],
   "source": [
    "#function to pull sql queries and return a pandas table\n",
    "def query_to_df(query):\n",
    "    cur.execute(query)\n",
    "    df = pd.DataFrame(cur.fetchall())\n",
    "    df.columns = [x[0] for x in cur.description]\n",
    "    return df"
   ]
  },
  {
   "cell_type": "code",
   "execution_count": 6,
   "metadata": {},
   "outputs": [],
   "source": [
    "#query 1\n",
    "#Need Discount & Quantity from OrderDetail table\n",
    "query1 = \"\"\"SELECT Discount, Quantity\n",
    "            FROM OrderDetail;\"\"\"\n",
    "df1 = query_to_df(query1)"
   ]
  },
  {
   "cell_type": "code",
   "execution_count": 7,
   "metadata": {},
   "outputs": [
    {
     "data": {
      "text/html": [
       "<div>\n",
       "<style scoped>\n",
       "    .dataframe tbody tr th:only-of-type {\n",
       "        vertical-align: middle;\n",
       "    }\n",
       "\n",
       "    .dataframe tbody tr th {\n",
       "        vertical-align: top;\n",
       "    }\n",
       "\n",
       "    .dataframe thead th {\n",
       "        text-align: right;\n",
       "    }\n",
       "</style>\n",
       "<table border=\"1\" class=\"dataframe\">\n",
       "  <thead>\n",
       "    <tr style=\"text-align: right;\">\n",
       "      <th></th>\n",
       "      <th>Discount</th>\n",
       "      <th>Quantity</th>\n",
       "    </tr>\n",
       "  </thead>\n",
       "  <tbody>\n",
       "    <tr>\n",
       "      <th>0</th>\n",
       "      <td>0.0</td>\n",
       "      <td>12</td>\n",
       "    </tr>\n",
       "    <tr>\n",
       "      <th>1</th>\n",
       "      <td>0.0</td>\n",
       "      <td>10</td>\n",
       "    </tr>\n",
       "    <tr>\n",
       "      <th>2</th>\n",
       "      <td>0.0</td>\n",
       "      <td>5</td>\n",
       "    </tr>\n",
       "    <tr>\n",
       "      <th>3</th>\n",
       "      <td>0.0</td>\n",
       "      <td>9</td>\n",
       "    </tr>\n",
       "    <tr>\n",
       "      <th>4</th>\n",
       "      <td>0.0</td>\n",
       "      <td>40</td>\n",
       "    </tr>\n",
       "  </tbody>\n",
       "</table>\n",
       "</div>"
      ],
      "text/plain": [
       "   Discount  Quantity\n",
       "0       0.0        12\n",
       "1       0.0        10\n",
       "2       0.0         5\n",
       "3       0.0         9\n",
       "4       0.0        40"
      ]
     },
     "execution_count": 7,
     "metadata": {},
     "output_type": "execute_result"
    }
   ],
   "source": [
    "df1.head()"
   ]
  },
  {
   "cell_type": "code",
   "execution_count": 8,
   "metadata": {},
   "outputs": [
    {
     "data": {
      "text/html": [
       "<div>\n",
       "<style scoped>\n",
       "    .dataframe tbody tr th:only-of-type {\n",
       "        vertical-align: middle;\n",
       "    }\n",
       "\n",
       "    .dataframe tbody tr th {\n",
       "        vertical-align: top;\n",
       "    }\n",
       "\n",
       "    .dataframe thead th {\n",
       "        text-align: right;\n",
       "    }\n",
       "</style>\n",
       "<table border=\"1\" class=\"dataframe\">\n",
       "  <thead>\n",
       "    <tr style=\"text-align: right;\">\n",
       "      <th></th>\n",
       "      <th>Discount</th>\n",
       "      <th>Quantity</th>\n",
       "    </tr>\n",
       "  </thead>\n",
       "  <tbody>\n",
       "    <tr>\n",
       "      <th>count</th>\n",
       "      <td>2155.000000</td>\n",
       "      <td>2155.000000</td>\n",
       "    </tr>\n",
       "    <tr>\n",
       "      <th>mean</th>\n",
       "      <td>0.056167</td>\n",
       "      <td>23.812993</td>\n",
       "    </tr>\n",
       "    <tr>\n",
       "      <th>std</th>\n",
       "      <td>0.083450</td>\n",
       "      <td>19.022047</td>\n",
       "    </tr>\n",
       "    <tr>\n",
       "      <th>min</th>\n",
       "      <td>0.000000</td>\n",
       "      <td>1.000000</td>\n",
       "    </tr>\n",
       "    <tr>\n",
       "      <th>25%</th>\n",
       "      <td>0.000000</td>\n",
       "      <td>10.000000</td>\n",
       "    </tr>\n",
       "    <tr>\n",
       "      <th>50%</th>\n",
       "      <td>0.000000</td>\n",
       "      <td>20.000000</td>\n",
       "    </tr>\n",
       "    <tr>\n",
       "      <th>75%</th>\n",
       "      <td>0.100000</td>\n",
       "      <td>30.000000</td>\n",
       "    </tr>\n",
       "    <tr>\n",
       "      <th>max</th>\n",
       "      <td>0.250000</td>\n",
       "      <td>130.000000</td>\n",
       "    </tr>\n",
       "  </tbody>\n",
       "</table>\n",
       "</div>"
      ],
      "text/plain": [
       "          Discount     Quantity\n",
       "count  2155.000000  2155.000000\n",
       "mean      0.056167    23.812993\n",
       "std       0.083450    19.022047\n",
       "min       0.000000     1.000000\n",
       "25%       0.000000    10.000000\n",
       "50%       0.000000    20.000000\n",
       "75%       0.100000    30.000000\n",
       "max       0.250000   130.000000"
      ]
     },
     "execution_count": 8,
     "metadata": {},
     "output_type": "execute_result"
    }
   ],
   "source": [
    "df1.describe()"
   ]
  },
  {
   "cell_type": "markdown",
   "metadata": {},
   "source": [
    "## Null Hypothesis:\n",
    "There is no significant effect from discount on quantity of a product in an order"
   ]
  },
  {
   "cell_type": "markdown",
   "metadata": {},
   "source": [
    "## Alternative Hypothesis:\n",
    "There is a signifiant effect from discount on quantity of a product in an order"
   ]
  },
  {
   "cell_type": "markdown",
   "metadata": {},
   "source": [
    "### Alpha (α) = 0.05\n",
    "### Power = 80% or 0.80\n",
    "### "
   ]
  },
  {
   "cell_type": "code",
   "execution_count": 9,
   "metadata": {},
   "outputs": [
    {
     "data": {
      "image/png": "[encoded data removed]",
      "text/plain": [
       "<Figure size 432x288 with 1 Axes>"
      ]
     },
     "metadata": {
      "needs_background": "light"
     },
     "output_type": "display_data"
    }
   ],
   "source": [
    "#seaborn distplot\n",
    "sns.distplot(df1.Discount);\n",
    "plt.title('Distribution of Discount');"
   ]
  },
  {
   "cell_type": "markdown",
   "metadata": {},
   "source": [
    "### Observations of Discount\n",
    "- Discount is an ordinal variable\n",
    "- Most orders have a 0% discount\n",
    "- Has a very long right tail"
   ]
  },
  {
   "cell_type": "code",
   "execution_count": 10,
   "metadata": {},
   "outputs": [
    {
     "data": {
      "image/png": "[encoded data removed]",
      "text/plain": [
       "<Figure size 432x288 with 1 Axes>"
      ]
     },
     "metadata": {
      "needs_background": "light"
     },
     "output_type": "display_data"
    }
   ],
   "source": [
    "sns.distplot(df1.Quantity);\n",
    "plt.title('Distribution of Quantity');"
   ]
  },
  {
   "cell_type": "markdown",
   "metadata": {},
   "source": [
    "### Observations of Quantity (The dependant variable)\n",
    "- Positively skewed\n",
    "- Minimum value is 1, max value is 130\n",
    "- The mean is around 20"
   ]
  },
  {
   "cell_type": "markdown",
   "metadata": {},
   "source": [
    "## Next Steps\n",
    "1. Set up control and experimental groups\n",
    "    \n",
    "    a. Control group has no discount  \n",
    "    b. Experimental group has discounts\n",
    "    \n",
    "    \n",
    "2. Create a Sample Distribution using the Sample Means\n",
    "    \n",
    "    a. Using Central Limit Theorem, the mean of the samples will be a normal distribution\n",
    "    \n",
    "    \n",
    "3. Run Welch's T-Test\n",
    "\n",
    "    a. Find the p-value between the control and experimental values"
   ]
  },
  {
   "cell_type": "markdown",
   "metadata": {},
   "source": [
    "## Step 1: Set up Control and Experimental Groups"
   ]
  },
  {
   "cell_type": "code",
   "execution_count": 11,
   "metadata": {},
   "outputs": [
    {
     "data": {
      "text/html": [
       "<div>\n",
       "<style scoped>\n",
       "    .dataframe tbody tr th:only-of-type {\n",
       "        vertical-align: middle;\n",
       "    }\n",
       "\n",
       "    .dataframe tbody tr th {\n",
       "        vertical-align: top;\n",
       "    }\n",
       "\n",
       "    .dataframe thead th {\n",
       "        text-align: right;\n",
       "    }\n",
       "</style>\n",
       "<table border=\"1\" class=\"dataframe\">\n",
       "  <thead>\n",
       "    <tr style=\"text-align: right;\">\n",
       "      <th></th>\n",
       "      <th>Discount</th>\n",
       "      <th>Quantity</th>\n",
       "    </tr>\n",
       "  </thead>\n",
       "  <tbody>\n",
       "    <tr>\n",
       "      <th>count</th>\n",
       "      <td>1317.0</td>\n",
       "      <td>1317.000000</td>\n",
       "    </tr>\n",
       "    <tr>\n",
       "      <th>mean</th>\n",
       "      <td>0.0</td>\n",
       "      <td>21.715262</td>\n",
       "    </tr>\n",
       "    <tr>\n",
       "      <th>std</th>\n",
       "      <td>0.0</td>\n",
       "      <td>17.507493</td>\n",
       "    </tr>\n",
       "    <tr>\n",
       "      <th>min</th>\n",
       "      <td>0.0</td>\n",
       "      <td>1.000000</td>\n",
       "    </tr>\n",
       "    <tr>\n",
       "      <th>25%</th>\n",
       "      <td>0.0</td>\n",
       "      <td>10.000000</td>\n",
       "    </tr>\n",
       "    <tr>\n",
       "      <th>50%</th>\n",
       "      <td>0.0</td>\n",
       "      <td>18.000000</td>\n",
       "    </tr>\n",
       "    <tr>\n",
       "      <th>75%</th>\n",
       "      <td>0.0</td>\n",
       "      <td>30.000000</td>\n",
       "    </tr>\n",
       "    <tr>\n",
       "      <th>max</th>\n",
       "      <td>0.0</td>\n",
       "      <td>130.000000</td>\n",
       "    </tr>\n",
       "  </tbody>\n",
       "</table>\n",
       "</div>"
      ],
      "text/plain": [
       "       Discount     Quantity\n",
       "count    1317.0  1317.000000\n",
       "mean        0.0    21.715262\n",
       "std         0.0    17.507493\n",
       "min         0.0     1.000000\n",
       "25%         0.0    10.000000\n",
       "50%         0.0    18.000000\n",
       "75%         0.0    30.000000\n",
       "max         0.0   130.000000"
      ]
     },
     "execution_count": 11,
     "metadata": {},
     "output_type": "execute_result"
    }
   ],
   "source": [
    "#statistical analysis 1\n",
    "#make control group, discount = 0\n",
    "control = df1[df1['Discount']==0]\n",
    "control.describe()"
   ]
  },
  {
   "cell_type": "code",
   "execution_count": 12,
   "metadata": {},
   "outputs": [
    {
     "data": {
      "text/html": [
       "<div>\n",
       "<style scoped>\n",
       "    .dataframe tbody tr th:only-of-type {\n",
       "        vertical-align: middle;\n",
       "    }\n",
       "\n",
       "    .dataframe tbody tr th {\n",
       "        vertical-align: top;\n",
       "    }\n",
       "\n",
       "    .dataframe thead th {\n",
       "        text-align: right;\n",
       "    }\n",
       "</style>\n",
       "<table border=\"1\" class=\"dataframe\">\n",
       "  <thead>\n",
       "    <tr style=\"text-align: right;\">\n",
       "      <th></th>\n",
       "      <th>Discount</th>\n",
       "      <th>Quantity</th>\n",
       "    </tr>\n",
       "  </thead>\n",
       "  <tbody>\n",
       "    <tr>\n",
       "      <th>count</th>\n",
       "      <td>838.000000</td>\n",
       "      <td>838.000000</td>\n",
       "    </tr>\n",
       "    <tr>\n",
       "      <th>mean</th>\n",
       "      <td>0.144439</td>\n",
       "      <td>27.109785</td>\n",
       "    </tr>\n",
       "    <tr>\n",
       "      <th>std</th>\n",
       "      <td>0.071808</td>\n",
       "      <td>20.771439</td>\n",
       "    </tr>\n",
       "    <tr>\n",
       "      <th>min</th>\n",
       "      <td>0.010000</td>\n",
       "      <td>1.000000</td>\n",
       "    </tr>\n",
       "    <tr>\n",
       "      <th>25%</th>\n",
       "      <td>0.100000</td>\n",
       "      <td>12.000000</td>\n",
       "    </tr>\n",
       "    <tr>\n",
       "      <th>50%</th>\n",
       "      <td>0.150000</td>\n",
       "      <td>20.000000</td>\n",
       "    </tr>\n",
       "    <tr>\n",
       "      <th>75%</th>\n",
       "      <td>0.200000</td>\n",
       "      <td>36.000000</td>\n",
       "    </tr>\n",
       "    <tr>\n",
       "      <th>max</th>\n",
       "      <td>0.250000</td>\n",
       "      <td>130.000000</td>\n",
       "    </tr>\n",
       "  </tbody>\n",
       "</table>\n",
       "</div>"
      ],
      "text/plain": [
       "         Discount    Quantity\n",
       "count  838.000000  838.000000\n",
       "mean     0.144439   27.109785\n",
       "std      0.071808   20.771439\n",
       "min      0.010000    1.000000\n",
       "25%      0.100000   12.000000\n",
       "50%      0.150000   20.000000\n",
       "75%      0.200000   36.000000\n",
       "max      0.250000  130.000000"
      ]
     },
     "execution_count": 12,
     "metadata": {},
     "output_type": "execute_result"
    }
   ],
   "source": [
    "#make experimental group, discount != 0\n",
    "experimental = df1[df1['Discount']!=0]\n",
    "experimental.describe()"
   ]
  },
  {
   "cell_type": "code",
   "execution_count": 13,
   "metadata": {},
   "outputs": [
    {
     "data": {
      "image/png": "[encoded data removed]",
      "text/plain": [
       "<Figure size 432x288 with 1 Axes>"
      ]
     },
     "metadata": {
      "needs_background": "light"
     },
     "output_type": "display_data"
    }
   ],
   "source": [
    "#Plot Control and Experimental to check for Normality\n",
    "sns.distplot(control.Quantity, label='Control');\n",
    "sns.distplot(experimental.Quantity, label='Experimental');\n",
    "plt.title('Visual check for Normality');\n",
    "plt.legend();"
   ]
  },
  {
   "cell_type": "markdown",
   "metadata": {},
   "source": [
    "### Observations\n",
    "1. Positively skewed\n",
    "2. A lot of overlap"
   ]
  },
  {
   "cell_type": "markdown",
   "metadata": {},
   "source": [
    "## Step 2: Create a Sample Distribution using the Sample Means"
   ]
  },
  {
   "cell_type": "code",
   "execution_count": 22,
   "metadata": {},
   "outputs": [],
   "source": [
    "def find_s(a, b):\n",
    "#a and b are arrays from the control and experimental group\n",
    "#used to find the s in the denominator of cohen's d equatin to find effect size\n",
    "    num = (len(a)-1)*(a.std())**2 + (len(b)-1)*(b.std())**2\n",
    "    denom = len(a) + len(b)\n",
    "    return np.sqrt(num/denom)"
   ]
  },
  {
   "cell_type": "code",
   "execution_count": 83,
   "metadata": {},
   "outputs": [],
   "source": [
    "#Calculate what sample size is needed for Control and Experimental\n",
    "def get_sample_size(alpha, power, a, b):\n",
    "    power_analysis = TTestIndPower()\n",
    "    alpha = 0.05\n",
    "    power = 0.80\n",
    "    mean_difference = abs(a.mean()-b.mean())\n",
    "    s = find_s(a, b)\n",
    "    effect_size = mean_difference / s\n",
    "    sample_size = power_analysis.solve_power(alpha=.05, effect_size=effect_size, power=.80, alternative='larger')\n",
    "    print(\"\"\"Using alpha = {}, effect size = {}, and power = {}: \n",
    "             The sample size should be {}\"\"\".format(alpha, effect_size, power, sample_size))\n",
    "    return int(np.round(sample_size) + 1)"
   ]
  },
  {
   "cell_type": "code",
   "execution_count": 103,
   "metadata": {},
   "outputs": [
    {
     "name": "stdout",
     "output_type": "stream",
     "text": [
      "Using alpha = 0.05, effect size = 0.28641058366376687, and power = 0.8: \n",
      "             The sample size should be 151.41800022641124\n"
     ]
    },
    {
     "data": {
      "text/plain": [
       "152"
      ]
     },
     "execution_count": 103,
     "metadata": {},
     "output_type": "execute_result"
    }
   ],
   "source": [
    "sample_size = int(get_sample_size(0.05, 0.80, control.Quantity, experimental.Quantity))\n",
    "sample_size"
   ]
  },
  {
   "cell_type": "code",
   "execution_count": 50,
   "metadata": {},
   "outputs": [],
   "source": [
    "#Create samples 10,000 times from control and experimental groups\n",
    "def get_sample_means(a, sample_size, num_of_samples):\n",
    "    #a is an array of values to sample from\n",
    "    #sample_size is defined above using get_sample_size\n",
    "    #num_of_samples is the number of samples to take\n",
    "    sample_means = []\n",
    "    for i in range(num_of_samples):\n",
    "        sample = a.sample(sample_size)\n",
    "        sample_means.append(sample.mean())\n",
    "    return sample_means\n",
    "\n",
    "\n",
    "num_of_samples = 10000\n",
    "control_sample_means = get_sample_means(control.Quantity, sample_size, num_of_samples)\n",
    "experimental_sample_means = get_sample_means(experimental.Quantity, sample_size, num_of_samples)"
   ]
  },
  {
   "cell_type": "code",
   "execution_count": 52,
   "metadata": {},
   "outputs": [
    {
     "data": {
      "image/png": "[encoded data removed]",
      "text/plain": [
       "<Figure size 432x288 with 1 Axes>"
      ]
     },
     "metadata": {
      "needs_background": "light"
     },
     "output_type": "display_data"
    }
   ],
   "source": [
    "#With the sample mean values, graph control vs. experimental again.\n",
    "sns.distplot(control_sample_means);\n",
    "sns.distplot(experimental_sample_means);"
   ]
  },
  {
   "cell_type": "code",
   "execution_count": null,
   "metadata": {},
   "outputs": [],
   "source": [
    "welchs_t_test_p_value = stats.ttest_ind(control_sample_means, experimental_sample_means, equal_var=False)[1]/2\n",
    "print(\"Running Welch's T-Test gives a p-value of:\",welchs_t_test_p_value)"
   ]
  },
  {
   "cell_type": "code",
   "execution_count": 71,
   "metadata": {},
   "outputs": [
    {
     "name": "stdout",
     "output_type": "stream",
     "text": [
      "                    sum_sq      df         F        PR(>F)\n",
      "C(Discount)   21258.403604    10.0  6.011811  4.704231e-09\n",
      "Residual     758141.232591  2144.0       NaN           NaN\n"
     ]
    }
   ],
   "source": [
    "#run anova test\n",
    "formula = 'Quantity ~ C(Discount)'\n",
    "lm = ols(formula, df1).fit()\n",
    "table = sm.stats.anova_lm(lm, typ=2)\n",
    "print(table)"
   ]
  },
  {
   "cell_type": "code",
   "execution_count": 101,
   "metadata": {},
   "outputs": [
    {
     "name": "stdout",
     "output_type": "stream",
     "text": [
      "0.00    1317\n",
      "0.05     185\n",
      "0.10     173\n",
      "0.20     161\n",
      "0.15     157\n",
      "0.25     154\n",
      "0.03       3\n",
      "0.02       2\n",
      "0.01       1\n",
      "0.04       1\n",
      "0.06       1\n",
      "Name: Discount, dtype: int64\n"
     ]
    }
   ],
   "source": [
    "#Break df into each discount amount\n",
    "print(df1.Discount.value_counts())\n",
    "#get rid of 0.03, 0.02, 0.01, 0.04, 0.06 since they only have 3 or less orders on them and they are unusual discounts\n",
    "discount0 = df1[df1.Discount==0]\n",
    "discount5 = df1[df1.Discount == 0.05]\n",
    "discount10 = df1[df1.Discount == 0.1]\n",
    "discount15 = df1[df1.Discount == 0.15]\n",
    "discount20 = df1[df1.Discount == 0.2]\n",
    "discount25 = df1[df1.Discount == 0.25]\n",
    "discounts = [discount5, discount10, discount15, discount20, discount25]"
   ]
  },
  {
   "cell_type": "code",
   "execution_count": 105,
   "metadata": {},
   "outputs": [],
   "source": [
    "#make boxplots of each discount amount"
   ]
  },
  {
   "cell_type": "code",
   "execution_count": 104,
   "metadata": {},
   "outputs": [
    {
     "name": "stdout",
     "output_type": "stream",
     "text": [
      "Running Welch's T-Test gives a p-value of: 0.0\n",
      "Running Welch's T-Test gives a p-value of: 0.0\n",
      "Running Welch's T-Test gives a p-value of: 0.0\n",
      "Running Welch's T-Test gives a p-value of: 0.0\n",
      "Running Welch's T-Test gives a p-value of: 0.0\n"
     ]
    }
   ],
   "source": [
    "samples = []\n",
    "for discount in discounts:\n",
    "    control_sample_means = get_sample_means(discount0.Quantity, sample_size, 10000)\n",
    "    exp_sample_means = get_sample_means(discount.Quantity, sample_size, 10000)\n",
    "    run_welchs_ttest(control_sample_means, exp_sample_means)"
   ]
  },
  {
   "cell_type": "code",
   "execution_count": 86,
   "metadata": {},
   "outputs": [
    {
     "name": "stdout",
     "output_type": "stream",
     "text": [
      "Using alpha = 0.05, effect size = 0.3471571400334967, and power = 0.8: \n",
      "             The sample size should be 103.28275478083727\n"
     ]
    }
   ],
   "source": [
    "#get samples of each level\n",
    "sample_size = get_sample_size(0.05, 0.80, discount0.Quantity, discount5.Quantity)\n",
    "control_sample_means = get_sample_means(discount0.Quantity, sample_size, 10000)\n",
    "discount5_sample_means = get_sample_means(discount5.Quantity, sample_size, 10000)"
   ]
  },
  {
   "cell_type": "code",
   "execution_count": 92,
   "metadata": {},
   "outputs": [],
   "source": [
    "def run_welchs_ttest(control, experimental):\n",
    "    welchs_t_test_p_value = stats.ttest_ind(control, experimental, equal_var=False)[1]/2\n",
    "    print(\"Running Welch's T-Test gives a p-value of:\",welchs_t_test_p_value)"
   ]
  },
  {
   "cell_type": "code",
   "execution_count": 94,
   "metadata": {},
   "outputs": [
    {
     "name": "stdout",
     "output_type": "stream",
     "text": [
      "Running Welch's T-Test gives a p-value of: 0.0\n"
     ]
    }
   ],
   "source": [
    "#Run Welch's t-test on each discount amount 0, 10%, 25%, etc\n",
    "run_welchs_ttest(control_sample_means, discount5_sample_means)"
   ]
  },
  {
   "cell_type": "code",
   "execution_count": null,
   "metadata": {},
   "outputs": [],
   "source": [
    "#query 2"
   ]
  },
  {
   "cell_type": "code",
   "execution_count": 6,
   "metadata": {},
   "outputs": [],
   "source": [
    "#statistical analysis 2"
   ]
  },
  {
   "cell_type": "code",
   "execution_count": null,
   "metadata": {},
   "outputs": [],
   "source": [
    "#graphs 2"
   ]
  },
  {
   "cell_type": "code",
   "execution_count": 7,
   "metadata": {},
   "outputs": [],
   "source": [
    "#query 3"
   ]
  },
  {
   "cell_type": "code",
   "execution_count": null,
   "metadata": {},
   "outputs": [],
   "source": [
    "#statistical analysis 3"
   ]
  },
  {
   "cell_type": "code",
   "execution_count": 5,
   "metadata": {},
   "outputs": [],
   "source": [
    "#graphs 3"
   ]
  },
  {
   "cell_type": "markdown",
   "metadata": {},
   "source": [
    "# Conclusion"
   ]
  },
  {
   "cell_type": "code",
   "execution_count": null,
   "metadata": {},
   "outputs": [],
   "source": []
  }
 ],
 "metadata": {
  "kernelspec": {
   "display_name": "Python 3",
   "language": "python",
   "name": "python3"
  },
  "language_info": {
   "codemirror_mode": {
    "name": "ipython",
    "version": 3
   },
   "file_extension": ".py",
   "mimetype": "text/x-python",
   "name": "python",
   "nbconvert_exporter": "python",
   "pygments_lexer": "ipython3",
   "version": "3.7.3"
  }
 },
 "nbformat": 4,
 "nbformat_minor": 2
}
