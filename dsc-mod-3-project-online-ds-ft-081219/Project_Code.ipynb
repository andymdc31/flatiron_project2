{
 "cells": [
  {
   "cell_type": "markdown",
   "metadata": {
    "toc": true
   },
   "source": [
    "<h1>Table of Contents<span class=\"tocSkip\"></span></h1>\n",
    "<div class=\"toc\"><ul class=\"toc-item\"><li><ul class=\"toc-item\"><li><span><a href=\"#Summary-of-Project\" data-toc-modified-id=\"Summary-of-Project-0.1\"><span class=\"toc-item-num\">0.1&nbsp;&nbsp;</span>Summary of Project</a></span></li></ul></li><li><span><a href=\"#Hypothesis-or-A/B-Testing\" data-toc-modified-id=\"Hypothesis-or-A/B-Testing-1\"><span class=\"toc-item-num\">1&nbsp;&nbsp;</span>Hypothesis or A/B Testing</a></span><ul class=\"toc-item\"><li><span><a href=\"#Three-Tests\" data-toc-modified-id=\"Three-Tests-1.1\"><span class=\"toc-item-num\">1.1&nbsp;&nbsp;</span>Three Tests</a></span></li></ul></li><li><span><a href=\"#Functions\" data-toc-modified-id=\"Functions-2\"><span class=\"toc-item-num\">2&nbsp;&nbsp;</span>Functions</a></span></li><li><span><a href=\"#1\" data-toc-modified-id=\"1-3\"><span class=\"toc-item-num\">3&nbsp;&nbsp;</span>1</a></span><ul class=\"toc-item\"><li><span><a href=\"#Explore-Data\" data-toc-modified-id=\"Explore-Data-3.1\"><span class=\"toc-item-num\">3.1&nbsp;&nbsp;</span>Explore Data</a></span></li><li><span><a href=\"#Null-Hypothesis:\" data-toc-modified-id=\"Null-Hypothesis:-3.2\"><span class=\"toc-item-num\">3.2&nbsp;&nbsp;</span>Null Hypothesis:</a></span></li><li><span><a href=\"#Alternative-Hypothesis:\" data-toc-modified-id=\"Alternative-Hypothesis:-3.3\"><span class=\"toc-item-num\">3.3&nbsp;&nbsp;</span>Alternative Hypothesis:</a></span><ul class=\"toc-item\"><li><span><a href=\"#Observations-of-Discount\" data-toc-modified-id=\"Observations-of-Discount-3.3.1\"><span class=\"toc-item-num\">3.3.1&nbsp;&nbsp;</span>Observations of Discount</a></span></li><li><span><a href=\"#Observations-of-Quantity-(The-dependant-variable)\" data-toc-modified-id=\"Observations-of-Quantity-(The-dependant-variable)-3.3.2\"><span class=\"toc-item-num\">3.3.2&nbsp;&nbsp;</span>Observations of Quantity (The dependant variable)</a></span></li></ul></li><li><span><a href=\"#Run-Anova-Test\" data-toc-modified-id=\"Run-Anova-Test-3.4\"><span class=\"toc-item-num\">3.4&nbsp;&nbsp;</span>Run Anova Test</a></span><ul class=\"toc-item\"><li><span><a href=\"#The-Null-Hypothesis-is-Rejected\" data-toc-modified-id=\"The-Null-Hypothesis-is-Rejected-3.4.1\"><span class=\"toc-item-num\">3.4.1&nbsp;&nbsp;</span>The Null Hypothesis is Rejected</a></span></li></ul></li><li><span><a href=\"#Find-the-Effect-Size-of-Discount\" data-toc-modified-id=\"Find-the-Effect-Size-of-Discount-3.5\"><span class=\"toc-item-num\">3.5&nbsp;&nbsp;</span>Find the Effect Size of Discount</a></span><ul class=\"toc-item\"><li><span><a href=\"#Observations\" data-toc-modified-id=\"Observations-3.5.1\"><span class=\"toc-item-num\">3.5.1&nbsp;&nbsp;</span>Observations</a></span></li><li><span><a href=\"#Elaborate-on-the-Cohen's-D-value,-effect-size-and-why-you-ran-the-tt-solve-power-test\" data-toc-modified-id=\"Elaborate-on-the-Cohen's-D-value,-effect-size-and-why-you-ran-the-tt-solve-power-test-3.5.2\"><span class=\"toc-item-num\">3.5.2&nbsp;&nbsp;</span>Elaborate on the Cohen's D value, effect size and why you ran the tt solve power test</a></span></li></ul></li><li><span><a href=\"#Test-Each-Discount-Level-against-the-Control\" data-toc-modified-id=\"Test-Each-Discount-Level-against-the-Control-3.6\"><span class=\"toc-item-num\">3.6&nbsp;&nbsp;</span>Test Each Discount Level against the Control</a></span><ul class=\"toc-item\"><li><span><a href=\"#Observations:\" data-toc-modified-id=\"Observations:-3.6.1\"><span class=\"toc-item-num\">3.6.1&nbsp;&nbsp;</span>Observations:</a></span></li><li><span><a href=\"#Find-effect-size-and-power-of-each-level\" data-toc-modified-id=\"Find-effect-size-and-power-of-each-level-3.6.2\"><span class=\"toc-item-num\">3.6.2&nbsp;&nbsp;</span>Find effect size and power of each level</a></span><ul class=\"toc-item\"><li><span><a href=\"#Discount-of-5%\" data-toc-modified-id=\"Discount-of-5%-3.6.2.1\"><span class=\"toc-item-num\">3.6.2.1&nbsp;&nbsp;</span>Discount of 5%</a></span></li><li><span><a href=\"#Discount-of-10%\" data-toc-modified-id=\"Discount-of-10%-3.6.2.2\"><span class=\"toc-item-num\">3.6.2.2&nbsp;&nbsp;</span>Discount of 10%</a></span></li><li><span><a href=\"#Discount-of-15%\" data-toc-modified-id=\"Discount-of-15%-3.6.2.3\"><span class=\"toc-item-num\">3.6.2.3&nbsp;&nbsp;</span>Discount of 15%</a></span></li><li><span><a href=\"#Discount-20%\" data-toc-modified-id=\"Discount-20%-3.6.2.4\"><span class=\"toc-item-num\">3.6.2.4&nbsp;&nbsp;</span>Discount 20%</a></span></li><li><span><a href=\"#Discount-of-25%\" data-toc-modified-id=\"Discount-of-25%-3.6.2.5\"><span class=\"toc-item-num\">3.6.2.5&nbsp;&nbsp;</span>Discount of 25%</a></span></li></ul></li><li><span><a href=\"#Oberservations:\" data-toc-modified-id=\"Oberservations:-3.6.3\"><span class=\"toc-item-num\">3.6.3&nbsp;&nbsp;</span>Oberservations:</a></span></li></ul></li></ul></li><li><span><a href=\"#2\" data-toc-modified-id=\"2-4\"><span class=\"toc-item-num\">4&nbsp;&nbsp;</span>2</a></span><ul class=\"toc-item\"><li><span><a href=\"#Do-some-Box-and-Whisker-plots-here-too\" data-toc-modified-id=\"Do-some-Box-and-Whisker-plots-here-too-4.1\"><span class=\"toc-item-num\">4.1&nbsp;&nbsp;</span>Do some Box and Whisker plots here too</a></span></li></ul></li><li><span><a href=\"#3\" data-toc-modified-id=\"3-5\"><span class=\"toc-item-num\">5&nbsp;&nbsp;</span>3</a></span><ul class=\"toc-item\"><li><ul class=\"toc-item\"><li><span><a href=\"#Need-to-graph-out-all-the-Birthdates.-Maybe-Box-and-Whisker-plots\" data-toc-modified-id=\"Need-to-graph-out-all-the-Birthdates.-Maybe-Box-and-Whisker-plots-5.0.1\"><span class=\"toc-item-num\">5.0.1&nbsp;&nbsp;</span>Need to graph out all the Birthdates. Maybe Box and Whisker plots</a></span></li></ul></li></ul></li><li><span><a href=\"#4\" data-toc-modified-id=\"4-6\"><span class=\"toc-item-num\">6&nbsp;&nbsp;</span>4</a></span><ul class=\"toc-item\"><li><span><a href=\"#Big-time\" data-toc-modified-id=\"Big-time-6.1\"><span class=\"toc-item-num\">6.1&nbsp;&nbsp;</span>Big time</a></span></li></ul></li><li><span><a href=\"#Conclusion\" data-toc-modified-id=\"Conclusion-7\"><span class=\"toc-item-num\">7&nbsp;&nbsp;</span>Conclusion</a></span></li></ul></div>"
   ]
  },
  {
   "cell_type": "markdown",
   "metadata": {},
   "source": [
    "## Summary of Project"
   ]
  },
  {
   "cell_type": "markdown",
   "metadata": {},
   "source": [
    "# Hypothesis or A/B Testing"
   ]
  },
  {
   "cell_type": "markdown",
   "metadata": {},
   "source": [
    "## Three Tests\n",
    "1. Does discount amount have a statistically significant effect on the quantity of a product in an order? If so, at what level(s) of discount?\n",
    "2. Do US employees sell significantly more than UK employees\n",
    "3. Does an employees age have a statistically signifiant effect on order totals\n",
    "4. Do countries where products are shipped have a statistically significant effect on discounts"
   ]
  },
  {
   "cell_type": "code",
   "execution_count": 133,
   "metadata": {},
   "outputs": [],
   "source": [
    "#import libraries and functions\n",
    "import pandas as pd\n",
    "import numpy as np\n",
    "import sqlite3\n",
    "import seaborn as sns\n",
    "import scipy.stats as stats\n",
    "import matplotlib.pyplot as plt\n",
    "import statsmodels\n",
    "import statsmodels.api as sm\n",
    "from statsmodels.formula.api import ols\n",
    "from statsmodels.stats.power import TTestIndPower, TTestPower\n",
    "%matplotlib inline"
   ]
  },
  {
   "cell_type": "code",
   "execution_count": 134,
   "metadata": {},
   "outputs": [],
   "source": [
    "#get sql database\n",
    "conn = sqlite3.connect('Northwind_small.sqlite')\n",
    "cur = conn.cursor()"
   ]
  },
  {
   "cell_type": "code",
   "execution_count": 135,
   "metadata": {},
   "outputs": [],
   "source": [
    "#function to pull sql queries and return a pandas table\n",
    "def query_to_df(query):\n",
    "    cur.execute(query)\n",
    "    df = pd.DataFrame(cur.fetchall())\n",
    "    df.columns = [x[0] for x in cur.description]\n",
    "    return df"
   ]
  },
  {
   "cell_type": "code",
   "execution_count": 136,
   "metadata": {},
   "outputs": [
    {
     "name": "stdout",
     "output_type": "stream",
     "text": [
      "[('Employee',), ('Category',), ('Customer',), ('Shipper',), ('Supplier',), ('Order',), ('Product',), ('OrderDetail',), ('CustomerCustomerDemo',), ('CustomerDemographic',), ('Region',), ('Territory',), ('EmployeeTerritory',)]\n"
     ]
    }
   ],
   "source": [
    "#Show names of all the tables\n",
    "cur.execute(\"SELECT name FROM sqlite_master WHERE type='table';\")\n",
    "print(cur.fetchall())"
   ]
  },
  {
   "cell_type": "markdown",
   "metadata": {},
   "source": [
    "# Functions"
   ]
  },
  {
   "cell_type": "code",
   "execution_count": 137,
   "metadata": {},
   "outputs": [],
   "source": [
    "def find_s(a, b):\n",
    "#a and b are arrays from the control and experimental group\n",
    "#used to find the s in the denominator of cohen's d equatin to find effect size\n",
    "    num = (len(a)-1)*(a.std())**2 + (len(b)-1)*(b.std())**2\n",
    "    denom = len(a) + len(b)\n",
    "    return np.sqrt(num/denom)"
   ]
  },
  {
   "cell_type": "code",
   "execution_count": 138,
   "metadata": {},
   "outputs": [],
   "source": [
    "#Calculate what sample size is needed for Control and Experimental\n",
    "def get_sample_size(alpha, power, a, b):\n",
    "    power_analysis = TTestIndPower()\n",
    "    alpha = 0.05\n",
    "    power = 0.80\n",
    "    mean_difference = abs(a.mean()-b.mean())\n",
    "    s = find_s(a, b)\n",
    "    effect_size = mean_difference / s\n",
    "    sample_size = power_analysis.solve_power(alpha=.05, effect_size=effect_size, power=.80, alternative='larger')\n",
    "    print(\"\"\"Using alpha = {}, effect size = {}, and power = {}: \n",
    "             The sample size should be {}\"\"\".format(alpha, effect_size, power, sample_size))\n",
    "    return int(np.round(sample_size) + 1)"
   ]
  },
  {
   "cell_type": "code",
   "execution_count": 139,
   "metadata": {},
   "outputs": [],
   "source": [
    "# function to calculate Cohen's d for independent samples\n",
    "def cohend(d1, d2):\n",
    "    # calculate the size of samples\n",
    "    n1, n2 = len(d1), len(d2)\n",
    "    # calculate the variance of the samples\n",
    "    s1, s2 = d1.var(), d2.var()\n",
    "    # calculate the pooled standard deviation\n",
    "    s = np.sqrt(((n1 - 1) * s1 + (n2 - 1) * s2) / (n1 + n2 - 2))\n",
    "    # calculate the means of the samples\n",
    "    u1, u2 = d1.mean(), d2.mean()\n",
    "    # calculate the effect size\n",
    "    return (u1 - u2) / s"
   ]
  },
  {
   "cell_type": "code",
   "execution_count": 192,
   "metadata": {},
   "outputs": [],
   "source": [
    "def effect_size_and_power(df, disc):\n",
    "    \"\"\"Pass in a dataframe with dummy variables and the discount amount you want\n",
    "       To compare to the control\"\"\"\n",
    "    no_disc = df.loc[df.Disc_0 == 1]\n",
    "    yes_disc = df.loc[df[disc] == 1]\n",
    "    \n",
    "    print('For ', disc)\n",
    "    print('mean difference:', yes_disc.Quantity.mean()-no_disc.Quantity.mean())\n",
    "    \n",
    "    effect_size = cohend(yes_disc.Quantity, no_disc.Quantity)\n",
    "    print('effect size:', effect_size)\n",
    "    \n",
    "    power = statsmodels.stats.power.tt_ind_solve_power(effect_size=effect_size, \n",
    "                                                       alpha=.05, nobs1=len(yes_disc))\n",
    "    print('power:', power)\n",
    "    \n",
    "    sns.distplot(yes_disc.Quantity, label=disc);\n",
    "    sns.distplot(no_disc.Quantity, label='No Discount');\n",
    "    plt.legend();"
   ]
  },
  {
   "cell_type": "markdown",
   "metadata": {},
   "source": [
    "# 1"
   ]
  },
  {
   "cell_type": "markdown",
   "metadata": {},
   "source": [
    "## Explore Data"
   ]
  },
  {
   "cell_type": "code",
   "execution_count": 140,
   "metadata": {},
   "outputs": [],
   "source": [
    "#query 1\n",
    "#Need Discount & Quantity from OrderDetail table\n",
    "query1 = \"\"\"SELECT Discount, Quantity\n",
    "            FROM OrderDetail;\"\"\"\n",
    "df1 = query_to_df(query1)"
   ]
  },
  {
   "cell_type": "code",
   "execution_count": 141,
   "metadata": {},
   "outputs": [
    {
     "data": {
      "text/html": [
       "<div>\n",
       "<style scoped>\n",
       "    .dataframe tbody tr th:only-of-type {\n",
       "        vertical-align: middle;\n",
       "    }\n",
       "\n",
       "    .dataframe tbody tr th {\n",
       "        vertical-align: top;\n",
       "    }\n",
       "\n",
       "    .dataframe thead th {\n",
       "        text-align: right;\n",
       "    }\n",
       "</style>\n",
       "<table border=\"1\" class=\"dataframe\">\n",
       "  <thead>\n",
       "    <tr style=\"text-align: right;\">\n",
       "      <th></th>\n",
       "      <th>Discount</th>\n",
       "      <th>Quantity</th>\n",
       "    </tr>\n",
       "  </thead>\n",
       "  <tbody>\n",
       "    <tr>\n",
       "      <th>0</th>\n",
       "      <td>0.0</td>\n",
       "      <td>12</td>\n",
       "    </tr>\n",
       "    <tr>\n",
       "      <th>1</th>\n",
       "      <td>0.0</td>\n",
       "      <td>10</td>\n",
       "    </tr>\n",
       "    <tr>\n",
       "      <th>2</th>\n",
       "      <td>0.0</td>\n",
       "      <td>5</td>\n",
       "    </tr>\n",
       "    <tr>\n",
       "      <th>3</th>\n",
       "      <td>0.0</td>\n",
       "      <td>9</td>\n",
       "    </tr>\n",
       "    <tr>\n",
       "      <th>4</th>\n",
       "      <td>0.0</td>\n",
       "      <td>40</td>\n",
       "    </tr>\n",
       "  </tbody>\n",
       "</table>\n",
       "</div>"
      ],
      "text/plain": [
       "   Discount  Quantity\n",
       "0       0.0        12\n",
       "1       0.0        10\n",
       "2       0.0         5\n",
       "3       0.0         9\n",
       "4       0.0        40"
      ]
     },
     "execution_count": 141,
     "metadata": {},
     "output_type": "execute_result"
    }
   ],
   "source": [
    "df1.head()"
   ]
  },
  {
   "cell_type": "code",
   "execution_count": 142,
   "metadata": {},
   "outputs": [
    {
     "data": {
      "text/html": [
       "<div>\n",
       "<style scoped>\n",
       "    .dataframe tbody tr th:only-of-type {\n",
       "        vertical-align: middle;\n",
       "    }\n",
       "\n",
       "    .dataframe tbody tr th {\n",
       "        vertical-align: top;\n",
       "    }\n",
       "\n",
       "    .dataframe thead th {\n",
       "        text-align: right;\n",
       "    }\n",
       "</style>\n",
       "<table border=\"1\" class=\"dataframe\">\n",
       "  <thead>\n",
       "    <tr style=\"text-align: right;\">\n",
       "      <th></th>\n",
       "      <th>Discount</th>\n",
       "      <th>Quantity</th>\n",
       "    </tr>\n",
       "  </thead>\n",
       "  <tbody>\n",
       "    <tr>\n",
       "      <th>count</th>\n",
       "      <td>2155.000000</td>\n",
       "      <td>2155.000000</td>\n",
       "    </tr>\n",
       "    <tr>\n",
       "      <th>mean</th>\n",
       "      <td>0.056167</td>\n",
       "      <td>23.812993</td>\n",
       "    </tr>\n",
       "    <tr>\n",
       "      <th>std</th>\n",
       "      <td>0.083450</td>\n",
       "      <td>19.022047</td>\n",
       "    </tr>\n",
       "    <tr>\n",
       "      <th>min</th>\n",
       "      <td>0.000000</td>\n",
       "      <td>1.000000</td>\n",
       "    </tr>\n",
       "    <tr>\n",
       "      <th>25%</th>\n",
       "      <td>0.000000</td>\n",
       "      <td>10.000000</td>\n",
       "    </tr>\n",
       "    <tr>\n",
       "      <th>50%</th>\n",
       "      <td>0.000000</td>\n",
       "      <td>20.000000</td>\n",
       "    </tr>\n",
       "    <tr>\n",
       "      <th>75%</th>\n",
       "      <td>0.100000</td>\n",
       "      <td>30.000000</td>\n",
       "    </tr>\n",
       "    <tr>\n",
       "      <th>max</th>\n",
       "      <td>0.250000</td>\n",
       "      <td>130.000000</td>\n",
       "    </tr>\n",
       "  </tbody>\n",
       "</table>\n",
       "</div>"
      ],
      "text/plain": [
       "          Discount     Quantity\n",
       "count  2155.000000  2155.000000\n",
       "mean      0.056167    23.812993\n",
       "std       0.083450    19.022047\n",
       "min       0.000000     1.000000\n",
       "25%       0.000000    10.000000\n",
       "50%       0.000000    20.000000\n",
       "75%       0.100000    30.000000\n",
       "max       0.250000   130.000000"
      ]
     },
     "execution_count": 142,
     "metadata": {},
     "output_type": "execute_result"
    }
   ],
   "source": [
    "df1.describe()"
   ]
  },
  {
   "cell_type": "markdown",
   "metadata": {},
   "source": [
    "## Null Hypothesis:\n",
    "There is no significant effect from discount on quantity of a product in an order"
   ]
  },
  {
   "cell_type": "markdown",
   "metadata": {},
   "source": [
    "## Alternative Hypothesis:\n",
    "There is a signifiant effect from discount on quantity of a product in an order"
   ]
  },
  {
   "cell_type": "code",
   "execution_count": 143,
   "metadata": {},
   "outputs": [
    {
     "data": {
      "image/png": "[encoded data removed]",
      "text/plain": [
       "<Figure size 432x288 with 1 Axes>"
      ]
     },
     "metadata": {
      "needs_background": "light"
     },
     "output_type": "display_data"
    }
   ],
   "source": [
    "#seaborn distplot\n",
    "sns.distplot(df1.Discount);\n",
    "plt.title('Distribution of Discount');"
   ]
  },
  {
   "cell_type": "markdown",
   "metadata": {},
   "source": [
    "### Observations of Discount\n",
    "- Discount is an ordinal variable\n",
    "- Most orders have a 0% discount\n",
    "- Has a very long right tail"
   ]
  },
  {
   "cell_type": "code",
   "execution_count": 144,
   "metadata": {},
   "outputs": [
    {
     "data": {
      "image/png": "[encoded data removed]",
      "text/plain": [
       "<Figure size 432x288 with 1 Axes>"
      ]
     },
     "metadata": {
      "needs_background": "light"
     },
     "output_type": "display_data"
    }
   ],
   "source": [
    "sns.distplot(df1.Quantity);\n",
    "plt.title('Distribution of Quantity');"
   ]
  },
  {
   "cell_type": "markdown",
   "metadata": {},
   "source": [
    "### Observations of Quantity (The dependant variable)\n",
    "- Positively skewed\n",
    "- Minimum value is 1, max value is 130\n",
    "- The mean is around 20"
   ]
  },
  {
   "cell_type": "markdown",
   "metadata": {},
   "source": [
    "## Run Anova Test\n",
    "why?\n",
    "For an ANOVA Test, any categorical variable has to be broken down into dummy varaibles. For this ANOVA test it will compare Quantity to whether or not there was a discount. So I will create a new column that has a '1' for discount present, and '2' for no discount"
   ]
  },
  {
   "cell_type": "code",
   "execution_count": 145,
   "metadata": {},
   "outputs": [],
   "source": [
    "df1['Discount_Present'] = 1\n",
    "df1.loc[df1.Discount == 0, 'Discount_Present'] = 0"
   ]
  },
  {
   "cell_type": "code",
   "execution_count": 146,
   "metadata": {},
   "outputs": [
    {
     "data": {
      "text/plain": [
       "0    1317\n",
       "1     838\n",
       "Name: Discount_Present, dtype: int64"
      ]
     },
     "execution_count": 146,
     "metadata": {},
     "output_type": "execute_result"
    }
   ],
   "source": [
    "df1.Discount_Present.value_counts()"
   ]
  },
  {
   "cell_type": "code",
   "execution_count": 147,
   "metadata": {},
   "outputs": [
    {
     "name": "stdout",
     "output_type": "stream",
     "text": [
      "                            sum_sq      df          F        PR(>F)\n",
      "C(Discount_Present)   14903.513199     1.0  41.971781  1.144092e-10\n",
      "Residual             764496.122996  2153.0        NaN           NaN\n"
     ]
    }
   ],
   "source": [
    "#run anova test\n",
    "formula = 'Quantity ~ C(Discount_Present)'\n",
    "lm = ols(formula, df1).fit()\n",
    "table = sm.stats.anova_lm(lm, typ=2)\n",
    "print(table)"
   ]
  },
  {
   "cell_type": "markdown",
   "metadata": {},
   "source": [
    "### The Null Hypothesis is Rejected\n"
   ]
  },
  {
   "cell_type": "markdown",
   "metadata": {},
   "source": [
    "## Find the Effect Size of Discount"
   ]
  },
  {
   "cell_type": "code",
   "execution_count": 148,
   "metadata": {},
   "outputs": [
    {
     "data": {
      "text/html": [
       "<div>\n",
       "<style scoped>\n",
       "    .dataframe tbody tr th:only-of-type {\n",
       "        vertical-align: middle;\n",
       "    }\n",
       "\n",
       "    .dataframe tbody tr th {\n",
       "        vertical-align: top;\n",
       "    }\n",
       "\n",
       "    .dataframe thead th {\n",
       "        text-align: right;\n",
       "    }\n",
       "</style>\n",
       "<table border=\"1\" class=\"dataframe\">\n",
       "  <thead>\n",
       "    <tr style=\"text-align: right;\">\n",
       "      <th></th>\n",
       "      <th>Discount</th>\n",
       "      <th>Quantity</th>\n",
       "      <th>Discount_Present</th>\n",
       "    </tr>\n",
       "  </thead>\n",
       "  <tbody>\n",
       "    <tr>\n",
       "      <th>count</th>\n",
       "      <td>1317.0</td>\n",
       "      <td>1317.000000</td>\n",
       "      <td>1317.0</td>\n",
       "    </tr>\n",
       "    <tr>\n",
       "      <th>mean</th>\n",
       "      <td>0.0</td>\n",
       "      <td>21.715262</td>\n",
       "      <td>0.0</td>\n",
       "    </tr>\n",
       "    <tr>\n",
       "      <th>std</th>\n",
       "      <td>0.0</td>\n",
       "      <td>17.507493</td>\n",
       "      <td>0.0</td>\n",
       "    </tr>\n",
       "    <tr>\n",
       "      <th>min</th>\n",
       "      <td>0.0</td>\n",
       "      <td>1.000000</td>\n",
       "      <td>0.0</td>\n",
       "    </tr>\n",
       "    <tr>\n",
       "      <th>25%</th>\n",
       "      <td>0.0</td>\n",
       "      <td>10.000000</td>\n",
       "      <td>0.0</td>\n",
       "    </tr>\n",
       "    <tr>\n",
       "      <th>50%</th>\n",
       "      <td>0.0</td>\n",
       "      <td>18.000000</td>\n",
       "      <td>0.0</td>\n",
       "    </tr>\n",
       "    <tr>\n",
       "      <th>75%</th>\n",
       "      <td>0.0</td>\n",
       "      <td>30.000000</td>\n",
       "      <td>0.0</td>\n",
       "    </tr>\n",
       "    <tr>\n",
       "      <th>max</th>\n",
       "      <td>0.0</td>\n",
       "      <td>130.000000</td>\n",
       "      <td>0.0</td>\n",
       "    </tr>\n",
       "  </tbody>\n",
       "</table>\n",
       "</div>"
      ],
      "text/plain": [
       "       Discount     Quantity  Discount_Present\n",
       "count    1317.0  1317.000000            1317.0\n",
       "mean        0.0    21.715262               0.0\n",
       "std         0.0    17.507493               0.0\n",
       "min         0.0     1.000000               0.0\n",
       "25%         0.0    10.000000               0.0\n",
       "50%         0.0    18.000000               0.0\n",
       "75%         0.0    30.000000               0.0\n",
       "max         0.0   130.000000               0.0"
      ]
     },
     "execution_count": 148,
     "metadata": {},
     "output_type": "execute_result"
    }
   ],
   "source": [
    "#statistical analysis 1\n",
    "#make control group, discount = 0\n",
    "control = df1[df1['Discount']==0]\n",
    "control.describe()"
   ]
  },
  {
   "cell_type": "code",
   "execution_count": 149,
   "metadata": {},
   "outputs": [
    {
     "data": {
      "text/html": [
       "<div>\n",
       "<style scoped>\n",
       "    .dataframe tbody tr th:only-of-type {\n",
       "        vertical-align: middle;\n",
       "    }\n",
       "\n",
       "    .dataframe tbody tr th {\n",
       "        vertical-align: top;\n",
       "    }\n",
       "\n",
       "    .dataframe thead th {\n",
       "        text-align: right;\n",
       "    }\n",
       "</style>\n",
       "<table border=\"1\" class=\"dataframe\">\n",
       "  <thead>\n",
       "    <tr style=\"text-align: right;\">\n",
       "      <th></th>\n",
       "      <th>Discount</th>\n",
       "      <th>Quantity</th>\n",
       "      <th>Discount_Present</th>\n",
       "    </tr>\n",
       "  </thead>\n",
       "  <tbody>\n",
       "    <tr>\n",
       "      <th>count</th>\n",
       "      <td>838.000000</td>\n",
       "      <td>838.000000</td>\n",
       "      <td>838.0</td>\n",
       "    </tr>\n",
       "    <tr>\n",
       "      <th>mean</th>\n",
       "      <td>0.144439</td>\n",
       "      <td>27.109785</td>\n",
       "      <td>1.0</td>\n",
       "    </tr>\n",
       "    <tr>\n",
       "      <th>std</th>\n",
       "      <td>0.071808</td>\n",
       "      <td>20.771439</td>\n",
       "      <td>0.0</td>\n",
       "    </tr>\n",
       "    <tr>\n",
       "      <th>min</th>\n",
       "      <td>0.010000</td>\n",
       "      <td>1.000000</td>\n",
       "      <td>1.0</td>\n",
       "    </tr>\n",
       "    <tr>\n",
       "      <th>25%</th>\n",
       "      <td>0.100000</td>\n",
       "      <td>12.000000</td>\n",
       "      <td>1.0</td>\n",
       "    </tr>\n",
       "    <tr>\n",
       "      <th>50%</th>\n",
       "      <td>0.150000</td>\n",
       "      <td>20.000000</td>\n",
       "      <td>1.0</td>\n",
       "    </tr>\n",
       "    <tr>\n",
       "      <th>75%</th>\n",
       "      <td>0.200000</td>\n",
       "      <td>36.000000</td>\n",
       "      <td>1.0</td>\n",
       "    </tr>\n",
       "    <tr>\n",
       "      <th>max</th>\n",
       "      <td>0.250000</td>\n",
       "      <td>130.000000</td>\n",
       "      <td>1.0</td>\n",
       "    </tr>\n",
       "  </tbody>\n",
       "</table>\n",
       "</div>"
      ],
      "text/plain": [
       "         Discount    Quantity  Discount_Present\n",
       "count  838.000000  838.000000             838.0\n",
       "mean     0.144439   27.109785               1.0\n",
       "std      0.071808   20.771439               0.0\n",
       "min      0.010000    1.000000               1.0\n",
       "25%      0.100000   12.000000               1.0\n",
       "50%      0.150000   20.000000               1.0\n",
       "75%      0.200000   36.000000               1.0\n",
       "max      0.250000  130.000000               1.0"
      ]
     },
     "execution_count": 149,
     "metadata": {},
     "output_type": "execute_result"
    }
   ],
   "source": [
    "#make experimental group, discount != 0\n",
    "experimental = df1[df1['Discount']!=0]\n",
    "experimental.describe()"
   ]
  },
  {
   "cell_type": "code",
   "execution_count": 150,
   "metadata": {},
   "outputs": [
    {
     "data": {
      "image/png": "[encoded data removed]",
      "text/plain": [
       "<Figure size 432x288 with 1 Axes>"
      ]
     },
     "metadata": {
      "needs_background": "light"
     },
     "output_type": "display_data"
    }
   ],
   "source": [
    "#Plot Control and Experimental to check for Normality\n",
    "sns.distplot(control.Quantity, label='Control');\n",
    "sns.distplot(experimental.Quantity, label='Experimental');\n",
    "plt.title('Visual check for Normality');\n",
    "plt.legend();"
   ]
  },
  {
   "cell_type": "markdown",
   "metadata": {},
   "source": [
    "### Observations\n",
    "1. Positively skewed\n",
    "2. A lot of overlap\n",
    "3. There a a couple of outliers that I will remove. I will set the Quantity limit to 80"
   ]
  },
  {
   "cell_type": "code",
   "execution_count": 151,
   "metadata": {},
   "outputs": [],
   "source": [
    "control = control.loc[control.Quantity <= control.Quantity.quantile(.95)]\n",
    "experimental = experimental.loc[experimental.Quantity <= experimental.Quantity.quantile(.95)]"
   ]
  },
  {
   "cell_type": "code",
   "execution_count": 152,
   "metadata": {},
   "outputs": [
    {
     "data": {
      "image/png": "[encoded data removed]",
      "text/plain": [
       "<Figure size 432x288 with 1 Axes>"
      ]
     },
     "metadata": {
      "needs_background": "light"
     },
     "output_type": "display_data"
    }
   ],
   "source": [
    "sns.distplot(control.Quantity, label='Control');\n",
    "sns.distplot(experimental.Quantity, label='Experimental');\n",
    "plt.title('Visual check for Normality');\n",
    "plt.legend();"
   ]
  },
  {
   "cell_type": "code",
   "execution_count": 153,
   "metadata": {},
   "outputs": [
    {
     "name": "stdout",
     "output_type": "stream",
     "text": [
      "5.685784327276604\n"
     ]
    }
   ],
   "source": [
    "#Find difference of means between no-discount and discount\n",
    "mean_diff = experimental.Quantity.mean()-control.Quantity.mean()\n",
    "print(mean_diff)"
   ]
  },
  {
   "cell_type": "code",
   "execution_count": 154,
   "metadata": {},
   "outputs": [
    {
     "name": "stdout",
     "output_type": "stream",
     "text": [
      "0.3996959562139606\n"
     ]
    }
   ],
   "source": [
    "#Find Cohen's D\n",
    "d = cohend(experimental.Quantity, control.Quantity)\n",
    "print(d)"
   ]
  },
  {
   "cell_type": "code",
   "execution_count": 155,
   "metadata": {},
   "outputs": [
    {
     "name": "stdout",
     "output_type": "stream",
     "text": [
      "1.0\n"
     ]
    }
   ],
   "source": [
    "a = statsmodels.stats.power.tt_ind_solve_power(effect_size=d, alpha=.05, nobs1=len(experimental))\n",
    "print(a)"
   ]
  },
  {
   "cell_type": "markdown",
   "metadata": {},
   "source": [
    "### Elaborate on the Cohen's D value, effect size and why you ran the tt solve power test"
   ]
  },
  {
   "cell_type": "markdown",
   "metadata": {},
   "source": [
    "## Test Each Discount Level against the Control\n",
    "First make dummy variables for each level of discount to with ANOVA to see if all discounts reject the Null Hypothesis\n",
    "Then Find the effect size and Power of each individual Discount Level.\n"
   ]
  },
  {
   "cell_type": "code",
   "execution_count": 156,
   "metadata": {},
   "outputs": [
    {
     "data": {
      "text/plain": [
       "0.00    1317\n",
       "0.05     185\n",
       "0.10     173\n",
       "0.20     161\n",
       "0.15     157\n",
       "0.25     154\n",
       "0.03       3\n",
       "0.02       2\n",
       "0.01       1\n",
       "0.04       1\n",
       "0.06       1\n",
       "Name: Discount, dtype: int64"
      ]
     },
     "execution_count": 156,
     "metadata": {},
     "output_type": "execute_result"
    }
   ],
   "source": [
    "df1.Discount.value_counts()"
   ]
  },
  {
   "cell_type": "markdown",
   "metadata": {},
   "source": [
    "Discounts of 1%, 2%, 3%, 4% and 6% all have 3 or less occurences. I will just drop them since they are such unusual occurences"
   ]
  },
  {
   "cell_type": "code",
   "execution_count": 157,
   "metadata": {},
   "outputs": [],
   "source": [
    "df1.drop(df1.loc[df1['Discount']==0.01].index, inplace=True)\n",
    "df1.drop(df1.loc[df1['Discount']==0.02].index, inplace=True)\n",
    "df1.drop(df1.loc[df1['Discount']==0.03].index, inplace=True)\n",
    "df1.drop(df1.loc[df1['Discount']==0.04].index, inplace=True)\n",
    "df1.drop(df1.loc[df1['Discount']==0.06].index, inplace=True)"
   ]
  },
  {
   "cell_type": "code",
   "execution_count": 158,
   "metadata": {},
   "outputs": [],
   "source": [
    "#get dummy variables for discount levels\n",
    "disc_dummies = pd.get_dummies(df1.Discount, prefix='Disc')"
   ]
  },
  {
   "cell_type": "code",
   "execution_count": 159,
   "metadata": {},
   "outputs": [
    {
     "data": {
      "text/html": [
       "<div>\n",
       "<style scoped>\n",
       "    .dataframe tbody tr th:only-of-type {\n",
       "        vertical-align: middle;\n",
       "    }\n",
       "\n",
       "    .dataframe tbody tr th {\n",
       "        vertical-align: top;\n",
       "    }\n",
       "\n",
       "    .dataframe thead th {\n",
       "        text-align: right;\n",
       "    }\n",
       "</style>\n",
       "<table border=\"1\" class=\"dataframe\">\n",
       "  <thead>\n",
       "    <tr style=\"text-align: right;\">\n",
       "      <th></th>\n",
       "      <th>Discount</th>\n",
       "      <th>Quantity</th>\n",
       "      <th>Discount_Present</th>\n",
       "      <th>Disc_0.0</th>\n",
       "      <th>Disc_0.05</th>\n",
       "      <th>Disc_0.1</th>\n",
       "      <th>Disc_0.15</th>\n",
       "      <th>Disc_0.2</th>\n",
       "      <th>Disc_0.25</th>\n",
       "    </tr>\n",
       "  </thead>\n",
       "  <tbody>\n",
       "    <tr>\n",
       "      <th>0</th>\n",
       "      <td>0.0</td>\n",
       "      <td>12</td>\n",
       "      <td>0</td>\n",
       "      <td>1</td>\n",
       "      <td>0</td>\n",
       "      <td>0</td>\n",
       "      <td>0</td>\n",
       "      <td>0</td>\n",
       "      <td>0</td>\n",
       "    </tr>\n",
       "    <tr>\n",
       "      <th>1</th>\n",
       "      <td>0.0</td>\n",
       "      <td>10</td>\n",
       "      <td>0</td>\n",
       "      <td>1</td>\n",
       "      <td>0</td>\n",
       "      <td>0</td>\n",
       "      <td>0</td>\n",
       "      <td>0</td>\n",
       "      <td>0</td>\n",
       "    </tr>\n",
       "    <tr>\n",
       "      <th>2</th>\n",
       "      <td>0.0</td>\n",
       "      <td>5</td>\n",
       "      <td>0</td>\n",
       "      <td>1</td>\n",
       "      <td>0</td>\n",
       "      <td>0</td>\n",
       "      <td>0</td>\n",
       "      <td>0</td>\n",
       "      <td>0</td>\n",
       "    </tr>\n",
       "    <tr>\n",
       "      <th>3</th>\n",
       "      <td>0.0</td>\n",
       "      <td>9</td>\n",
       "      <td>0</td>\n",
       "      <td>1</td>\n",
       "      <td>0</td>\n",
       "      <td>0</td>\n",
       "      <td>0</td>\n",
       "      <td>0</td>\n",
       "      <td>0</td>\n",
       "    </tr>\n",
       "    <tr>\n",
       "      <th>4</th>\n",
       "      <td>0.0</td>\n",
       "      <td>40</td>\n",
       "      <td>0</td>\n",
       "      <td>1</td>\n",
       "      <td>0</td>\n",
       "      <td>0</td>\n",
       "      <td>0</td>\n",
       "      <td>0</td>\n",
       "      <td>0</td>\n",
       "    </tr>\n",
       "  </tbody>\n",
       "</table>\n",
       "</div>"
      ],
      "text/plain": [
       "   Discount  Quantity  Discount_Present  Disc_0.0  Disc_0.05  Disc_0.1  \\\n",
       "0       0.0        12                 0         1          0         0   \n",
       "1       0.0        10                 0         1          0         0   \n",
       "2       0.0         5                 0         1          0         0   \n",
       "3       0.0         9                 0         1          0         0   \n",
       "4       0.0        40                 0         1          0         0   \n",
       "\n",
       "   Disc_0.15  Disc_0.2  Disc_0.25  \n",
       "0          0         0          0  \n",
       "1          0         0          0  \n",
       "2          0         0          0  \n",
       "3          0         0          0  \n",
       "4          0         0          0  "
      ]
     },
     "execution_count": 159,
     "metadata": {},
     "output_type": "execute_result"
    }
   ],
   "source": [
    "df1 = pd.concat([df1, disc_dummies], axis=1)\n",
    "df1.head()"
   ]
  },
  {
   "cell_type": "code",
   "execution_count": 160,
   "metadata": {},
   "outputs": [
    {
     "data": {
      "text/plain": [
       "Discount              120.8\n",
       "Quantity            51303.0\n",
       "Discount_Present      830.0\n",
       "Disc_0.0             1317.0\n",
       "Disc_0.05             185.0\n",
       "Disc_0.1              173.0\n",
       "Disc_0.15             157.0\n",
       "Disc_0.2              161.0\n",
       "Disc_0.25             154.0\n",
       "dtype: float64"
      ]
     },
     "execution_count": 160,
     "metadata": {},
     "output_type": "execute_result"
    }
   ],
   "source": [
    "df1.sum()"
   ]
  },
  {
   "cell_type": "code",
   "execution_count": 162,
   "metadata": {},
   "outputs": [],
   "source": [
    "#Rename columns so they will work in ANOVA\n",
    "df1.rename(columns={'Disc_0.0': 'Disc_0', 'Disc_0.05': 'Disc_05', \n",
    "                    'Disc_0.1': 'Disc_1', 'Disc_0.15': 'Disc_15', \n",
    "                    'Disc_0.2': 'Disc_2', 'Disc_0.25': 'Disc_25'},  \n",
    "           inplace=True)"
   ]
  },
  {
   "cell_type": "code",
   "execution_count": 163,
   "metadata": {},
   "outputs": [
    {
     "name": "stdout",
     "output_type": "stream",
     "text": [
      "                   sum_sq      df          F    PR(>F)\n",
      "C(Disc_0)      757.122498     1.0   2.138131  0.143824\n",
      "C(Disc_05)    6374.197701     1.0  18.000875  0.000023\n",
      "C(Disc_1)     1396.095447     1.0   3.942604  0.047205\n",
      "C(Disc_15)    6320.912164     1.0  17.850395  0.000025\n",
      "C(Disc_2)     3760.438004     1.0  10.619560  0.001136\n",
      "C(Disc_25)    5910.292468     1.0  16.690796  0.000046\n",
      "Residual    758138.565924  2141.0        NaN       NaN\n"
     ]
    }
   ],
   "source": [
    "formula1a = 'Quantity ~ C(Disc_0) + C(Disc_05) + C(Disc_1) + C(Disc_15) + C(Disc_2) + C(Disc_25)'\n",
    "lm = ols(formula1a, df1).fit()\n",
    "table = sm.stats.anova_lm(lm, typ=2)\n",
    "print(table)"
   ]
  },
  {
   "cell_type": "markdown",
   "metadata": {},
   "source": [
    "### Observations:\n",
    "All discount levels reject the NULL Hypothesis"
   ]
  },
  {
   "cell_type": "markdown",
   "metadata": {},
   "source": [
    "### Find effect size and power of each level"
   ]
  },
  {
   "cell_type": "markdown",
   "metadata": {},
   "source": [
    "#### Discount of 5%"
   ]
  },
  {
   "cell_type": "code",
   "execution_count": 193,
   "metadata": {},
   "outputs": [
    {
     "name": "stdout",
     "output_type": "stream",
     "text": [
      "For  Disc_05\n",
      "mean difference: 6.295548851813088\n",
      "effect size: 0.3469259331213806\n",
      "power: 0.9143350299479809\n"
     ]
    },
    {
     "data": {
      "image/png": "[encoded data removed]",
      "text/plain": [
       "<Figure size 432x288 with 1 Axes>"
      ]
     },
     "metadata": {
      "needs_background": "light"
     },
     "output_type": "display_data"
    }
   ],
   "source": [
    "effect_size_and_power(df1, 'Disc_05')"
   ]
  },
  {
   "cell_type": "markdown",
   "metadata": {},
   "source": [
    "#### Discount of 10%"
   ]
  },
  {
   "cell_type": "code",
   "execution_count": 194,
   "metadata": {},
   "outputs": [
    {
     "name": "stdout",
     "output_type": "stream",
     "text": [
      "For  Disc_1\n",
      "mean difference: 3.521732260655458\n",
      "effect size: 0.19596431111215445\n",
      "power: 0.4434299096433503\n"
     ]
    },
    {
     "data": {
      "image/png": "[encoded data removed]",
      "text/plain": [
       "<Figure size 432x288 with 1 Axes>"
      ]
     },
     "metadata": {
      "needs_background": "light"
     },
     "output_type": "display_data"
    }
   ],
   "source": [
    "effect_size_and_power(df1, 'Disc_1')"
   ]
  },
  {
   "cell_type": "markdown",
   "metadata": {},
   "source": [
    "#### Discount of 15%"
   ]
  },
  {
   "cell_type": "code",
   "execution_count": 195,
   "metadata": {},
   "outputs": [
    {
     "name": "stdout",
     "output_type": "stream",
     "text": [
      "For  Disc_15\n",
      "mean difference: 6.666903646097818\n",
      "effect size: 0.3724449105051501\n",
      "power: 0.9081967665759155\n"
     ]
    },
    {
     "data": {
      "image/png": "[encoded data removed]",
      "text/plain": [
       "<Figure size 432x288 with 1 Axes>"
      ]
     },
     "metadata": {
      "needs_background": "light"
     },
     "output_type": "display_data"
    }
   ],
   "source": [
    "effect_size_and_power(df1, 'Disc_15')"
   ]
  },
  {
   "cell_type": "markdown",
   "metadata": {},
   "source": [
    "#### Discount 20%"
   ]
  },
  {
   "cell_type": "code",
   "execution_count": 197,
   "metadata": {},
   "outputs": [
    {
     "name": "stdout",
     "output_type": "stream",
     "text": [
      "For  Disc_2\n",
      "mean difference: 5.309582761499172\n",
      "effect size: 0.3007245635324175\n",
      "power: 0.7673324966379403\n"
     ]
    },
    {
     "data": {
      "image/png": "[encoded data removed]",
      "text/plain": [
       "<Figure size 432x288 with 1 Axes>"
      ]
     },
     "metadata": {
      "needs_background": "light"
     },
     "output_type": "display_data"
    }
   ],
   "source": [
    "effect_size_and_power(df1, 'Disc_2')"
   ]
  },
  {
   "cell_type": "markdown",
   "metadata": {},
   "source": [
    "#### Discount of 25%"
   ]
  },
  {
   "cell_type": "code",
   "execution_count": 198,
   "metadata": {},
   "outputs": [
    {
     "name": "stdout",
     "output_type": "stream",
     "text": [
      "For  Disc_25\n",
      "mean difference: 6.5249977812620195\n",
      "effect size: 0.3666231778382251\n",
      "power: 0.8938065451941145\n"
     ]
    },
    {
     "data": {
      "image/png": "[encoded data removed]",
      "text/plain": [
       "<Figure size 432x288 with 1 Axes>"
      ]
     },
     "metadata": {
      "needs_background": "light"
     },
     "output_type": "display_data"
    }
   ],
   "source": [
    "effect_size_and_power(df1, 'Disc_25')"
   ]
  },
  {
   "cell_type": "markdown",
   "metadata": {},
   "source": [
    "### Oberservations:\n",
    "5%, then 15%, then 25% have the highest power and are the most statistically significant discount levels"
   ]
  },
  {
   "cell_type": "markdown",
   "metadata": {},
   "source": [
    "# 2\n",
    "Do US employees sell significantly more than UK employees"
   ]
  },
  {
   "cell_type": "code",
   "execution_count": 199,
   "metadata": {},
   "outputs": [],
   "source": [
    "query2 = \"\"\"SELECT Country, EmployeeId, OrderId, SUM(UnitPrice*Quantity*(1-Discount)) as TotalSales\n",
    "            FROM Employee\n",
    "            JOIN [Order]\n",
    "                ON [Order].EmployeeId = Employee.ID\n",
    "            JOIN OrderDetail\n",
    "                ON [Order].Id = OrderDetail.OrderId\n",
    "            GROUP BY OrderID\n",
    "            ;\"\"\""
   ]
  },
  {
   "cell_type": "code",
   "execution_count": 200,
   "metadata": {},
   "outputs": [
    {
     "data": {
      "text/html": [
       "<div>\n",
       "<style scoped>\n",
       "    .dataframe tbody tr th:only-of-type {\n",
       "        vertical-align: middle;\n",
       "    }\n",
       "\n",
       "    .dataframe tbody tr th {\n",
       "        vertical-align: top;\n",
       "    }\n",
       "\n",
       "    .dataframe thead th {\n",
       "        text-align: right;\n",
       "    }\n",
       "</style>\n",
       "<table border=\"1\" class=\"dataframe\">\n",
       "  <thead>\n",
       "    <tr style=\"text-align: right;\">\n",
       "      <th></th>\n",
       "      <th>Country</th>\n",
       "      <th>EmployeeId</th>\n",
       "      <th>OrderId</th>\n",
       "      <th>TotalSales</th>\n",
       "    </tr>\n",
       "  </thead>\n",
       "  <tbody>\n",
       "    <tr>\n",
       "      <th>0</th>\n",
       "      <td>UK</td>\n",
       "      <td>5</td>\n",
       "      <td>10248</td>\n",
       "      <td>440.00</td>\n",
       "    </tr>\n",
       "    <tr>\n",
       "      <th>1</th>\n",
       "      <td>UK</td>\n",
       "      <td>6</td>\n",
       "      <td>10249</td>\n",
       "      <td>1863.40</td>\n",
       "    </tr>\n",
       "    <tr>\n",
       "      <th>2</th>\n",
       "      <td>USA</td>\n",
       "      <td>4</td>\n",
       "      <td>10250</td>\n",
       "      <td>1552.60</td>\n",
       "    </tr>\n",
       "    <tr>\n",
       "      <th>3</th>\n",
       "      <td>USA</td>\n",
       "      <td>3</td>\n",
       "      <td>10251</td>\n",
       "      <td>654.06</td>\n",
       "    </tr>\n",
       "    <tr>\n",
       "      <th>4</th>\n",
       "      <td>USA</td>\n",
       "      <td>4</td>\n",
       "      <td>10252</td>\n",
       "      <td>3597.90</td>\n",
       "    </tr>\n",
       "  </tbody>\n",
       "</table>\n",
       "</div>"
      ],
      "text/plain": [
       "  Country  EmployeeId  OrderId  TotalSales\n",
       "0      UK           5    10248      440.00\n",
       "1      UK           6    10249     1863.40\n",
       "2     USA           4    10250     1552.60\n",
       "3     USA           3    10251      654.06\n",
       "4     USA           4    10252     3597.90"
      ]
     },
     "execution_count": 200,
     "metadata": {},
     "output_type": "execute_result"
    }
   ],
   "source": [
    "df2 = query_to_df(query2)\n",
    "df2.head()"
   ]
  },
  {
   "cell_type": "code",
   "execution_count": 211,
   "metadata": {},
   "outputs": [
    {
     "data": {
      "image/png": "[encoded data removed]",
      "text/plain": [
       "<Figure size 432x288 with 1 Axes>"
      ]
     },
     "metadata": {
      "needs_background": "light"
     },
     "output_type": "display_data"
    }
   ],
   "source": [
    "sns.distplot(df2.TotalSales);"
   ]
  },
  {
   "cell_type": "code",
   "execution_count": 201,
   "metadata": {},
   "outputs": [
    {
     "name": "stdout",
     "output_type": "stream",
     "text": [
      "                  sum_sq     df         F    PR(>F)\n",
      "C(Country)  5.393852e+04    1.0  0.015824  0.899927\n",
      "Residual    2.822429e+09  828.0       NaN       NaN\n"
     ]
    }
   ],
   "source": [
    "#Run ANOVA to see if there is any significance between Country and TotalSales\n",
    "formula = 'TotalSales ~ C(Country)'\n",
    "lm = ols(formula, df2).fit()\n",
    "table = sm.stats.anova_lm(lm, typ=2)\n",
    "print(table)"
   ]
  },
  {
   "cell_type": "code",
   "execution_count": 214,
   "metadata": {},
   "outputs": [],
   "source": [
    "us_employees = df2[df2['Country'] == 'USA']\n"
   ]
  },
  {
   "cell_type": "code",
   "execution_count": 219,
   "metadata": {},
   "outputs": [
    {
     "data": {
      "text/html": [
       "<div>\n",
       "<style scoped>\n",
       "    .dataframe tbody tr th:only-of-type {\n",
       "        vertical-align: middle;\n",
       "    }\n",
       "\n",
       "    .dataframe tbody tr th {\n",
       "        vertical-align: top;\n",
       "    }\n",
       "\n",
       "    .dataframe thead th {\n",
       "        text-align: right;\n",
       "    }\n",
       "</style>\n",
       "<table border=\"1\" class=\"dataframe\">\n",
       "  <thead>\n",
       "    <tr style=\"text-align: right;\">\n",
       "      <th></th>\n",
       "      <th>EmployeeId</th>\n",
       "      <th>OrderId</th>\n",
       "      <th>TotalSales</th>\n",
       "    </tr>\n",
       "  </thead>\n",
       "  <tbody>\n",
       "    <tr>\n",
       "      <th>count</th>\n",
       "      <td>606.000000</td>\n",
       "      <td>606.000000</td>\n",
       "      <td>606.000000</td>\n",
       "    </tr>\n",
       "    <tr>\n",
       "      <th>mean</th>\n",
       "      <td>3.551155</td>\n",
       "      <td>10661.547855</td>\n",
       "      <td>1520.150703</td>\n",
       "    </tr>\n",
       "    <tr>\n",
       "      <th>std</th>\n",
       "      <td>2.285388</td>\n",
       "      <td>241.069141</td>\n",
       "      <td>1829.031323</td>\n",
       "    </tr>\n",
       "    <tr>\n",
       "      <th>min</th>\n",
       "      <td>1.000000</td>\n",
       "      <td>10250.000000</td>\n",
       "      <td>18.400000</td>\n",
       "    </tr>\n",
       "    <tr>\n",
       "      <th>25%</th>\n",
       "      <td>2.000000</td>\n",
       "      <td>10449.250000</td>\n",
       "      <td>456.750000</td>\n",
       "    </tr>\n",
       "    <tr>\n",
       "      <th>50%</th>\n",
       "      <td>3.000000</td>\n",
       "      <td>10661.000000</td>\n",
       "      <td>1013.872500</td>\n",
       "    </tr>\n",
       "    <tr>\n",
       "      <th>75%</th>\n",
       "      <td>4.000000</td>\n",
       "      <td>10871.000000</td>\n",
       "      <td>1847.660000</td>\n",
       "    </tr>\n",
       "    <tr>\n",
       "      <th>max</th>\n",
       "      <td>8.000000</td>\n",
       "      <td>11077.000000</td>\n",
       "      <td>16387.500000</td>\n",
       "    </tr>\n",
       "  </tbody>\n",
       "</table>\n",
       "</div>"
      ],
      "text/plain": [
       "       EmployeeId       OrderId    TotalSales\n",
       "count  606.000000    606.000000    606.000000\n",
       "mean     3.551155  10661.547855   1520.150703\n",
       "std      2.285388    241.069141   1829.031323\n",
       "min      1.000000  10250.000000     18.400000\n",
       "25%      2.000000  10449.250000    456.750000\n",
       "50%      3.000000  10661.000000   1013.872500\n",
       "75%      4.000000  10871.000000   1847.660000\n",
       "max      8.000000  11077.000000  16387.500000"
      ]
     },
     "execution_count": 219,
     "metadata": {},
     "output_type": "execute_result"
    }
   ],
   "source": [
    "us_employees.describe()"
   ]
  },
  {
   "cell_type": "code",
   "execution_count": 217,
   "metadata": {},
   "outputs": [],
   "source": [
    "uk_employees = df2[df2['Country'] == 'UK']"
   ]
  },
  {
   "cell_type": "code",
   "execution_count": 218,
   "metadata": {},
   "outputs": [
    {
     "data": {
      "text/html": [
       "<div>\n",
       "<style scoped>\n",
       "    .dataframe tbody tr th:only-of-type {\n",
       "        vertical-align: middle;\n",
       "    }\n",
       "\n",
       "    .dataframe tbody tr th {\n",
       "        vertical-align: top;\n",
       "    }\n",
       "\n",
       "    .dataframe thead th {\n",
       "        text-align: right;\n",
       "    }\n",
       "</style>\n",
       "<table border=\"1\" class=\"dataframe\">\n",
       "  <thead>\n",
       "    <tr style=\"text-align: right;\">\n",
       "      <th></th>\n",
       "      <th>EmployeeId</th>\n",
       "      <th>OrderId</th>\n",
       "      <th>TotalSales</th>\n",
       "    </tr>\n",
       "  </thead>\n",
       "  <tbody>\n",
       "    <tr>\n",
       "      <th>count</th>\n",
       "      <td>224.000000</td>\n",
       "      <td>224.000000</td>\n",
       "      <td>224.000000</td>\n",
       "    </tr>\n",
       "    <tr>\n",
       "      <th>mean</th>\n",
       "      <td>6.709821</td>\n",
       "      <td>10665.075893</td>\n",
       "      <td>1538.311221</td>\n",
       "    </tr>\n",
       "    <tr>\n",
       "      <th>std</th>\n",
       "      <td>1.319292</td>\n",
       "      <td>236.639797</td>\n",
       "      <td>1892.265365</td>\n",
       "    </tr>\n",
       "    <tr>\n",
       "      <th>min</th>\n",
       "      <td>5.000000</td>\n",
       "      <td>10248.000000</td>\n",
       "      <td>12.500000</td>\n",
       "    </tr>\n",
       "    <tr>\n",
       "      <th>25%</th>\n",
       "      <td>6.000000</td>\n",
       "      <td>10482.250000</td>\n",
       "      <td>454.066250</td>\n",
       "    </tr>\n",
       "    <tr>\n",
       "      <th>50%</th>\n",
       "      <td>7.000000</td>\n",
       "      <td>10666.500000</td>\n",
       "      <td>868.650000</td>\n",
       "    </tr>\n",
       "    <tr>\n",
       "      <th>75%</th>\n",
       "      <td>7.000000</td>\n",
       "      <td>10869.250000</td>\n",
       "      <td>1896.087500</td>\n",
       "    </tr>\n",
       "    <tr>\n",
       "      <th>max</th>\n",
       "      <td>9.000000</td>\n",
       "      <td>11074.000000</td>\n",
       "      <td>12615.050000</td>\n",
       "    </tr>\n",
       "  </tbody>\n",
       "</table>\n",
       "</div>"
      ],
      "text/plain": [
       "       EmployeeId       OrderId    TotalSales\n",
       "count  224.000000    224.000000    224.000000\n",
       "mean     6.709821  10665.075893   1538.311221\n",
       "std      1.319292    236.639797   1892.265365\n",
       "min      5.000000  10248.000000     12.500000\n",
       "25%      6.000000  10482.250000    454.066250\n",
       "50%      7.000000  10666.500000    868.650000\n",
       "75%      7.000000  10869.250000   1896.087500\n",
       "max      9.000000  11074.000000  12615.050000"
      ]
     },
     "execution_count": 218,
     "metadata": {},
     "output_type": "execute_result"
    }
   ],
   "source": [
    "uk_employees.describe()"
   ]
  },
  {
   "cell_type": "code",
   "execution_count": 221,
   "metadata": {},
   "outputs": [
    {
     "data": {
      "image/png": "[encoded data removed]",
      "text/plain": [
       "<Figure size 432x288 with 1 Axes>"
      ]
     },
     "metadata": {
      "needs_background": "light"
     },
     "output_type": "display_data"
    }
   ],
   "source": [
    "sns.distplot(us_employees.TotalSales);\n",
    "sns.distplot(uk_employees.TotalSales);"
   ]
  },
  {
   "cell_type": "markdown",
   "metadata": {},
   "source": [
    "## Do some Box and Whisker plots here too"
   ]
  },
  {
   "cell_type": "markdown",
   "metadata": {},
   "source": [
    "There is no statistical significance between the Country of Employee and TotalSales"
   ]
  },
  {
   "cell_type": "markdown",
   "metadata": {},
   "source": [
    "# 3 \n",
    "3. Does an employees age have a statistically signifiant effect on order totals"
   ]
  },
  {
   "cell_type": "code",
   "execution_count": 222,
   "metadata": {},
   "outputs": [],
   "source": [
    "query3 = \"\"\"SELECT Birthdate, EmployeeId, OrderId, SUM(UnitPrice*Quantity*(1-Discount)) as TotalSales\n",
    "            FROM Employee\n",
    "            JOIN [Order]\n",
    "                ON [Order].EmployeeId = Employee.ID\n",
    "            JOIN OrderDetail\n",
    "                ON [Order].Id = OrderDetail.OrderId\n",
    "            GROUP BY OrderID\n",
    "            ;\"\"\""
   ]
  },
  {
   "cell_type": "code",
   "execution_count": 223,
   "metadata": {},
   "outputs": [
    {
     "data": {
      "text/html": [
       "<div>\n",
       "<style scoped>\n",
       "    .dataframe tbody tr th:only-of-type {\n",
       "        vertical-align: middle;\n",
       "    }\n",
       "\n",
       "    .dataframe tbody tr th {\n",
       "        vertical-align: top;\n",
       "    }\n",
       "\n",
       "    .dataframe thead th {\n",
       "        text-align: right;\n",
       "    }\n",
       "</style>\n",
       "<table border=\"1\" class=\"dataframe\">\n",
       "  <thead>\n",
       "    <tr style=\"text-align: right;\">\n",
       "      <th></th>\n",
       "      <th>BirthDate</th>\n",
       "      <th>EmployeeId</th>\n",
       "      <th>OrderId</th>\n",
       "      <th>TotalSales</th>\n",
       "    </tr>\n",
       "  </thead>\n",
       "  <tbody>\n",
       "    <tr>\n",
       "      <th>0</th>\n",
       "      <td>1987-03-04</td>\n",
       "      <td>5</td>\n",
       "      <td>10248</td>\n",
       "      <td>440.00</td>\n",
       "    </tr>\n",
       "    <tr>\n",
       "      <th>1</th>\n",
       "      <td>1995-07-02</td>\n",
       "      <td>6</td>\n",
       "      <td>10249</td>\n",
       "      <td>1863.40</td>\n",
       "    </tr>\n",
       "    <tr>\n",
       "      <th>2</th>\n",
       "      <td>1969-09-19</td>\n",
       "      <td>4</td>\n",
       "      <td>10250</td>\n",
       "      <td>1552.60</td>\n",
       "    </tr>\n",
       "    <tr>\n",
       "      <th>3</th>\n",
       "      <td>1995-08-30</td>\n",
       "      <td>3</td>\n",
       "      <td>10251</td>\n",
       "      <td>654.06</td>\n",
       "    </tr>\n",
       "    <tr>\n",
       "      <th>4</th>\n",
       "      <td>1969-09-19</td>\n",
       "      <td>4</td>\n",
       "      <td>10252</td>\n",
       "      <td>3597.90</td>\n",
       "    </tr>\n",
       "  </tbody>\n",
       "</table>\n",
       "</div>"
      ],
      "text/plain": [
       "    BirthDate  EmployeeId  OrderId  TotalSales\n",
       "0  1987-03-04           5    10248      440.00\n",
       "1  1995-07-02           6    10249     1863.40\n",
       "2  1969-09-19           4    10250     1552.60\n",
       "3  1995-08-30           3    10251      654.06\n",
       "4  1969-09-19           4    10252     3597.90"
      ]
     },
     "execution_count": 223,
     "metadata": {},
     "output_type": "execute_result"
    }
   ],
   "source": [
    "df3 = query_to_df(query3)\n",
    "df3.head()"
   ]
  },
  {
   "cell_type": "code",
   "execution_count": 225,
   "metadata": {},
   "outputs": [
    {
     "data": {
      "text/plain": [
       "1969-09-19    156\n",
       "1995-08-30    127\n",
       "1980-12-08    123\n",
       "1990-01-09    104\n",
       "1984-02-19     96\n",
       "1992-05-29     72\n",
       "1995-07-02     67\n",
       "1998-01-27     43\n",
       "1987-03-04     42\n",
       "Name: BirthDate, dtype: int64"
      ]
     },
     "execution_count": 225,
     "metadata": {},
     "output_type": "execute_result"
    }
   ],
   "source": [
    "df3.BirthDate.value_counts()"
   ]
  },
  {
   "cell_type": "code",
   "execution_count": 226,
   "metadata": {},
   "outputs": [
    {
     "name": "stdout",
     "output_type": "stream",
     "text": [
      "                    sum_sq     df        F    PR(>F)\n",
      "C(BirthDate)  3.358256e+07    8.0  1.23576  0.274783\n",
      "Residual      2.788901e+09  821.0      NaN       NaN\n"
     ]
    }
   ],
   "source": [
    "#Run ANOVA to see if there is any significance between Country and TotalSales\n",
    "formula = 'TotalSales ~ C(BirthDate)'\n",
    "lm = ols(formula, df3).fit()\n",
    "table = sm.stats.anova_lm(lm, typ=2)\n",
    "print(table)"
   ]
  },
  {
   "cell_type": "markdown",
   "metadata": {},
   "source": [
    "### Need to graph out all the Birthdates. Maybe Box and Whisker plots"
   ]
  },
  {
   "cell_type": "markdown",
   "metadata": {
    "heading_collapsed": true
   },
   "source": [
    "# 4\n",
    "4. Do countries shipped have a statistically significant effect on discounts"
   ]
  },
  {
   "cell_type": "code",
   "execution_count": 227,
   "metadata": {
    "hidden": true
   },
   "outputs": [],
   "source": [
    "query4 = \"\"\"SELECT ShipCountry, OrderId, Discount\n",
    "           FROM [Order]\n",
    "           JOIN OrderDetail\n",
    "                ON [Order].Id = OrderDetail.OrderId\n",
    "            ;\"\"\""
   ]
  },
  {
   "cell_type": "code",
   "execution_count": 228,
   "metadata": {
    "hidden": true
   },
   "outputs": [
    {
     "data": {
      "text/html": [
       "<div>\n",
       "<style scoped>\n",
       "    .dataframe tbody tr th:only-of-type {\n",
       "        vertical-align: middle;\n",
       "    }\n",
       "\n",
       "    .dataframe tbody tr th {\n",
       "        vertical-align: top;\n",
       "    }\n",
       "\n",
       "    .dataframe thead th {\n",
       "        text-align: right;\n",
       "    }\n",
       "</style>\n",
       "<table border=\"1\" class=\"dataframe\">\n",
       "  <thead>\n",
       "    <tr style=\"text-align: right;\">\n",
       "      <th></th>\n",
       "      <th>ShipCountry</th>\n",
       "      <th>OrderId</th>\n",
       "      <th>Discount</th>\n",
       "    </tr>\n",
       "  </thead>\n",
       "  <tbody>\n",
       "    <tr>\n",
       "      <th>0</th>\n",
       "      <td>France</td>\n",
       "      <td>10248</td>\n",
       "      <td>0.0</td>\n",
       "    </tr>\n",
       "    <tr>\n",
       "      <th>1</th>\n",
       "      <td>France</td>\n",
       "      <td>10248</td>\n",
       "      <td>0.0</td>\n",
       "    </tr>\n",
       "    <tr>\n",
       "      <th>2</th>\n",
       "      <td>France</td>\n",
       "      <td>10248</td>\n",
       "      <td>0.0</td>\n",
       "    </tr>\n",
       "    <tr>\n",
       "      <th>3</th>\n",
       "      <td>Germany</td>\n",
       "      <td>10249</td>\n",
       "      <td>0.0</td>\n",
       "    </tr>\n",
       "    <tr>\n",
       "      <th>4</th>\n",
       "      <td>Germany</td>\n",
       "      <td>10249</td>\n",
       "      <td>0.0</td>\n",
       "    </tr>\n",
       "  </tbody>\n",
       "</table>\n",
       "</div>"
      ],
      "text/plain": [
       "  ShipCountry  OrderId  Discount\n",
       "0      France    10248       0.0\n",
       "1      France    10248       0.0\n",
       "2      France    10248       0.0\n",
       "3     Germany    10249       0.0\n",
       "4     Germany    10249       0.0"
      ]
     },
     "execution_count": 228,
     "metadata": {},
     "output_type": "execute_result"
    }
   ],
   "source": [
    "df4 = query_to_df(query4)\n",
    "df4.head()"
   ]
  },
  {
   "cell_type": "code",
   "execution_count": 229,
   "metadata": {
    "hidden": true
   },
   "outputs": [
    {
     "name": "stdout",
     "output_type": "stream",
     "text": [
      "<class 'pandas.core.frame.DataFrame'>\n",
      "RangeIndex: 2155 entries, 0 to 2154\n",
      "Data columns (total 3 columns):\n",
      "ShipCountry    2155 non-null object\n",
      "OrderId        2155 non-null int64\n",
      "Discount       2155 non-null float64\n",
      "dtypes: float64(1), int64(1), object(1)\n",
      "memory usage: 50.6+ KB\n"
     ]
    }
   ],
   "source": [
    "df4.info()"
   ]
  },
  {
   "cell_type": "code",
   "execution_count": 230,
   "metadata": {
    "hidden": true
   },
   "outputs": [
    {
     "data": {
      "text/plain": [
       "USA            352\n",
       "Germany        328\n",
       "Brazil         203\n",
       "France         184\n",
       "UK             135\n",
       "Austria        125\n",
       "Venezuela      118\n",
       "Sweden          97\n",
       "Canada          75\n",
       "Mexico          72\n",
       "Belgium         56\n",
       "Ireland         55\n",
       "Finland         54\n",
       "Spain           54\n",
       "Italy           53\n",
       "Switzerland     52\n",
       "Denmark         46\n",
       "Argentina       34\n",
       "Portugal        30\n",
       "Norway          16\n",
       "Poland          16\n",
       "Name: ShipCountry, dtype: int64"
      ]
     },
     "execution_count": 230,
     "metadata": {},
     "output_type": "execute_result"
    }
   ],
   "source": [
    "df4.ShipCountry.value_counts()"
   ]
  },
  {
   "cell_type": "code",
   "execution_count": 232,
   "metadata": {
    "hidden": true
   },
   "outputs": [
    {
     "name": "stdout",
     "output_type": "stream",
     "text": [
      "                   sum_sq      df         F        PR(>F)\n",
      "C(ShipCountry)   0.889406    20.0  6.725257  2.548583e-18\n",
      "Residual        14.110934  2134.0       NaN           NaN\n"
     ]
    }
   ],
   "source": [
    "#Run ANOVA to see if there is any significance between Country and TotalSales\n",
    "formula = 'Discount ~ C(ShipCountry)'\n",
    "lm = ols(formula, df4).fit()\n",
    "table = sm.stats.anova_lm(lm, typ=2)\n",
    "print(table)"
   ]
  },
  {
   "cell_type": "markdown",
   "metadata": {
    "hidden": true
   },
   "source": [
    "## Big time\n",
    "Need to explore what countries are most significdant maybe"
   ]
  },
  {
   "cell_type": "markdown",
   "metadata": {},
   "source": [
    "# Conclusion"
   ]
  },
  {
   "cell_type": "code",
   "execution_count": null,
   "metadata": {},
   "outputs": [],
   "source": []
  }
 ],
 "metadata": {
  "kernelspec": {
   "display_name": "Python 3",
   "language": "python",
   "name": "python3"
  },
  "language_info": {
   "codemirror_mode": {
    "name": "ipython",
    "version": 3
   },
   "file_extension": ".py",
   "mimetype": "text/x-python",
   "name": "python",
   "nbconvert_exporter": "python",
   "pygments_lexer": "ipython3",
   "version": "3.7.3"
  },
  "toc": {
   "base_numbering": 1,
   "nav_menu": {},
   "number_sections": true,
   "sideBar": true,
   "skip_h1_title": false,
   "title_cell": "Table of Contents",
   "title_sidebar": "Contents",
   "toc_cell": true,
   "toc_position": {
    "height": "541px",
    "left": "126px",
    "top": "181px",
    "width": "256px"
   },
   "toc_section_display": true,
   "toc_window_display": false
  }
 },
 "nbformat": 4,
 "nbformat_minor": 2
}
